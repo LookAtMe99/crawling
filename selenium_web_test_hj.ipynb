{
 "cells": [
  {
   "cell_type": "code",
   "execution_count": null,
   "metadata": {
    "collapsed": true
   },
   "outputs": [],
   "source": [
    "from selenium import webdriver\n",
    "import base64, pickle, time\n",
    "from IPython.display import Image\n",
    "from IPython.display import display\n",
    "from PIL import Image as pil"
   ]
  },
  {
   "cell_type": "markdown",
   "metadata": {},
   "source": [
    "### Image Download Function"
   ]
  },
  {
   "cell_type": "code",
   "execution_count": null,
   "metadata": {
    "collapsed": true
   },
   "outputs": [],
   "source": [
    "# save image\n",
    "path = \"pages/\"\n",
    "filename_list = []\n",
    "def saveImage(driver, filename):\n",
    "    \"\"\" \n",
    "        driver : webdriver\n",
    "        filename : string filename\n",
    "    \"\"\"\n",
    "    time.sleep(3)\n",
    "    img_str = driver.get_screenshot_as_base64()\n",
    "    imgdata = base64.b64decode(img_str)\n",
    "    with open(path + filename, 'wb') as f:\n",
    "        f.write(imgdata)\n",
    "    filename_list.append(filename)\n",
    "    print(\"Saved : \" + filename)\n",
    "    "
   ]
  },
  {
   "cell_type": "markdown",
   "metadata": {},
   "source": [
    "### Set Login Process"
   ]
  },
  {
   "cell_type": "code",
   "execution_count": null,
   "metadata": {
    "collapsed": true
   },
   "outputs": [],
   "source": [
    "# open web browser\n",
    "driver =  webdriver.Chrome()\n",
    "# driver =  webdriver.PhantomJS()"
   ]
  },
  {
   "cell_type": "code",
   "execution_count": null,
   "metadata": {},
   "outputs": [],
   "source": [
    "# clear filename_list\n",
    "filename_list = []\n",
    "\n",
    "# move naver main page\n",
    "print(\"메인 페이지 이동\")\n",
    "driver.get(\"http://naver.com\")\n",
    "\n",
    "# save main page\n",
    "print(\"메인 페이지 저장\")\n",
    "saveImage(driver, \"naver_main.png\")\n",
    "\n",
    "# 로그인 버튼 클릭\n",
    "print(\"로그인 버튼 클릭\")\n",
    "driver.find_element_by_css_selector(\".btn_dis\").click()\n",
    "\n",
    "# save login page\n",
    "print(\"일회용 로그인 페이지 저장\")\n",
    "saveImage(driver, \"naver_login.png\")\n",
    "\n",
    "# 로그인\n",
    "#print(\"아이디 패스워드 입력후 로그인\")\n",
    "#pw = pickle.load(open(\"../pw.plk\", \"rb\"))\n",
    "#driver.find_element_by_css_selector( \"#id\" ).send_keys( \"1221pdj\" )\n",
    "#driver.find_element_by_css_selector( \"#pw\" ).send_keys( pw )\n",
    "#driver.find_element_by_css_selector(\".btn_global\").click()\n",
    "\n",
    "# save login page\n",
    "#print(\"로그인 후 페이지 저장\")\n",
    "#saveImage(driver, \"naver_after_login.png\")\n",
    "\n",
    "# 메일 페이지로 이동\n",
    "#print(\"메일 페이지로 이동\")\n",
    "#driver.get(\"http://mail.naver.com\")\n",
    "\n",
    "# save mail page\n",
    "#print(\"메일 페이지 저장\")\n",
    "#saveImage(driver, \"naver_mail.png\")\n",
    "\n",
    "print(\"브라우져 닫기\")\n",
    "driver.close()"
   ]
  },
  {
   "cell_type": "code",
   "execution_count": null,
   "metadata": {
    "scrolled": false
   },
   "outputs": [],
   "source": [
    "path = \"pages/\"\n",
    "for filename in filename_list:\n",
    "    print(filename)\n",
    "    display(Image(filename = path + filename))"
   ]
  },
  {
   "cell_type": "markdown",
   "metadata": {},
   "source": [
    "### Make Thumbnail"
   ]
  },
  {
   "cell_type": "code",
   "execution_count": null,
   "metadata": {
    "collapsed": true
   },
   "outputs": [],
   "source": [
    "size = (256, 256)\n",
    "path = \"pages/\"\n",
    "for filename in filename_list:\n",
    "    im = pil.open(path + filename)\n",
    "    im.thumbnail(size)\n",
    "    im.save(path + filename.split(\".\")[0] + \"_thumbnail.png\", \"png\")"
   ]
  },
  {
   "cell_type": "code",
   "execution_count": null,
   "metadata": {},
   "outputs": [],
   "source": [
    "from IPython.display import Image\n",
    "path = \"pages/\"\n",
    "for filename in filename_list:\n",
    "    filename = filename.split(\".\")[0] + \"_thumbnail.png\"\n",
    "    print(filename)\n",
    "    display(Image(filename = path + filename))"
   ]
  },
  {
   "cell_type": "code",
   "execution_count": null,
   "metadata": {
    "collapsed": true
   },
   "outputs": [],
   "source": []
  }
 ],
 "metadata": {
  "kernelspec": {
   "display_name": "Python 3",
   "language": "python",
   "name": "python3"
  },
  "language_info": {
   "codemirror_mode": {
    "name": "ipython",
    "version": 3
   },
   "file_extension": ".py",
   "mimetype": "text/x-python",
   "name": "python",
   "nbconvert_exporter": "python",
   "pygments_lexer": "ipython3",
   "version": "3.6.1"
  }
 },
 "nbformat": 4,
 "nbformat_minor": 2
}
