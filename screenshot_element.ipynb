{
 "cells": [
  {
   "cell_type": "code",
   "execution_count": 1,
   "metadata": {
    "collapsed": true,
    "deletable": true,
    "editable": true
   },
   "outputs": [],
   "source": [
    "from selenium import webdriver\n",
    "import base64, pickle, time\n",
    "from IPython.display import Image\n",
    "from IPython.display import display\n",
    "from PIL import Image as pil"
   ]
  },
  {
   "cell_type": "markdown",
   "metadata": {},
   "source": [
    "### 1. Get Youtube Images"
   ]
  },
  {
   "cell_type": "markdown",
   "metadata": {
    "deletable": true,
    "editable": true
   },
   "source": [
    "##### (1) Get Youtube Driver & Save Element Screen"
   ]
  },
  {
   "cell_type": "code",
   "execution_count": 2,
   "metadata": {
    "collapsed": false,
    "deletable": true,
    "editable": true
   },
   "outputs": [],
   "source": [
    "def getDriver(youtube_url):\n",
    "    driver =  webdriver.Chrome()\n",
    "    driver.get(youtube_url)\n",
    "    return driver\n",
    "\n",
    "def saveScreen(driver, filename):\n",
    "    element = driver.find_element_by_css_selector('#movie_player')\n",
    "    location = element.location\n",
    "    size = element.size\n",
    "    driver.save_screenshot('screenshot.png')\n",
    "    im = pil.open('screenshot.png')\n",
    "    left = location['x']\n",
    "    top = location['y'] * 2\n",
    "    right = left + size['width'] * 2\n",
    "    bottom = top + size['height'] * 2\n",
    "\n",
    "    # left, top, right, bottom\n",
    "    im = im.crop((left, top, right, bottom)) \n",
    "    im.save(filename) "
   ]
  },
  {
   "cell_type": "markdown",
   "metadata": {},
   "source": [
    "##### (2) Check Element"
   ]
  },
  {
   "cell_type": "code",
   "execution_count": 3,
   "metadata": {
    "collapsed": true
   },
   "outputs": [],
   "source": [
    "def checkElement(driver, selector):\n",
    "    result = True\n",
    "    try:\n",
    "        driver.find_element_by_css_selector(selector)\n",
    "    except:\n",
    "        result = False\n",
    "    return result"
   ]
  },
  {
   "cell_type": "markdown",
   "metadata": {
    "deletable": true,
    "editable": true
   },
   "source": [
    "##### (3) Skip Ad"
   ]
  },
  {
   "cell_type": "code",
   "execution_count": 4,
   "metadata": {
    "collapsed": false,
    "deletable": true,
    "editable": true
   },
   "outputs": [],
   "source": [
    "skipAd_selector = \".videoAdUiSkipButton.videoAdUiAction.videoAdUiFixedPaddingSkipButton\"\n",
    "closeAd_selector = \".adDisplay.extra-padding .close-button\"\n",
    "\n",
    "def skipAd(driver):\n",
    "    if checkElement(driver, skipAd_selector):\n",
    "        driver.find_element_by_css_selector(skipAd_selector).click()\n",
    "    \n",
    "def closeAd(driver):\n",
    "    if checkElement(driver, closeAd_selector):\n",
    "        driver.find_element_by_css_selector(closeAd_selector).click()"
   ]
  },
  {
   "cell_type": "markdown",
   "metadata": {
    "deletable": true,
    "editable": true
   },
   "source": [
    "### 2. Google Vision API"
   ]
  },
  {
   "cell_type": "code",
   "execution_count": 23,
   "metadata": {
    "collapsed": true,
    "deletable": true,
    "editable": true
   },
   "outputs": [],
   "source": [
    "# single thread\n",
    "def vision(filenames):\n",
    "    url = 'https://cloud.google.com/vision/'\n",
    "\n",
    "    # open site\n",
    "    driver =  webdriver.Chrome()\n",
    "    driver.get(url)\n",
    "\n",
    "    # enter iframe\n",
    "    iframe = driver.find_element_by_css_selector(\"#vision_demo_section iframe\")\n",
    "    driver.switch_to_frame(iframe)\n",
    "    \n",
    "    result = []\n",
    "    \n",
    "    for filename in filenames:\n",
    "    \n",
    "        # file upload\n",
    "        driver.find_element_by_id(\"input\").send_keys(filename)\n",
    "\n",
    "        # check done analytics\n",
    "        delay = 0\n",
    "        for _ in range(10):\n",
    "            if driver.find_element_by_css_selector(\"#results\").text != '':\n",
    "                break\n",
    "            time.sleep(1)\n",
    "            delay += 1\n",
    "        # print(\"Analytics Delay Time : {} sec\".format(delay))\n",
    "        \n",
    "        if delay >= 10:\n",
    "            continue\n",
    "        \n",
    "        # check face\n",
    "        isFace = True\n",
    "        try:\n",
    "            driver.find_element_by_css_selector('[data-type=\"faceAnnotations\"]')\n",
    "        except:\n",
    "            isFace = False\n",
    "\n",
    "        face_data_list = []\n",
    "\n",
    "        if isFace:\n",
    "            face_list = driver.find_elements_by_css_selector('.face.style-scope.vs-faces')\n",
    "            for idx, face in enumerate(face_list):\n",
    "                faceData = {\n",
    "                    \"name\":\"face \" + str(idx+1),\n",
    "                    \"confidence\": face.find_element_by_css_selector('.confidence .conf-score.style-scope.vs-faces').text\n",
    "                }          \n",
    "                expressions = face.find_elements_by_css_selector('.type-row.style-scope.vs-faces')\n",
    "                expressionData = {}\n",
    "                for expression in expressions:\n",
    "                    name = expression.find_element_by_css_selector('#label').text\n",
    "                    state = expression.find_element_by_css_selector('#text').text\n",
    "                    if \"Likely\" in state or \"Possible\" in state:\n",
    "                        state = 1\n",
    "                    else:\n",
    "                        state = 0\n",
    "                    expressionData[name] = state\n",
    "                faceData[\"expressions\"] = expressionData\n",
    "                face_data_list.append(faceData)  \n",
    "                \n",
    "        result.append(face_data_list)    \n",
    "        \n",
    "        # close image\n",
    "        driver.find_element_by_css_selector(\"#exit\").click()\n",
    "    driver.close()\n",
    "    return result"
   ]
  },
  {
   "cell_type": "code",
   "execution_count": 6,
   "metadata": {
    "collapsed": false,
    "deletable": true,
    "editable": true
   },
   "outputs": [],
   "source": [
    "def saveImages(youtube_url, start_term, image_count, save_term):\n",
    "    \n",
    "    # open driver\n",
    "    driver = getDriver(youtube_url)\n",
    "\n",
    "    # skip ad\n",
    "    time.sleep(6)\n",
    "    skipAd(driver)\n",
    "\n",
    "    # save images\n",
    "    time.sleep(start_term)\n",
    "    for idx in range(1, image_count+1):\n",
    "        saveScreen(driver, './data/images/screenshot' + str(idx) + '.png')\n",
    "        time.sleep(save_term)\n",
    "        print('saved : screenshot' + str(idx) + '.png')\n",
    "    # close driver\n",
    "    driver.close()"
   ]
  },
  {
   "cell_type": "code",
   "execution_count": 13,
   "metadata": {
    "collapsed": false
   },
   "outputs": [
    {
     "name": "stdout",
     "output_type": "stream",
     "text": [
      "saved : screenshot1.png\n",
      "saved : screenshot2.png\n",
      "saved : screenshot3.png\n",
      "saved : screenshot4.png\n",
      "saved : screenshot5.png\n",
      "saved : screenshot6.png\n",
      "saved : screenshot7.png\n",
      "saved : screenshot8.png\n",
      "saved : screenshot9.png\n",
      "saved : screenshot10.png\n",
      "saved : screenshot11.png\n",
      "saved : screenshot12.png\n",
      "saved : screenshot13.png\n",
      "saved : screenshot14.png\n",
      "saved : screenshot15.png\n",
      "saved : screenshot16.png\n",
      "saved : screenshot17.png\n",
      "saved : screenshot18.png\n",
      "saved : screenshot19.png\n",
      "saved : screenshot20.png\n",
      "saved : screenshot21.png\n",
      "saved : screenshot22.png\n",
      "saved : screenshot23.png\n",
      "saved : screenshot24.png\n",
      "saved : screenshot25.png\n",
      "saved : screenshot26.png\n",
      "saved : screenshot27.png\n",
      "saved : screenshot28.png\n",
      "saved : screenshot29.png\n",
      "saved : screenshot30.png\n",
      "saved : screenshot31.png\n",
      "saved : screenshot32.png\n",
      "saved : screenshot33.png\n",
      "saved : screenshot34.png\n",
      "saved : screenshot35.png\n",
      "saved : screenshot36.png\n",
      "saved : screenshot37.png\n",
      "saved : screenshot38.png\n",
      "saved : screenshot39.png\n",
      "saved : screenshot40.png\n",
      "saved : screenshot41.png\n",
      "saved : screenshot42.png\n",
      "saved : screenshot43.png\n",
      "saved : screenshot44.png\n",
      "saved : screenshot45.png\n",
      "saved : screenshot46.png\n",
      "saved : screenshot47.png\n",
      "saved : screenshot48.png\n",
      "saved : screenshot49.png\n",
      "saved : screenshot50.png\n",
      "CPU times: user 41.5 s, sys: 820 ms, total: 42.3 s\n",
      "Wall time: 1min 47s\n"
     ]
    }
   ],
   "source": [
    "%%time\n",
    "youtube_url = \"\" # 이미지 생성 youtube URL \n",
    "start_term = 25 # 20초 후 부터 이미지 생성\n",
    "image_count = 50 # 10개의 이미지 생성\n",
    "save_term = 0.1 # 저장 텀\n",
    "saveImages(youtube_url, start_term, image_count, save_term)"
   ]
  },
  {
   "cell_type": "code",
   "execution_count": 14,
   "metadata": {
    "collapsed": true
   },
   "outputs": [],
   "source": [
    "# make image list\n",
    "filenames = []\n",
    "for idx in range(1, image_count + 1):\n",
    "    filename = '/Users/rada/Documents/code/git/crawling/data/images/screenshot' + str(idx) + '.png'\n",
    "    filenames.append(filename)"
   ]
  },
  {
   "cell_type": "code",
   "execution_count": 16,
   "metadata": {
    "collapsed": false
   },
   "outputs": [],
   "source": [
    "# make thumnail\n",
    "size = (512, 512)\n",
    "thumnails = []\n",
    "for filename in filenames:\n",
    "    im = pil.open(filename)\n",
    "    im.thumbnail(size)\n",
    "    savename = filename.split(\"/\")\n",
    "    savename[len(savename)-1] = savename[len(savename)-1].replace(\".png\",\"_thumbnail.png\")\n",
    "    savename = \"/\".join(savename)\n",
    "    im.save(savename, \"png\")\n",
    "    thumnails.append(savename)"
   ]
  },
  {
   "cell_type": "code",
   "execution_count": 42,
   "metadata": {
    "collapsed": false,
    "deletable": true,
    "editable": true,
    "scrolled": false
   },
   "outputs": [
    {
     "name": "stdout",
     "output_type": "stream",
     "text": [
      "Analytics Delay Time : 3 sec\n",
      "Analytics Delay Time : 10 sec\n",
      "Analytics Delay Time : 3 sec\n",
      "Analytics Delay Time : 2 sec\n",
      "Analytics Delay Time : 3 sec\n",
      "Analytics Delay Time : 3 sec\n",
      "Analytics Delay Time : 3 sec\n",
      "Analytics Delay Time : 3 sec\n",
      "Analytics Delay Time : 3 sec\n",
      "Analytics Delay Time : 3 sec\n",
      "Analytics Delay Time : 3 sec\n",
      "Analytics Delay Time : 3 sec\n",
      "Analytics Delay Time : 3 sec\n",
      "Analytics Delay Time : 3 sec\n",
      "Analytics Delay Time : 3 sec\n",
      "Analytics Delay Time : 3 sec\n",
      "Analytics Delay Time : 3 sec\n",
      "Analytics Delay Time : 3 sec\n",
      "Analytics Delay Time : 3 sec\n",
      "Analytics Delay Time : 3 sec\n",
      "Analytics Delay Time : 3 sec\n",
      "Analytics Delay Time : 10 sec\n",
      "Analytics Delay Time : 3 sec\n",
      "Analytics Delay Time : 3 sec\n",
      "Analytics Delay Time : 3 sec\n",
      "Analytics Delay Time : 2 sec\n",
      "Analytics Delay Time : 3 sec\n",
      "Analytics Delay Time : 3 sec\n",
      "Analytics Delay Time : 3 sec\n",
      "Analytics Delay Time : 3 sec\n",
      "Analytics Delay Time : 10 sec\n",
      "Analytics Delay Time : 3 sec\n",
      "Analytics Delay Time : 3 sec\n",
      "Analytics Delay Time : 3 sec\n",
      "Analytics Delay Time : 2 sec\n",
      "Analytics Delay Time : 3 sec\n",
      "Analytics Delay Time : 10 sec\n",
      "Analytics Delay Time : 3 sec\n",
      "Analytics Delay Time : 2 sec\n",
      "Analytics Delay Time : 3 sec\n",
      "Analytics Delay Time : 2 sec\n",
      "Analytics Delay Time : 3 sec\n",
      "Analytics Delay Time : 3 sec\n",
      "Analytics Delay Time : 3 sec\n",
      "Analytics Delay Time : 10 sec\n",
      "Analytics Delay Time : 3 sec\n",
      "Analytics Delay Time : 3 sec\n",
      "Analytics Delay Time : 3 sec\n",
      "Analytics Delay Time : 3 sec\n",
      "Analytics Delay Time : 10 sec\n",
      "CPU times: user 1.03 s, sys: 186 ms, total: 1.22 s\n",
      "Wall time: 3min 39s\n"
     ]
    }
   ],
   "source": [
    "%%time\n",
    "result = vision(thumnails)"
   ]
  },
  {
   "cell_type": "code",
   "execution_count": 47,
   "metadata": {
    "collapsed": false,
    "deletable": true,
    "editable": true
   },
   "outputs": [],
   "source": [
    "person_count = 0\n",
    "scene_count = 0\n",
    "expressions = {'Joy':0, 'Sorrow':0, 'Anger':0, 'Surprise':0, 'Exposed':0, 'Blurred':0, 'Headwear':0}\n",
    "expression_list = ['Joy', 'Sorrow', 'Anger', 'Surprise', 'Exposed', 'Blurred', 'Headwear']\n",
    "\n",
    "for data in result:\n",
    "    scene_count += 1\n",
    "    person_count += len(data)\n",
    "    for face in data:\n",
    "        for expression in expression_list:\n",
    "            expressions[expression] = expressions[expression] + face['expressions'][expression]"
   ]
  },
  {
   "cell_type": "code",
   "execution_count": 48,
   "metadata": {
    "collapsed": false
   },
   "outputs": [
    {
     "data": {
      "text/plain": [
       "(44,\n",
       " 23,\n",
       " {'Anger': 2,\n",
       "  'Blurred': 0,\n",
       "  'Exposed': 0,\n",
       "  'Headwear': 8,\n",
       "  'Joy': 16,\n",
       "  'Sorrow': 0,\n",
       "  'Surprise': 1})"
      ]
     },
     "execution_count": 48,
     "metadata": {},
     "output_type": "execute_result"
    }
   ],
   "source": [
    "scene_count, person_count, expressions"
   ]
  },
  {
   "cell_type": "code",
   "execution_count": null,
   "metadata": {
    "collapsed": true
   },
   "outputs": [],
   "source": []
  }
 ],
 "metadata": {
  "kernelspec": {
   "display_name": "Python 3",
   "language": "python",
   "name": "python3"
  },
  "language_info": {
   "codemirror_mode": {
    "name": "ipython",
    "version": 3
   },
   "file_extension": ".py",
   "mimetype": "text/x-python",
   "name": "python",
   "nbconvert_exporter": "python",
   "pygments_lexer": "ipython3",
   "version": "3.6.0"
  }
 },
 "nbformat": 4,
 "nbformat_minor": 2
}
