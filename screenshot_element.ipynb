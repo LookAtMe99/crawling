{
 "cells": [
  {
   "cell_type": "code",
   "execution_count": 1,
   "metadata": {
    "collapsed": true,
    "deletable": true,
    "editable": true
   },
   "outputs": [],
   "source": [
    "from selenium import webdriver\n",
    "import base64, pickle, time, os, pickle\n",
    "from IPython.display import Image\n",
    "from IPython.display import display\n",
    "from PIL import Image as pil"
   ]
  },
  {
   "cell_type": "markdown",
   "metadata": {},
   "source": [
    "### 1. Get Youtube Images"
   ]
  },
  {
   "cell_type": "markdown",
   "metadata": {
    "deletable": true,
    "editable": true
   },
   "source": [
    "##### (1) Get Youtube Driver & Save Element Screen"
   ]
  },
  {
   "cell_type": "code",
   "execution_count": 2,
   "metadata": {
    "collapsed": false,
    "deletable": true,
    "editable": true
   },
   "outputs": [],
   "source": [
    "def getDriver(youtube_url):\n",
    "    driver =  webdriver.Chrome()\n",
    "#     driver.set_window_size(1920, 1080)\n",
    "    driver.get(youtube_url)\n",
    "    return driver\n",
    "\n",
    "def saveScreen(driver, filename):\n",
    "    element = driver.find_element_by_css_selector('#movie_player')\n",
    "    location = element.location\n",
    "    size = element.size\n",
    "    driver.save_screenshot('screenshot.png')\n",
    "    im = pil.open('screenshot.png')\n",
    "    left = location['x']\n",
    "    top = location['y'] * 2\n",
    "    right = left + size['width'] * 2\n",
    "    bottom = top + size['height'] * 2\n",
    "\n",
    "    # left, top, right, bottom\n",
    "    im = im.crop((left, top, right, bottom)) \n",
    "    im.save(filename) "
   ]
  },
  {
   "cell_type": "markdown",
   "metadata": {},
   "source": [
    "##### (2) Check Element"
   ]
  },
  {
   "cell_type": "code",
   "execution_count": 3,
   "metadata": {
    "collapsed": true
   },
   "outputs": [],
   "source": [
    "def checkElement(driver, selector):\n",
    "    result = True\n",
    "    try:\n",
    "        driver.find_element_by_css_selector(selector)\n",
    "    except:\n",
    "        result = False\n",
    "    return result"
   ]
  },
  {
   "cell_type": "markdown",
   "metadata": {
    "deletable": true,
    "editable": true
   },
   "source": [
    "##### (3) Skip Ad"
   ]
  },
  {
   "cell_type": "code",
   "execution_count": 4,
   "metadata": {
    "collapsed": false,
    "deletable": true,
    "editable": true
   },
   "outputs": [],
   "source": [
    "skipAd_selector = \".videoAdUiSkipButton.videoAdUiAction.videoAdUiFixedPaddingSkipButton\"\n",
    "closeAd_selector = \".adDisplay.extra-padding .close-button\"\n",
    "\n",
    "def skipAd(driver):\n",
    "    if checkElement(driver, skipAd_selector):\n",
    "        driver.find_element_by_css_selector(skipAd_selector).click()\n",
    "    \n",
    "def closeAd(driver):\n",
    "    if checkElement(driver, closeAd_selector):\n",
    "        driver.find_element_by_css_selector(closeAd_selector).click()"
   ]
  },
  {
   "cell_type": "markdown",
   "metadata": {},
   "source": [
    "##### (4) Make Directory"
   ]
  },
  {
   "cell_type": "code",
   "execution_count": 5,
   "metadata": {
    "collapsed": true
   },
   "outputs": [],
   "source": [
    "def makeDir(youtube_url):\n",
    "    dirList = os.listdir(\"./data/images/\")\n",
    "    dirName = youtube_url.split(\"v=\")[1]\n",
    "    isDir = True\n",
    "    if dirName not in dirList:\n",
    "        os.makedirs(\"./data/images/\" + dirName)\n",
    "        isDir = False\n",
    "    return isDir, dirName"
   ]
  },
  {
   "cell_type": "markdown",
   "metadata": {},
   "source": [
    "#### (5) Save Images"
   ]
  },
  {
   "cell_type": "code",
   "execution_count": 6,
   "metadata": {
    "collapsed": true
   },
   "outputs": [],
   "source": [
    "def saveImages(youtube_url, start_term, image_count, save_term, dirName):\n",
    "    \n",
    "    # open driver\n",
    "    driver = getDriver(youtube_url)\n",
    "\n",
    "    # skip ad\n",
    "    time.sleep(6)\n",
    "    skipAd(driver)\n",
    "\n",
    "    # save images\n",
    "    time.sleep(start_term)\n",
    "    for idx in range(1, image_count+1):\n",
    "        saveScreen(driver, './data/images/' + dirName + '/screenshot' + str(idx) + '.png')\n",
    "        time.sleep(save_term)\n",
    "        # print('saved : screenshot' + str(idx) + '.png')\n",
    "        \n",
    "        # check end of video\n",
    "        # if checkElement(driver, \".ytp-upnext-autoplay-icon\"):\n",
    "        #   break\n",
    "        \n",
    "    # close driver\n",
    "    driver.close()"
   ]
  },
  {
   "cell_type": "markdown",
   "metadata": {},
   "source": [
    "#### (6) make image list & thumnail"
   ]
  },
  {
   "cell_type": "code",
   "execution_count": 7,
   "metadata": {
    "collapsed": true
   },
   "outputs": [],
   "source": [
    "def makeTunmnail(image_count, dirName):\n",
    "    \n",
    "    # make image list\n",
    "    filenames = []\n",
    "    for idx in range(1, image_count + 1):\n",
    "        filename = '/Users/rada/Documents/code/git/crawling/data/images/' + dirName  + '/screenshot' + str(idx) + '.png'\n",
    "        filenames.append(filename)\n",
    "\n",
    "    # make thumnail\n",
    "    size = (512, 512)\n",
    "    thumnails = []\n",
    "    for filename in filenames:\n",
    "        im = pil.open(filename)\n",
    "        im.thumbnail(size)\n",
    "        savename = filename.split(\"/\")\n",
    "        savename[len(savename)-1] = savename[len(savename)-1].replace(\".png\",\"_thumbnail.png\")\n",
    "        savename = \"/\".join(savename)\n",
    "        im.save(savename, \"png\")\n",
    "        thumnails.append(savename)\n",
    "        \n",
    "    return thumnails"
   ]
  },
  {
   "cell_type": "markdown",
   "metadata": {
    "deletable": true,
    "editable": true
   },
   "source": [
    "### 2. Google Vision API"
   ]
  },
  {
   "cell_type": "code",
   "execution_count": 80,
   "metadata": {
    "collapsed": false,
    "deletable": true,
    "editable": true
   },
   "outputs": [],
   "source": [
    "# single thread\n",
    "def vision(filenames):\n",
    "    url = 'https://cloud.google.com/vision/'\n",
    "\n",
    "    # open site\n",
    "    driver =  webdriver.Chrome()\n",
    "    driver.get(url)\n",
    "\n",
    "    # enter iframe\n",
    "    iframe = driver.find_element_by_css_selector(\"#vision_demo_section iframe\")\n",
    "    driver.switch_to_frame(iframe)\n",
    "    \n",
    "    result = []\n",
    "    \n",
    "    for filename in filenames:\n",
    "        try:\n",
    "            # file upload\n",
    "            driver.find_element_by_id(\"input\").send_keys(filename)\n",
    "\n",
    "            # check done analytics\n",
    "            delay = 0\n",
    "            for _ in range(10):\n",
    "                if driver.find_element_by_css_selector(\"#results\").text != '':\n",
    "                    break\n",
    "                time.sleep(1)\n",
    "                delay += 1\n",
    "            # print(\"Analytics Delay Time : {} sec\".format(delay))\n",
    "\n",
    "            if delay >= 10:\n",
    "                continue\n",
    "\n",
    "            # check face\n",
    "            isFace = True\n",
    "            try:\n",
    "                driver.find_element_by_css_selector('[data-type=\"faceAnnotations\"]')\n",
    "            except:\n",
    "                isFace = False\n",
    "\n",
    "            face_data_list = []\n",
    "\n",
    "            if isFace:\n",
    "                face_list = driver.find_elements_by_css_selector('.face.style-scope.vs-faces')\n",
    "                for idx, face in enumerate(face_list):\n",
    "                    faceData = {\n",
    "                        \"name\":\"face \" + str(idx+1),\n",
    "                        \"confidence\": face.find_element_by_css_selector('.confidence .conf-score.style-scope.vs-faces').text\n",
    "                    }          \n",
    "                    expressions = face.find_elements_by_css_selector('.type-row.style-scope.vs-faces')\n",
    "                    expressionData = {}\n",
    "                    for expression in expressions:\n",
    "                        name = expression.find_element_by_css_selector('#label').text\n",
    "                        state = expression.find_element_by_css_selector('#text').text\n",
    "                        if \"Likely\" in state or \"Possible\" in state:\n",
    "                            state = 1\n",
    "                        else:\n",
    "                            state = 0\n",
    "                        expressionData[name] = state\n",
    "                    faceData[\"expressions\"] = expressionData\n",
    "                    face_data_list.append(faceData)  \n",
    "\n",
    "            result.append(face_data_list)    \n",
    "\n",
    "            # close image\n",
    "            for _ in range(10):\n",
    "                if checkElement(driver, \"#exit\"):\n",
    "                    break\n",
    "                else:\n",
    "                    time.sleep(0.1)\n",
    "            driver.find_element_by_css_selector(\"#exit\").click()\n",
    "        except:\n",
    "            pass\n",
    "#             print(\"anaytics error. (skip)\")\n",
    "    driver.close()\n",
    "    return result"
   ]
  },
  {
   "cell_type": "markdown",
   "metadata": {},
   "source": [
    "#### Save Images & Thumnails"
   ]
  },
  {
   "cell_type": "code",
   "execution_count": 72,
   "metadata": {
    "collapsed": true
   },
   "outputs": [],
   "source": [
    "# 여행에 미치다 (라오스)\n",
    "# youtube_url = \"https://www.youtube.com/watch?v=O32OrUMVhPo\" \n",
    "\n",
    "# 패밀리맨\n",
    "# youtube_url = \"https://www.youtube.com/watch?v=rkEwymrfkEY\" \n",
    "\n",
    "# 어바웃 타임\n",
    "# youtube_url = \"https://www.youtube.com/watch?v=tnyWkyDGWuM\" \n",
    "\n",
    "# 악녀 제작보고회\n",
    "youtube_url = \"https://www.youtube.com/watch?v=CdAHvaCT4nI\"\n",
    "\n",
    "# 도깨비 \n",
    "# youtube_url = \"https://www.youtube.com/watch?v=2kZg7byEYGA\""
   ]
  },
  {
   "cell_type": "code",
   "execution_count": 62,
   "metadata": {
    "collapsed": false
   },
   "outputs": [
    {
     "name": "stdout",
     "output_type": "stream",
     "text": [
      "CPU times: user 35.2 s, sys: 723 ms, total: 35.9 s\n",
      "Wall time: 2min\n"
     ]
    }
   ],
   "source": [
    "%%time\n",
    "isDir, dirName = makeDir(youtube_url)\n",
    "start_term = 50 # 0초 후 부터 이미지 생성\n",
    "image_count = 50 # 50개의 이미지 생성\n",
    "save_term = 0.1 # 저장 텀\n",
    "saveImages(youtube_url, start_term, image_count, save_term, dirName)\n",
    "\n",
    "# make thumnail\n",
    "thumnails = makeTunmnail(image_count, dirName)"
   ]
  },
  {
   "cell_type": "code",
   "execution_count": 74,
   "metadata": {
    "collapsed": true
   },
   "outputs": [],
   "source": [
    "thumnails = makeTunmnail(50, \"CdAHvaCT4nI\")"
   ]
  },
  {
   "cell_type": "markdown",
   "metadata": {},
   "source": [
    "#### Run Vision API"
   ]
  },
  {
   "cell_type": "code",
   "execution_count": 81,
   "metadata": {
    "collapsed": false,
    "deletable": true,
    "editable": true,
    "scrolled": false
   },
   "outputs": [
    {
     "name": "stdout",
     "output_type": "stream",
     "text": [
      "CPU times: user 31.7 ms, sys: 12.9 ms, total: 44.6 ms\n",
      "Wall time: 10 s\n"
     ]
    }
   ],
   "source": [
    "%%time\n",
    "result = vision(thumnails)"
   ]
  },
  {
   "cell_type": "code",
   "execution_count": 64,
   "metadata": {
    "collapsed": false,
    "deletable": true,
    "editable": true
   },
   "outputs": [],
   "source": [
    "expression_list = ['Joy', 'Sorrow', 'Anger', 'Surprise', 'Exposed', 'Blurred', 'Headwear']\n",
    "person_count = 0\n",
    "scene_count = 0\n",
    "\n",
    "expressions = {}\n",
    "for expression in expression_list:\n",
    "    expressions[expression] = 0\n",
    "\n",
    "for data in result:\n",
    "    scene_count += 1\n",
    "    person_count += len(data)\n",
    "    for face in data:\n",
    "        confidence = float(face[\"confidence\"].replace(\"%\", \"\")) * 0.01\n",
    "        confidence = round(confidence, 2)\n",
    "        for expression in expression_list:\n",
    "            number = int(face['expressions'][expression]) * confidence / person_count\n",
    "            expressions[expression] = round(expressions[expression] + number, 2)"
   ]
  },
  {
   "cell_type": "code",
   "execution_count": 67,
   "metadata": {
    "collapsed": false
   },
   "outputs": [
    {
     "name": "stdout",
     "output_type": "stream",
     "text": [
      "{'scene_count': 37, 'person_count': 34, 'expressions': {'Joy': 0.06, 'Sorrow': 0.0, 'Anger': 0.0, 'Surprise': 0.0, 'Exposed': 0.0, 'Blurred': 0.0, 'Headwear': 0.0}}\n"
     ]
    }
   ],
   "source": [
    "summary_data = {\n",
    "    \"scene_count\":scene_count,\n",
    "    \"person_count\":person_count,\n",
    "    \"expressions\":expressions,\n",
    "}\n",
    "\n",
    "# save\n",
    "path = '/Users/rada/Documents/code/git/crawling/data/images/' + dirName  + '/result.plk'\n",
    "pickle.dump(summary_data, open(path, 'wb'))\n",
    "\n",
    "# read\n",
    "with open(path, 'rb') as file:\n",
    "    summary_data = pickle.load(file)\n",
    "    print(summary_data)"
   ]
  },
  {
   "cell_type": "code",
   "execution_count": 71,
   "metadata": {
    "collapsed": false
   },
   "outputs": [
    {
     "name": "stdout",
     "output_type": "stream",
     "text": [
      "{'scene_count': 44, 'person_count': 27, 'expressions': {'Joy': 0.55, 'Sorrow': 0.0, 'Anger': 0.0, 'Surprise': 0.04, 'Exposed': 0.0, 'Blurred': 0.0, 'Headwear': 0.29}}\n"
     ]
    }
   ],
   "source": [
    "# read\n",
    "dirName = \"tnyWkyDGWuM\"\n",
    "path = '/Users/rada/Documents/code/git/crawling/data/images/' + dirName  + '/result.plk'\n",
    "with open(path, 'rb') as file:\n",
    "    summary_data = pickle.load(file)\n",
    "    print(summary_data)"
   ]
  },
  {
   "cell_type": "code",
   "execution_count": null,
   "metadata": {
    "collapsed": true
   },
   "outputs": [],
   "source": []
  }
 ],
 "metadata": {
  "kernelspec": {
   "display_name": "Python 3",
   "language": "python",
   "name": "python3"
  },
  "language_info": {
   "codemirror_mode": {
    "name": "ipython",
    "version": 3
   },
   "file_extension": ".py",
   "mimetype": "text/x-python",
   "name": "python",
   "nbconvert_exporter": "python",
   "pygments_lexer": "ipython3",
   "version": "3.6.0"
  }
 },
 "nbformat": 4,
 "nbformat_minor": 2
}
