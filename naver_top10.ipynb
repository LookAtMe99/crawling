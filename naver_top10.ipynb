{
 "cells": [
  {
   "cell_type": "code",
   "execution_count": 15,
   "metadata": {
    "collapsed": true,
    "deletable": true,
    "editable": true
   },
   "outputs": [],
   "source": [
    "import requests\n",
    "from bs4 import BeautifulSoup"
   ]
  },
  {
   "cell_type": "markdown",
   "metadata": {},
   "source": [
    "### Naver Top Rank Keywords 20"
   ]
  },
  {
   "cell_type": "code",
   "execution_count": 16,
   "metadata": {
    "collapsed": true,
    "deletable": true,
    "editable": true
   },
   "outputs": [],
   "source": [
    "url = \"http://naver.com\""
   ]
  },
  {
   "cell_type": "code",
   "execution_count": 17,
   "metadata": {
    "collapsed": false,
    "deletable": true,
    "editable": true
   },
   "outputs": [
    {
     "name": "stdout",
     "output_type": "stream",
     "text": [
      "1 정겨운\n",
      "2 갤럭시s8 붉은액정\n",
      "3 문재인 유세차량 사고\n",
      "4 한국사능력검정시험\n",
      "5 노블레스\n",
      "6 애타는 로맨스\n",
      "7 초등아이스크림\n",
      "8 우체국택배 배송조회\n",
      "9 귓속말\n",
      "10 월화드라마\n",
      "11 학교폭력 실태조사\n",
      "12 이상해\n",
      "13 올레샵\n",
      "14 김영임\n",
      "15 뷔\n",
      "16 코스피\n",
      "17 김영임의 소리 효 대공연\n",
      "18 이계인\n",
      "19 심상정\n",
      "20 신연희\n"
     ]
    }
   ],
   "source": [
    "# Get Ranking Keywords\n",
    "response = requests.get(url)\n",
    "dom = BeautifulSoup(response.content, \"html.parser\")\n",
    "keywords = dom.select(\".ah_roll .ah_l .ah_item\")\n",
    "for keyword in keywords:\n",
    "    print(keyword.select_one(\".ah_r\").text, keyword.select_one(\".ah_k\").text)"
   ]
  },
  {
   "cell_type": "markdown",
   "metadata": {},
   "source": [
    "### Image"
   ]
  },
  {
   "cell_type": "code",
   "execution_count": 13,
   "metadata": {
    "collapsed": false
   },
   "outputs": [],
   "source": [
    "from IPython.display import Image\n",
    "from selenium import webdriver\n",
    "driver =  webdriver.Chrome()\n",
    "driver.get(\"http://naver.com\")\n",
    "naver_img = driver.get_screenshot_as_base64()\n",
    "driver.close()\n",
    "# Image(naver_img)"
   ]
  },
  {
   "cell_type": "code",
   "execution_count": 9,
   "metadata": {
    "collapsed": false
   },
   "outputs": [],
   "source": [
    "# transrate image file fro base64\n",
    "import base64\n",
    "imgdata = base64.b64decode(naver_img)\n",
    "with open('some_image.jpg', 'wb') as f:\n",
    "    f.write(imgdata)"
   ]
  },
  {
   "cell_type": "code",
   "execution_count": 14,
   "metadata": {
    "collapsed": false
   },
   "outputs": [],
   "source": [
    "# show image\n",
    "from PIL import Image\n",
    "pil_im = Image.open('some_image.jpg')\n",
    "# pil_im"
   ]
  }
 ],
 "metadata": {
  "kernelspec": {
   "display_name": "Python 3",
   "language": "python",
   "name": "python3"
  },
  "language_info": {
   "codemirror_mode": {
    "name": "ipython",
    "version": 3
   },
   "file_extension": ".py",
   "mimetype": "text/x-python",
   "name": "python",
   "nbconvert_exporter": "python",
   "pygments_lexer": "ipython3",
   "version": "3.6.0"
  }
 },
 "nbformat": 4,
 "nbformat_minor": 2
}
