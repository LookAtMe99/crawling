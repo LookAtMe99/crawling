{
 "cells": [
  {
   "cell_type": "markdown",
   "metadata": {},
   "source": [
    "### Import Package"
   ]
  },
  {
   "cell_type": "code",
   "execution_count": 1,
   "metadata": {
    "collapsed": false
   },
   "outputs": [],
   "source": [
    "import requests\n",
    "import pandas as pd\n",
    "import time\n",
    "import calendar\n",
    "\n",
    "from bs4 import BeautifulSoup"
   ]
  },
  {
   "cell_type": "markdown",
   "metadata": {},
   "source": [
    "### Timer Decorate"
   ]
  },
  {
   "cell_type": "code",
   "execution_count": 2,
   "metadata": {
    "collapsed": true
   },
   "outputs": [],
   "source": [
    "def timer(fn):\n",
    "    def wrapper(*args, **kwargs):\n",
    "        start_time = time.time()\n",
    "        result = fn(*args, **kwargs)\n",
    "        end_time = time.time()\n",
    "        print(\"{fn_name} : {time} ms\".format(fn_name = fn.__name__, time = end_time - start_time))\n",
    "        return result\n",
    "    return wrapper "
   ]
  },
  {
   "cell_type": "markdown",
   "metadata": {},
   "source": [
    "### Category Dictionary"
   ]
  },
  {
   "cell_type": "code",
   "execution_count": 3,
   "metadata": {
    "collapsed": true
   },
   "outputs": [],
   "source": [
    "category_dict = {\n",
    "    \"100\":950203, # 정치\n",
    "    \"101\":949986, # 경제\n",
    "    \"102\":949987, # 사회\n",
    "    \"103\":949988, # 생활/문화\n",
    "    \"104\":949990, # 세계\n",
    "    \"105\":949984, # IT/과학\n",
    "}"
   ]
  },
  {
   "cell_type": "markdown",
   "metadata": {},
   "source": [
    "### Crawling Last Page"
   ]
  },
  {
   "cell_type": "code",
   "execution_count": 4,
   "metadata": {
    "collapsed": true
   },
   "outputs": [],
   "source": [
    "# @timer\n",
    "def last_page(category, date):\n",
    "    compnentId = category_dict[str(category)]\n",
    "    url = \"http://news.naver.com/main/mainNews.nhn?componentId=\" + str(compnentId) + \"&date=\" + date + \" 00:00:00&page=100\"\n",
    "    response = requests.get(url)\n",
    "    return response.json()[\"pagerInfo\"][\"page\"]\n",
    "    \n",
    "# last_page(100, \"2016-06-10\")"
   ]
  },
  {
   "cell_type": "markdown",
   "metadata": {},
   "source": [
    "### Crawling Content, Comment, LikeIt "
   ]
  },
  {
   "cell_type": "code",
   "execution_count": 5,
   "metadata": {
    "collapsed": true
   },
   "outputs": [],
   "source": [
    "# using json\n",
    "# @timer\n",
    "def get_likeit(aid, oid):    \n",
    "    url = \"http://news.like.naver.com/likeIt/likeItContent.jsonp?_callback=window.__jindo2_callback._7105&serviceId=NEWS&displayId=NEWS&contentsId=ne_\" + str(oid) + \"_\" + str(aid) + \"&lang=ko&viewType=recommend\"\n",
    "    response = requests.get(url)\n",
    "    return response.text.split('likeItCount\":')[1].split(\",\")[0]\n",
    "    \n",
    "# using bs4\n",
    "# @timer\n",
    "def get_content(path):\n",
    "    \n",
    "    response = requests.get(path)\n",
    "    dom = BeautifulSoup(response.content, \"html.parser\")\n",
    "\n",
    "    if len(dom.select(\"#articleTitleCommentCount .lo_txt\")) == 0:\n",
    "        return 0, 0, \"-\"\n",
    "    \n",
    "    comment = dom.select_one(\"#articleTitleCommentCount .lo_txt\").text\n",
    "    content = dom.select_one(\"#articleBodyContents\").text.replace(\"\\n\",\"\").replace(\"\\r\",\"\").replace(\"\\t\",\"\")\n",
    "    aid = path.split(\"aid=\")[1]\n",
    "    oid = path.split(\"oid=\")[1].split(\"&\")[0]\n",
    "    likeit = get_likeit(aid, oid)\n",
    "    \n",
    "    return comment, likeit, content\n",
    "\n",
    "# url = \"http://news.naver.com/main/read.nhn?mode=LSD&mid=shm&sid1=100&oid=003&aid=0007327243\"\n",
    "# content_data = get_content(url)\n",
    "# content_data[0], content_data[1], len(content_data[2])"
   ]
  },
  {
   "cell_type": "markdown",
   "metadata": {},
   "source": [
    "### Crawling 1 category, 1 day, 1 page"
   ]
  },
  {
   "cell_type": "code",
   "execution_count": 6,
   "metadata": {
    "collapsed": true
   },
   "outputs": [],
   "source": [
    "# @timer\n",
    "def one_page_df(category, date, page):\n",
    "    \"\"\" excute time about 5 ~ 6 sec \"\"\"\n",
    "    \n",
    "    url = \"http://news.naver.com/main/main.nhn?mode=LSD&mid=shm&sid1=\" + str(category) + \"#&date=\" + date + \" 00:00:00&page=\" + str(page)\n",
    "    response = requests.get(url)\n",
    "    dom = BeautifulSoup(response.content, \"html.parser\")\n",
    "    \n",
    "    result_df = pd.DataFrame(columns=[\"newsid\", \"newspaper\", \"title\", \"link\", \"comment\", \"likeit\", \"content\", \"date\", \"category\"])\n",
    "\n",
    "    article_list = dom.select(\"#section_body li\")\n",
    "    for article in article_list:\n",
    "        \n",
    "        link = article.select_one(\"a\").get(\"href\")\n",
    "        comment, likeit, content = get_content(link)\n",
    "        \n",
    "        tmp_dict = {\n",
    "            \"newsid\": link.split(\"aid=\")[1],\n",
    "            \"newspaper\": article.select_one(\".writing\").text,\n",
    "            \"title\": article.select_one(\"strong\").text,\n",
    "            \"link\": link,\n",
    "            \"comment\": comment,\n",
    "            \"likeit\": likeit,\n",
    "            \"content\": content,\n",
    "            \"date\": date,\n",
    "            \"category\": str(category-100),\n",
    "        }\n",
    "        result_df.loc[len(result_df)] = tmp_dict\n",
    "    return result_df\n",
    "\n",
    "# df = one_page_df(100, \"2016-01-01\", 1)\n",
    "# len(df)"
   ]
  },
  {
   "cell_type": "markdown",
   "metadata": {},
   "source": [
    "### 1 category, 1 day, all page"
   ]
  },
  {
   "cell_type": "code",
   "execution_count": 12,
   "metadata": {
    "collapsed": true
   },
   "outputs": [],
   "source": [
    "# @timer\n",
    "def one_day_df(category, date):\n",
    "    \"\"\" excute time about 60 sec / 10 page \"\"\"\n",
    "    \n",
    "    last_page_number = int(last_page(category, date))\n",
    "      \n",
    "    df_list = []\n",
    "    \n",
    "    for page in range(1, last_page_number + 1):\n",
    "        df = one_page_df(category, date, page)\n",
    "        df_list.append(df)\n",
    "        \n",
    "    return pd.concat(df_list).reset_index(drop=True)\n",
    "\n",
    "# day_df = one_day_df(105, \"2016-01-01\")\n",
    "# len(day_df)"
   ]
  },
  {
   "cell_type": "markdown",
   "metadata": {},
   "source": [
    "### 1 category, 1 month, all page"
   ]
  },
  {
   "cell_type": "code",
   "execution_count": 13,
   "metadata": {
    "collapsed": true
   },
   "outputs": [],
   "source": [
    "def check_zero(num):\n",
    "    return \"0\" + str(num) if int(num) < 10 else str(num)\n",
    "\n",
    "@timer    \n",
    "def total_page(category, year, month):\n",
    "    \"\"\" excute time about 6 sec \"\"\"\n",
    "    \n",
    "    last_day = calendar.monthrange(year,month)[1]\n",
    "    total_page = 0\n",
    "    for day in range(1, last_day + 1):\n",
    "        date = str(year) + \"-\" + check_zero(month) + \"-\" + check_zero(day)  \n",
    "        total_page += last_page(category, date)\n",
    "    \n",
    "    excute_time = 6 * total_page / 60\n",
    "    \n",
    "    return { \"total_page\":total_page, \"excute_time(min)\":excute_time }\n",
    "   \n",
    "@timer\n",
    "def one_month_df(category, year, month):\n",
    "    \n",
    "    last_day = calendar.monthrange(year,month)[1]\n",
    "    \n",
    "    df_list = []\n",
    "    \n",
    "    for day in range(1, last_day + 1):\n",
    "        date = str(year) + \"-\" + check_zero(month) + \"-\" + check_zero(day)  \n",
    "        df = one_day_df(category, date)\n",
    "        df_list.append(df)\n",
    "        print(date, len(df))\n",
    "        save_path = \"./news_data/\" + str(category) + \"_\" + str(year) + \"_\" + str(month) + \"_\" + check_zero(day) + \".csv\"\n",
    "        print(save_path)\n",
    "        df.to_csv(save_path, index=False, encoding=\"utf-8\")\n",
    "        \n",
    "    return pd.concat(df_list).reset_index(drop=True)\n",
    "\n",
    "# total_page(105, 2016, 1)\n",
    "# month_df = one_month_df(105, 2016, 1)\n",
    "# len(month_df)"
   ]
  },
  {
   "cell_type": "code",
   "execution_count": null,
   "metadata": {
    "collapsed": false
   },
   "outputs": [],
   "source": [
    "category = 100\n",
    "year = 2016\n",
    "month = 2\n",
    "\n",
    "month_df = one_month_df(category, year, month)\n",
    "save_path = \"./news_data/\" + str(category) + \"_\" + str(year) + \"_\" + str(month) +\".csv\"\n",
    "month_df.to_csv(save_path, index=False, encoding=\"utf-8\")"
   ]
  },
  {
   "cell_type": "code",
   "execution_count": 11,
   "metadata": {
    "collapsed": false
   },
   "outputs": [
    {
     "data": {
      "text/html": [
       "<div>\n",
       "<table border=\"1\" class=\"dataframe\">\n",
       "  <thead>\n",
       "    <tr style=\"text-align: right;\">\n",
       "      <th></th>\n",
       "      <th>newsid</th>\n",
       "      <th>newspaper</th>\n",
       "      <th>title</th>\n",
       "      <th>link</th>\n",
       "      <th>comment</th>\n",
       "      <th>likeit</th>\n",
       "      <th>content</th>\n",
       "      <th>date</th>\n",
       "      <th>category</th>\n",
       "    </tr>\n",
       "  </thead>\n",
       "  <tbody>\n",
       "    <tr>\n",
       "      <th>14645</th>\n",
       "      <td>639147</td>\n",
       "      <td>MBC 뉴스</td>\n",
       "      <td>中, 탈북자 지원 활동가 20여 명 추방 '탈북 루트' 끊기나?</td>\n",
       "      <td>http://news.naver.com/main/read.nhn?mode=LSD&amp;m...</td>\n",
       "      <td>3</td>\n",
       "      <td>2</td>\n",
       "      <td>[뉴스데스크]◀ 앵커 ▶중국 정부가 북중 접경지역에서 활동하는 우리나라 탈북자 지원...</td>\n",
       "      <td>2016-01-31</td>\n",
       "      <td>0</td>\n",
       "    </tr>\n",
       "    <tr>\n",
       "      <th>14646</th>\n",
       "      <td>639143</td>\n",
       "      <td>MBC 뉴스</td>\n",
       "      <td>조응천, 허위사실 유포에 면책특권 남용 논란</td>\n",
       "      <td>http://news.naver.com/main/read.nhn?mode=LSD&amp;m...</td>\n",
       "      <td>30</td>\n",
       "      <td>7</td>\n",
       "      <td>[뉴스데스크]◀ 앵커 ▶조응천 더불어민주당 의원의 허위 사실 유포 파문이 면책특권 ...</td>\n",
       "      <td>2016-01-31</td>\n",
       "      <td>0</td>\n",
       "    </tr>\n",
       "    <tr>\n",
       "      <th>14647</th>\n",
       "      <td>124064</td>\n",
       "      <td>JTBC</td>\n",
       "      <td>[국회] 전대 앞둔 새누리…제 살 길 찾아 찢어지는 친박</td>\n",
       "      <td>http://news.naver.com/main/read.nhn?mode=LSD&amp;m...</td>\n",
       "      <td>0</td>\n",
       "      <td>0</td>\n",
       "      <td>[앵커]계속해서 국회 40초 뉴스 시작하겠습니다. +++▶ \"총선 패배 책임있는 분...</td>\n",
       "      <td>2016-01-31</td>\n",
       "      <td>0</td>\n",
       "    </tr>\n",
       "    <tr>\n",
       "      <th>14648</th>\n",
       "      <td>986743</td>\n",
       "      <td>MBN</td>\n",
       "      <td>꼬리 내린 총리·부총리…맞받아친 금융위원장</td>\n",
       "      <td>http://news.naver.com/main/read.nhn?mode=LSD&amp;m...</td>\n",
       "      <td>2</td>\n",
       "      <td>0</td>\n",
       "      <td>【 앵커멘트 】  오늘 20대 국회 첫 대정부질문이 열렸는데요.   국회의원들이 정...</td>\n",
       "      <td>2016-01-31</td>\n",
       "      <td>0</td>\n",
       "    </tr>\n",
       "    <tr>\n",
       "      <th>14649</th>\n",
       "      <td>986739</td>\n",
       "      <td>MBN</td>\n",
       "      <td>'아내의 7촌'에 '형의 처남'까지…일단 옷 벗어라?</td>\n",
       "      <td>http://news.naver.com/main/read.nhn?mode=LSD&amp;m...</td>\n",
       "      <td>5</td>\n",
       "      <td>0</td>\n",
       "      <td>【 앵커멘트 】  아내의 7촌이라고 하면, 친인척 관계일까요, 아닐까요?  민법상은...</td>\n",
       "      <td>2016-01-31</td>\n",
       "      <td>0</td>\n",
       "    </tr>\n",
       "  </tbody>\n",
       "</table>\n",
       "</div>"
      ],
      "text/plain": [
       "       newsid newspaper                                title  \\\n",
       "14645  639147    MBC 뉴스  中, 탈북자 지원 활동가 20여 명 추방 '탈북 루트' 끊기나?   \n",
       "14646  639143    MBC 뉴스             조응천, 허위사실 유포에 면책특권 남용 논란   \n",
       "14647  124064      JTBC      [국회] 전대 앞둔 새누리…제 살 길 찾아 찢어지는 친박   \n",
       "14648  986743       MBN              꼬리 내린 총리·부총리…맞받아친 금융위원장   \n",
       "14649  986739       MBN        '아내의 7촌'에 '형의 처남'까지…일단 옷 벗어라?   \n",
       "\n",
       "                                                    link  comment  likeit  \\\n",
       "14645  http://news.naver.com/main/read.nhn?mode=LSD&m...        3       2   \n",
       "14646  http://news.naver.com/main/read.nhn?mode=LSD&m...       30       7   \n",
       "14647  http://news.naver.com/main/read.nhn?mode=LSD&m...        0       0   \n",
       "14648  http://news.naver.com/main/read.nhn?mode=LSD&m...        2       0   \n",
       "14649  http://news.naver.com/main/read.nhn?mode=LSD&m...        5       0   \n",
       "\n",
       "                                                 content        date  category  \n",
       "14645  [뉴스데스크]◀ 앵커 ▶중국 정부가 북중 접경지역에서 활동하는 우리나라 탈북자 지원...  2016-01-31         0  \n",
       "14646  [뉴스데스크]◀ 앵커 ▶조응천 더불어민주당 의원의 허위 사실 유포 파문이 면책특권 ...  2016-01-31         0  \n",
       "14647  [앵커]계속해서 국회 40초 뉴스 시작하겠습니다. +++▶ \"총선 패배 책임있는 분...  2016-01-31         0  \n",
       "14648  【 앵커멘트 】  오늘 20대 국회 첫 대정부질문이 열렸는데요.   국회의원들이 정...  2016-01-31         0  \n",
       "14649  【 앵커멘트 】  아내의 7촌이라고 하면, 친인척 관계일까요, 아닐까요?  민법상은...  2016-01-31         0  "
      ]
     },
     "execution_count": 11,
     "metadata": {},
     "output_type": "execute_result"
    }
   ],
   "source": [
    "df = pd.read_csv(save_path) \n",
    "df.tail()"
   ]
  },
  {
   "cell_type": "markdown",
   "metadata": {},
   "source": [
    "### 1 category, many months, all page"
   ]
  },
  {
   "cell_type": "code",
   "execution_count": null,
   "metadata": {
    "collapsed": false
   },
   "outputs": [],
   "source": [
    "def one_year_df(category, year, start_month, end_month):\n",
    "    \n",
    "    df_list = []\n",
    "    \n",
    "    for month in range(start_month, end_month + 1):\n",
    "        df = one_month_df(category, year, month)\n",
    "        df_list.append(df)\n",
    "        \n",
    "    return pd.concat(df_list).reset_index(drop=True) "
   ]
  },
  {
   "cell_type": "code",
   "execution_count": null,
   "metadata": {
    "collapsed": true
   },
   "outputs": [],
   "source": [
    "# year_df = one_year_df(100, 2016, 1, 6)\n",
    "# year_df.to_csv(\"./news_data/100_2016.csv\", index=False, encoding=\"utf-8\")\n",
    "\n",
    "# year_df = one_year_df(101, 2016, 1, 6)\n",
    "# year_df.to_csv(\"./news_data/101_2016.csv\", index=False, encoding=\"utf-8\")\n",
    "\n",
    "# year_df = one_year_df(102, 2016, 1, 6)\n",
    "# year_df.to_csv(\"./news_data/102_2016.csv\", index=False, encoding=\"utf-8\")\n",
    "\n",
    "# year_df = one_year_df(103, 2016, 1, 6)\n",
    "# year_df.to_csv(\"./news_data/103_2016.csv\", index=False, encoding=\"utf-8\")\n",
    "\n",
    "# year_df = one_year_df(104, 2016, 1, 6)\n",
    "# year_df.to_csv(\"./news_data/104_2016.csv\", index=False, encoding=\"utf-8\")\n",
    "\n",
    "# year_df = one_year_df(105, 2016, 1, 6)\n",
    "# year_df.to_csv(\"./news_data/105_2016.csv\", index=False, encoding=\"utf-8\")"
   ]
  },
  {
   "cell_type": "code",
   "execution_count": null,
   "metadata": {
    "collapsed": true
   },
   "outputs": [],
   "source": []
  }
 ],
 "metadata": {
  "anaconda-cloud": {},
  "kernelspec": {
   "display_name": "Python 3",
   "language": "python",
   "name": "python3"
  },
  "language_info": {
   "codemirror_mode": {
    "name": "ipython",
    "version": 3
   },
   "file_extension": ".py",
   "mimetype": "text/x-python",
   "name": "python",
   "nbconvert_exporter": "python",
   "pygments_lexer": "ipython3",
   "version": "3.5.1"
  }
 },
 "nbformat": 4,
 "nbformat_minor": 0
}
