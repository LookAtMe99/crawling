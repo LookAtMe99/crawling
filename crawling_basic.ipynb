{
 "cells": [
  {
   "cell_type": "markdown",
   "metadata": {
    "collapsed": true,
    "deletable": true,
    "editable": true
   },
   "source": [
    "### Requests\n",
    "- get json data using api"
   ]
  },
  {
   "cell_type": "code",
   "execution_count": 3,
   "metadata": {
    "collapsed": true,
    "deletable": true,
    "editable": true
   },
   "outputs": [],
   "source": [
    "import requests\n",
    "import time"
   ]
  },
  {
   "cell_type": "markdown",
   "metadata": {
    "deletable": true,
    "editable": true
   },
   "source": [
    "##### get json data using api"
   ]
  },
  {
   "cell_type": "code",
   "execution_count": 4,
   "metadata": {
    "collapsed": false,
    "deletable": true,
    "editable": true
   },
   "outputs": [
    {
     "name": "stdout",
     "output_type": "stream",
     "text": [
      "10\n",
      "삼성전자 2140000\n",
      "SK하이닉스 53700\n",
      "삼성전자우 1641000\n",
      "현대차 151000\n",
      "한국전력 44700\n",
      "NAVER 807000\n",
      "POSCO 272500\n",
      "삼성물산 131500\n",
      "신한지주 48650\n",
      "현대모비스 230000\n"
     ]
    }
   ],
   "source": [
    "def requests_exam(url):\n",
    "    response = requests.get(url)\n",
    "    json_info = response.json()\n",
    "    companys = json_info[\"result\"][\"itemList\"]\n",
    "    print(len(companys))\n",
    "    for company in companys:\n",
    "        print(company[\"nm\"], company[\"pcv\"])\n",
    "\n",
    "url = \"http://m.stock.naver.com/api/json/sise/siseListJson.nhn?menu=market_sum&sosok=0&pageSize=10&page=1\"\n",
    "requests_exam(url)"
   ]
  },
  {
   "cell_type": "markdown",
   "metadata": {
    "deletable": true,
    "editable": true
   },
   "source": [
    "### Beautifulsoup \n",
    "- Naver search keyword top 10\n",
    "- set header"
   ]
  },
  {
   "cell_type": "code",
   "execution_count": null,
   "metadata": {
    "collapsed": true,
    "deletable": true,
    "editable": true
   },
   "outputs": [],
   "source": [
    "from bs4 import BeautifulSoup"
   ]
  },
  {
   "cell_type": "markdown",
   "metadata": {
    "deletable": true,
    "editable": true
   },
   "source": [
    "##### Naver search keyword top 10"
   ]
  },
  {
   "cell_type": "code",
   "execution_count": null,
   "metadata": {
    "collapsed": false,
    "deletable": true,
    "editable": true
   },
   "outputs": [],
   "source": [
    "def bs4_exam(url):\n",
    "\n",
    "    response = requests.get(url)\n",
    "    dom = BeautifulSoup(response.content, \"html.parser\")\n",
    "    ranks = dom.select(\"#realrank li\")\n",
    "    \n",
    "    top10_list = []\n",
    "    \n",
    "    for rank in ranks[0:10]:\n",
    "        keyword = str(rank.select_one(\"a\")).split(\"<span\")[0].split(\">\")[1]\n",
    "        link = rank.select_one(\"a\").get(\"href\")\n",
    "        top10_list.append((keyword, link))\n",
    "            \n",
    "    return top10_list\n",
    "    \n",
    "url = \"http://www.naver.com/\"\n",
    "top10 = bs4_exam(url)\n",
    "title, link = zip(*top10)\n",
    "print(title)\n",
    "print(link)"
   ]
  },
  {
   "cell_type": "markdown",
   "metadata": {
    "deletable": true,
    "editable": true
   },
   "source": [
    "##### set header"
   ]
  },
  {
   "cell_type": "code",
   "execution_count": null,
   "metadata": {
    "collapsed": false,
    "deletable": true,
    "editable": true
   },
   "outputs": [],
   "source": [
    "# get price \n",
    "def get_content(url, headers):\n",
    "    \"\"\"\n",
    "    if you don't have headers, you will go to login page\n",
    "    \"\"\"\n",
    "    response = requests.get(url, headers=headers)\n",
    "    dom = BeautifulSoup(response.content, \"html.parser\")\n",
    "    print(dom.select_one(\".price\").text)\n",
    "    \n",
    "headers = {\n",
    "    \"Accept\":\"text/html,application/xhtml+xml,application/xml;q=0.9,image/webp,*/*;q=0.8\",\n",
    "    \"Accept-Encoding\":\"gzip, deflate, sdch\",\n",
    "    \"Accept-Language\":\"ko-KR,ko;q=0.8,en-US;q=0.6,en;q=0.4\",\n",
    "    \"Cache-Control\":\"max-age=0\",\n",
    "    \"Connection\":\"keep-alive\",\n",
    "    \"Cookie\":\"npic=eFBEBBU/yzEme0B5l5OcagDCMtaa5/G90XoG9Rkq9EP/wNGQGt+jPKJaBOveBEaFCA==; NNB=NLTF6ONPDQTFO; nx_ssl=2; ncvid=#vid#_14.39.150.134yORl; nci4=1e2acde1f7bcd6663bd59285887a057cdd867892c69d6fa17cb6ad5dd448b513813ffc27a629b6bcec4005d665c64d9647474a6bb086e7e8fc09e14d839409f9b7afa285a495d9a9a88faa9bd3a0b093b789c4b5bc9bbe8f978f82a286b7f6f2f3f2efededed9a95b097a9e4e08ce29a9bf28697f88994e7; nid_iplevel=1; page_uid=xERzTlpyLPZss5rLUkNssssssSh-406270; ncvc2=b4d42c085c6a6bdced107b5d7f9de2853a6a933c5f16c954b5704d9e2200e62df804c21bd9e570582abfe699; JSESSIONID=DD056961ED5BA6436D706429CBF42060; BMR=s=1464245784249&r=http%3A%2F%2Fm.cafe.naver.com%2FArticleRead.nhn%3Fclubid%3D10050146%26menuid%3D334%26articleid%3D319943171%26query%3D%25EB%25A7%25A5%25EB%25B6%2581&r2=http%3A%2F%2Fm.cafe.naver.com%2FArticleSearchList.nhn%3Fsearch.query%3D%25EB%25A7%25A5%25EB%25B6%2581%26search.menuid%3D%26search.searchBy%3D0%26search.sortBy%3Dsim%26search.clubid%3D10050146\",\n",
    "    \"Host\":\"m.cafe.naver.com\",\n",
    "    \"Referer\":\"http://m.cafe.naver.com/ArticleSearchList.nhn?search.query=%EB%A7%A5%EB%B6%81&search.menuid=&search.searchBy=0&search.sortBy=sim&search.clubid=10050146\",\n",
    "    \"Upgrade-Insecure-Requests\":\"1\",\n",
    "    \"User-Agent\":\"Mozilla/5.0 (Macintosh; Intel Mac OS X 10_11_5) AppleWebKit/537.36 (KHTML, like Gecko) Chrome/50.0.2661.102 Safari/537.36\",\n",
    "}\n",
    "\n",
    "link = \"http://m.cafe.naver.com/ArticleRead.nhn?articleid=327427658&query=맥북&menuid=334&clubid=10050146\"\n",
    "get_content(link, headers)"
   ]
  },
  {
   "cell_type": "markdown",
   "metadata": {
    "deletable": true,
    "editable": true
   },
   "source": [
    "### Selenium\n",
    "- naver 1st search keyword link title\n",
    "- input key & press button\n",
    "- into iframe\n",
    "- excute script"
   ]
  },
  {
   "cell_type": "code",
   "execution_count": null,
   "metadata": {
    "collapsed": true,
    "deletable": true,
    "editable": true
   },
   "outputs": [],
   "source": [
    "from selenium import webdriver"
   ]
  },
  {
   "cell_type": "markdown",
   "metadata": {
    "deletable": true,
    "editable": true
   },
   "source": [
    "##### naver 1st search keyword link title"
   ]
  },
  {
   "cell_type": "code",
   "execution_count": null,
   "metadata": {
    "collapsed": false,
    "deletable": true,
    "editable": true
   },
   "outputs": [],
   "source": [
    "def selenium_exam(url):\n",
    "#     driver =  webdriver.Firefox()\n",
    "    driver =  webdriver.PhantomJS()\n",
    "    driver.get(url)\n",
    "    \n",
    "    # get top 10 \n",
    "    top10 = driver.find_elements_by_css_selector(\"#realrank li\")\n",
    "    \n",
    "    # get 1st link\n",
    "    link = top10[0].find_element_by_css_selector(\"a\").get_attribute(\"href\")\n",
    "    \n",
    "    # move web page\n",
    "    driver.get(link)\n",
    "    \n",
    "    # get 1st article\n",
    "    first_article = driver.find_elements_by_css_selector(\".news.section ul li\")[0]\n",
    "    \n",
    "    # print title\n",
    "    title = first_article.find_element_by_css_selector(\"dl dt\").text\n",
    "    \n",
    "    # close driver\n",
    "    time.sleep(3)\n",
    "    driver.close()\n",
    "    \n",
    "    return title\n",
    "\n",
    "url = \"http://naver.com\"\n",
    "selenium_exam(url)"
   ]
  },
  {
   "cell_type": "markdown",
   "metadata": {
    "deletable": true,
    "editable": true
   },
   "source": [
    "##### input key & press button"
   ]
  },
  {
   "cell_type": "code",
   "execution_count": null,
   "metadata": {
    "collapsed": false,
    "deletable": true,
    "editable": true
   },
   "outputs": [],
   "source": [
    "def input_key(url):\n",
    "    driver =  webdriver.Firefox()\n",
    "    driver.get(url)\n",
    "    \n",
    "    # input key\n",
    "    driver.find_element_by_css_selector( \"#id\" ).send_keys( \"radajin\" )\n",
    "    driver.find_element_by_css_selector( \"#pw\" ).send_keys( \"radajin\" )\n",
    "    time.sleep(3)\n",
    "    \n",
    "    # click button\n",
    "    driver.find_element_by_css_selector(\".btn_login input\").click()\n",
    "    \n",
    "    time.sleep(5)\n",
    "    driver.close()\n",
    "\n",
    "url = \"http://naver.com\"\n",
    "input_key(url)"
   ]
  },
  {
   "cell_type": "markdown",
   "metadata": {
    "collapsed": true,
    "deletable": true,
    "editable": true
   },
   "source": [
    "##### into iframe"
   ]
  },
  {
   "cell_type": "code",
   "execution_count": null,
   "metadata": {
    "collapsed": false,
    "deletable": true,
    "editable": true
   },
   "outputs": [],
   "source": [
    "def into_iframe(url):\n",
    "    driver = webdriver.Firefox()\n",
    "    driver.get(url)\n",
    "    \n",
    "    # search 맥북\n",
    "    driver.find_element_by_css_selector(\"#topLayerQueryInput\").send_keys(\"맥북\")\n",
    "    driver.find_element_by_css_selector(\"#cafe-search a\").click()\n",
    "    \n",
    "    # get iframe object\n",
    "    iframe = driver.find_element_by_css_selector(\"#cafe_main\")\n",
    "    print(iframe.get_attribute(\"src\"))\n",
    "    \n",
    "    # move driver focus into iframe\n",
    "    driver.switch_to_frame(iframe)\n",
    "    \n",
    "    # get board list\n",
    "    article_board = driver.find_elements_by_css_selector(\".article-board\")\n",
    "    article_list = article_board[1].find_elements_by_css_selector(\"table tbody tr .board-list\")\n",
    "    for article in article_list:\n",
    "        print(article.text)\n",
    "    \n",
    "    # move driver focus to default\n",
    "    driver.switch_to_default_content()\n",
    "    \n",
    "    # search 그래픽카드\n",
    "    driver.find_element_by_css_selector(\"#topLayerQueryInput\").send_keys(\"그래픽카드\")\n",
    "    driver.find_element_by_css_selector(\"#cafe-search a\").click()\n",
    "    \n",
    "    time.sleep(5)\n",
    "    driver.close()\n",
    "\n",
    "url = \"http://cafe.naver.com/joonggonara\"\n",
    "into_iframe(url)"
   ]
  },
  {
   "cell_type": "markdown",
   "metadata": {
    "deletable": true,
    "editable": true
   },
   "source": [
    "##### excute script"
   ]
  },
  {
   "cell_type": "code",
   "execution_count": null,
   "metadata": {
    "collapsed": false,
    "deletable": true,
    "editable": true
   },
   "outputs": [],
   "source": [
    "url = \"http://naver.com\"\n",
    "driver =  webdriver.Firefox()\n",
    "driver.get(url)\n",
    "\n",
    "# excute script\n",
    "driver.execute_script(\"alert('radjin')\")\n",
    "\n",
    "# press button alert accept\n",
    "time.sleep(3)\n",
    "alert = driver.switch_to_alert()\n",
    "alert.accept()\n",
    "\n",
    "# driver close\n",
    "time.sleep(3)\n",
    "driver.close()"
   ]
  },
  {
   "cell_type": "markdown",
   "metadata": {
    "collapsed": true,
    "deletable": true,
    "editable": true
   },
   "source": [
    "### xpath"
   ]
  },
  {
   "cell_type": "code",
   "execution_count": null,
   "metadata": {
    "collapsed": false,
    "deletable": true,
    "editable": true
   },
   "outputs": [],
   "source": [
    "def xpath_exam(url, xpath_str):\n",
    "    driver =  webdriver.Firefox()\n",
    "    driver.get(url)\n",
    "    tmp = driver.find_element_by_xpath(xpath_str)\n",
    "    print(tmp.text)\n",
    "    \n",
    "    time.sleep(3)\n",
    "    driver.close()\n",
    "    \n",
    "url = \"http://naver.com\"\n",
    "xpath_str = '//*[@id=\"realrank\"]/li[1]'\n",
    "xpath_exam(url, xpath_str)"
   ]
  },
  {
   "cell_type": "markdown",
   "metadata": {
    "deletable": true,
    "editable": true
   },
   "source": [
    "### screeenshot\n",
    "- screeenshot base64\n",
    "- base64 image save and load"
   ]
  },
  {
   "cell_type": "code",
   "execution_count": null,
   "metadata": {
    "collapsed": true,
    "deletable": true,
    "editable": true
   },
   "outputs": [],
   "source": [
    "from IPython.display import Image"
   ]
  },
  {
   "cell_type": "markdown",
   "metadata": {
    "deletable": true,
    "editable": true
   },
   "source": [
    "##### screeenshot base64"
   ]
  },
  {
   "cell_type": "code",
   "execution_count": null,
   "metadata": {
    "collapsed": false,
    "deletable": true,
    "editable": true
   },
   "outputs": [],
   "source": [
    "url = \"http://naver.com\"\n",
    "\n",
    "driver =  webdriver.Firefox()\n",
    "driver.get(url)\n",
    "naver_main_img = driver.get_screenshot_as_base64()\n",
    "Image(naver_main_img)"
   ]
  },
  {
   "cell_type": "markdown",
   "metadata": {
    "deletable": true,
    "editable": true
   },
   "source": [
    "##### base64 image save and load"
   ]
  },
  {
   "cell_type": "code",
   "execution_count": null,
   "metadata": {
    "collapsed": false,
    "deletable": true,
    "editable": true
   },
   "outputs": [],
   "source": [
    "with open(\"naver_main.png\", \"w\") as fh:\n",
    "    fh.write(naver_main_img)"
   ]
  },
  {
   "cell_type": "code",
   "execution_count": null,
   "metadata": {
    "collapsed": true,
    "deletable": true,
    "editable": true
   },
   "outputs": [],
   "source": [
    "with open(\"naver_main.png\", \"r\") as fh:\n",
    "    naver_main_img = fh.read()"
   ]
  },
  {
   "cell_type": "code",
   "execution_count": null,
   "metadata": {
    "collapsed": false,
    "deletable": true,
    "editable": true
   },
   "outputs": [],
   "source": [
    "Image(naver_main_img)"
   ]
  },
  {
   "cell_type": "code",
   "execution_count": null,
   "metadata": {
    "collapsed": true,
    "deletable": true,
    "editable": true
   },
   "outputs": [],
   "source": []
  }
 ],
 "metadata": {
  "kernelspec": {
   "display_name": "Python 3",
   "language": "python",
   "name": "python3"
  },
  "language_info": {
   "codemirror_mode": {
    "name": "ipython",
    "version": 3
   },
   "file_extension": ".py",
   "mimetype": "text/x-python",
   "name": "python",
   "nbconvert_exporter": "python",
   "pygments_lexer": "ipython3",
   "version": "3.6.0"
  }
 },
 "nbformat": 4,
 "nbformat_minor": 0
}
