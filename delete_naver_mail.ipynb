{
 "cells": [
  {
   "cell_type": "code",
   "execution_count": 1,
   "metadata": {
    "collapsed": true,
    "deletable": true,
    "editable": true
   },
   "outputs": [],
   "source": [
    "from selenium import webdriver\n",
    "import pickle\n",
    "import time"
   ]
  },
  {
   "cell_type": "code",
   "execution_count": 2,
   "metadata": {
    "collapsed": true,
    "deletable": true,
    "editable": true
   },
   "outputs": [],
   "source": [
    "main_url = \"http://naver.com\"\n",
    "mail_url = \"http://mail.naver.com\""
   ]
  },
  {
   "cell_type": "code",
   "execution_count": 3,
   "metadata": {
    "collapsed": true,
    "deletable": true,
    "editable": true
   },
   "outputs": [],
   "source": [
    "# 브라우져 오픈 및 메인 사이트 이동\n",
    "driver =  webdriver.Chrome()\n",
    "driver.get(main_url)"
   ]
  },
  {
   "cell_type": "code",
   "execution_count": 4,
   "metadata": {
    "collapsed": true,
    "deletable": true,
    "editable": true
   },
   "outputs": [],
   "source": [
    "# 로그인 버튼 클릭\n",
    "driver.find_element_by_css_selector(\".lg_global_btn\").click()"
   ]
  },
  {
   "cell_type": "code",
   "execution_count": 5,
   "metadata": {
    "collapsed": true,
    "deletable": true,
    "editable": true
   },
   "outputs": [],
   "source": [
    "# 아이디 패스워드 입력\n",
    "pw = pickle.load(open(\"../pw.plk\", \"rb\"))\n",
    "driver.find_element_by_css_selector( \"#id\" ).send_keys( \"1221pdj\" )\n",
    "driver.find_element_by_css_selector( \"#pw\" ).send_keys( pw )"
   ]
  },
  {
   "cell_type": "code",
   "execution_count": 6,
   "metadata": {
    "collapsed": true,
    "deletable": true,
    "editable": true
   },
   "outputs": [],
   "source": [
    "# 로그인 버튼 클릭\n",
    "driver.find_element_by_css_selector(\".btn_global\").click()"
   ]
  },
  {
   "cell_type": "code",
   "execution_count": 7,
   "metadata": {
    "collapsed": true,
    "deletable": true,
    "editable": true
   },
   "outputs": [],
   "source": [
    "# 메일 페이지로 이동\n",
    "driver.get(mail_url)"
   ]
  },
  {
   "cell_type": "code",
   "execution_count": 8,
   "metadata": {
    "collapsed": true,
    "deletable": true,
    "editable": true
   },
   "outputs": [],
   "source": [
    "# 전체 메일 체크\n",
    "driver.find_element_by_css_selector(\"#mailCheckAll\").click()"
   ]
  },
  {
   "cell_type": "code",
   "execution_count": 9,
   "metadata": {
    "collapsed": true,
    "deletable": true,
    "editable": true
   },
   "outputs": [],
   "source": [
    "# 삭제 버튼 입력\n",
    "driver.find_element_by_css_selector(\".do_delete\").click();"
   ]
  },
  {
   "cell_type": "code",
   "execution_count": 10,
   "metadata": {
    "collapsed": false,
    "deletable": true,
    "editable": true
   },
   "outputs": [
    {
     "data": {
      "text/plain": [
       "987"
      ]
     },
     "execution_count": 10,
     "metadata": {},
     "output_type": "execute_result"
    }
   ],
   "source": [
    "# 전체 메일 갯수\n",
    "total_mail = driver.find_element_by_css_selector(\"#headUnreadNum\").text\n",
    "total_mail = int(total_mail)\n",
    "total_mail"
   ]
  },
  {
   "cell_type": "code",
   "execution_count": 11,
   "metadata": {
    "collapsed": false,
    "deletable": true,
    "editable": true
   },
   "outputs": [
    {
     "data": {
      "text/plain": [
       "22"
      ]
     },
     "execution_count": 11,
     "metadata": {},
     "output_type": "execute_result"
    }
   ],
   "source": [
    "# 전체 페이지\n",
    "tital_page = total_mail // 45 + 1\n",
    "tital_page"
   ]
  },
  {
   "cell_type": "code",
   "execution_count": 12,
   "metadata": {
    "collapsed": false,
    "deletable": true,
    "editable": true
   },
   "outputs": [
    {
     "name": "stdout",
     "output_type": "stream",
     "text": [
      "1 미래부 [미래부] 창조경제 사진공모전 온라인 투표\n",
      "2 윈글리쉬 [W’s WEDNESDAY] 쉽고 재미있게 배워 오래 기억하자!! _ 놀면서 배우는 영어\n",
      "3 Facebook 김영희님과 김은향님 외 8명을 아세요?\n",
      "4 LG전자 LG전자 통큰이벤트 - 50일간 매일 1대씩 에어워셔가~\n",
      "5 윈글리쉬 [W’s TUESDAY] 이런 말은 영어로 어떻게 표현해요? _ 바로 써먹는 영어\n",
      "6 bf696e3df9 여친이 왜 없을까?\n",
      "7 연구개발특구진흥재.. 대덕연구개발특구 40주년 기념행사\n",
      "8 네이버메일 네이버 메일앱에서 N드라이브에 저장된 파일 보내고 매주 푸짐한 선물받자!\n",
      "9 윈글리쉬 [W’s MONDAY] 꾸준히 보며 익히면 점수가 된다!! _ 시험에 나오는 영어\n",
      "10 Facebook JiHun Pyo, 박두진, 김희목님을 아세요?\n",
      "11 한국과총 [한국과총 Webzine] \"공학자에겐 더 나은 세상 만들 의무가 있다\"\n",
      "12 Facebook 전성광, Hong Yeon Kim, 박두진님을 아세요?\n",
      "13 과학기술정책연구원 [STEPI] 농촌 살리기 대토론회\n",
      "14 한국과총 과총 글로벌 브리프(제104호)\n",
      "15 산업경제리서치 \"의료IT융합시장 사업실태와 전망\"\n",
      "16 윈글리쉬 [W’s THURSDAY] 난 해외출장도 문제 없는 멋진 글로벌 인재!! _ 잘난척씨의 비즈영어\n",
      "17 한국과총 [과총 인터넷/모바일방송 생중계] KSP와 과학기술외교\n",
      "18 Facebook JiHun Pyo, 전성광, 김희목님을 아세요?\n",
      "19 Twitter Tweets from 조산구 Jo, SanKu, WSJ Korea, and 6 others\n",
      "20 한국과총 [제51회 과총포럼] KSP(Knowledge Sharing Program)와 과학기술외교\n",
      "21 윈글리쉬 [W’s WEDNESDAY] 쉽고 재미있게 배워 오래 기억하자!! _ 놀면서 배우는 영어\n",
      "22 예스행복연구소 지금 여기에 살게 하는 힘.행복 유머편지276\n",
      "23 윈글리쉬 [W’s TUESDAY] 이런 말은 영어로 어떻게 표현해요? _ 바로 써먹는 영어\n",
      "24 한국과총 [제51회 과총포럼] KSP(Knowledge Sharing Program)와 과학기술외교\n",
      "25 Facebook Facebook 상에는 회원님의 친구들이 더 많이 있습니다.\n",
      "26 윈글리쉬 [W’s MONDAY] 꾸준히 보며 익히면 점수가 된다!! _ 시험에 나오는 영어\n",
      "27 산업경제리서치 [보고서] \"2014년 자동차용 블랙박스 시장전망과 사업 전략 모색을 위한 종합 분석\"\n",
      "28 Facebook 전성광, 박두진, JiHun Pyo님을 아세요?\n",
      "29 한국과총 [한국과총 Webzine] \"나눔은 선택이 아니라 빚을 갚는 행위\"\n",
      "30 한국과총 제3회 대학(원)생 과학기술정책 아이디어 공모전 접수중\n",
      "31 KISTEP [초청] 제3회 KISTEP 미래포럼 - 식품의 미래 : 전망과 안전\n",
      "32 한국과총 [제51회 과총포럼] KSP(Knowledge Sharing Program)와 과학기술외교\n",
      "33 WANNA B! [안내] WANNA B! 콘텐츠 백업 안내 드립니다.\n",
      "34 Facebook Facebook 상에는 회원님의 친구들이 더 많이 있습니다.\n",
      "35 한국과총 [따뜻한 과학기술 토크콘서트] 인터넷 생중계 안내\n",
      "36 YBM시사닷컴 [YBM Family] 휴면 계정 처리 안내\n",
      "37 Twitter Tweets from Mirrorball Music, 동아일보, and 6 others\n",
      "38 윈글리쉬 [W’s THURSDAY] 난 해외출장도 문제 없는 멋진 글로벌 인재!! _ 잘난척씨의 비즈영어\n",
      "39 한국과총 과총 글로벌 브리프(제103호)\n",
      "40 예스행복연구소 인생은 선택과 집중이다.행복한 유머편지275\n",
      "41 프루나 \"축하합니다~월정액사용하시는분들께 스키시즌권 무료지급해드립니다~!!\"\n",
      "42 한국과총 [따뜻한 과학기술 토크콘서트] 개최 안내\n",
      "43 윈글리쉬 [윈글리쉬] ★마지막 2일!!(~10/31)★ 10월 이후 진행되지 않습니다!!! 마지막 기회~ 모든 영어, 중국어, 일본어 관련 최강 동영상강의 300개 1년 무제한 자유수강권 초특가할인~!!!\n",
      "44 한국과총 [따뜻한 과학기술 토크콘서트] 개최 안내\n",
      "45 윈글리쉬 [W’s WEDNESDAY] 쉽고 재미있게 배워 오래 기억하자!! _ 놀면서 배우는 영어\n"
     ]
    }
   ],
   "source": [
    "# 메일 제목, 보낸사람 이름 가져오기\n",
    "titles = driver.find_elements_by_css_selector(\".mail_title\")\n",
    "names = driver.find_elements_by_css_selector(\".name\")\n",
    "for idx, title in enumerate(titles):\n",
    "    print(idx+1, names[idx].text, titles[idx].text)"
   ]
  },
  {
   "cell_type": "code",
   "execution_count": 13,
   "metadata": {
    "collapsed": false,
    "deletable": true,
    "editable": true
   },
   "outputs": [],
   "source": [
    "# 여러 페이지 메일 삭제\n",
    "for _ in range(3):\n",
    "    driver.find_element_by_css_selector(\"#mailCheckAll\").click()\n",
    "    driver.find_element_by_css_selector(\".do_delete\").click();\n",
    "    time.sleep(2)"
   ]
  },
  {
   "cell_type": "code",
   "execution_count": 14,
   "metadata": {
    "collapsed": false,
    "deletable": true,
    "editable": true
   },
   "outputs": [],
   "source": [
    "# 로그아웃\n",
    "logout_url = driver.find_element_by_css_selector(\".gnb_btn_login\").get_attribute(\"href\")\n",
    "driver.get(logout_url)"
   ]
  },
  {
   "cell_type": "code",
   "execution_count": 15,
   "metadata": {
    "collapsed": true,
    "deletable": true,
    "editable": true
   },
   "outputs": [],
   "source": [
    "# 브라우져 닫기\n",
    "driver.close()"
   ]
  },
  {
   "cell_type": "code",
   "execution_count": null,
   "metadata": {
    "collapsed": true,
    "deletable": true,
    "editable": true
   },
   "outputs": [],
   "source": []
  }
 ],
 "metadata": {
  "kernelspec": {
   "display_name": "Python 3",
   "language": "python",
   "name": "python3"
  },
  "language_info": {
   "codemirror_mode": {
    "name": "ipython",
    "version": 3
   },
   "file_extension": ".py",
   "mimetype": "text/x-python",
   "name": "python",
   "nbconvert_exporter": "python",
   "pygments_lexer": "ipython3",
   "version": "3.6.0"
  }
 },
 "nbformat": 4,
 "nbformat_minor": 2
}
