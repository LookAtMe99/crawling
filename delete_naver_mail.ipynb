{
 "cells": [
  {
   "cell_type": "code",
   "execution_count": 13,
   "metadata": {
    "collapsed": true,
    "deletable": true,
    "editable": true
   },
   "outputs": [],
   "source": [
    "from selenium import webdriver\n",
    "import pickle\n",
    "import time"
   ]
  },
  {
   "cell_type": "code",
   "execution_count": 14,
   "metadata": {
    "collapsed": true,
    "deletable": true,
    "editable": true
   },
   "outputs": [],
   "source": [
    "main_url = \"http://naver.com\"\n",
    "mail_url = \"http://mail.naver.com\""
   ]
  },
  {
   "cell_type": "code",
   "execution_count": 15,
   "metadata": {
    "collapsed": true,
    "deletable": true,
    "editable": true
   },
   "outputs": [],
   "source": [
    "# 브라우져 오픈 및 메인 사이트 이동\n",
    "driver =  webdriver.Chrome()\n",
    "driver.get(main_url)"
   ]
  },
  {
   "cell_type": "code",
   "execution_count": 18,
   "metadata": {
    "collapsed": true,
    "deletable": true,
    "editable": true
   },
   "outputs": [],
   "source": [
    "# 아이디 패스워드 입력\n",
    "pw = pickle.load(open(\"../pw.plk\", \"rb\"))\n",
    "driver.find_element_by_css_selector( \"#id\" ).send_keys( \"1221pdj\" )\n",
    "driver.find_element_by_css_selector( \"#pw\" ).send_keys( pw )"
   ]
  },
  {
   "cell_type": "code",
   "execution_count": 20,
   "metadata": {
    "collapsed": false,
    "deletable": true,
    "editable": true
   },
   "outputs": [],
   "source": [
    "# 로그인 버튼 클릭\n",
    "driver.find_element_by_css_selector(\"span.btn_login input[type=submit]\").click()"
   ]
  },
  {
   "cell_type": "code",
   "execution_count": 21,
   "metadata": {
    "collapsed": true,
    "deletable": true,
    "editable": true
   },
   "outputs": [],
   "source": [
    "# 메일 페이지로 이동\n",
    "driver.get(mail_url)"
   ]
  },
  {
   "cell_type": "code",
   "execution_count": 22,
   "metadata": {
    "collapsed": true,
    "deletable": true,
    "editable": true
   },
   "outputs": [],
   "source": [
    "# 전체 메일 체크\n",
    "driver.find_element_by_css_selector(\"#mailCheckAll\").click()"
   ]
  },
  {
   "cell_type": "code",
   "execution_count": 23,
   "metadata": {
    "collapsed": true,
    "deletable": true,
    "editable": true
   },
   "outputs": [],
   "source": [
    "# 삭제 버튼 입력\n",
    "driver.find_element_by_css_selector(\".do_delete\").click();"
   ]
  },
  {
   "cell_type": "code",
   "execution_count": 24,
   "metadata": {
    "collapsed": false,
    "deletable": true,
    "editable": true
   },
   "outputs": [
    {
     "data": {
      "text/plain": [
       "983"
      ]
     },
     "execution_count": 24,
     "metadata": {},
     "output_type": "execute_result"
    }
   ],
   "source": [
    "# 전체 메일 갯수\n",
    "total_mail = driver.find_element_by_css_selector(\"#headUnreadNum\").text\n",
    "total_mail = int(total_mail)\n",
    "total_mail"
   ]
  },
  {
   "cell_type": "code",
   "execution_count": 25,
   "metadata": {
    "collapsed": false,
    "deletable": true,
    "editable": true
   },
   "outputs": [
    {
     "data": {
      "text/plain": [
       "22"
      ]
     },
     "execution_count": 25,
     "metadata": {},
     "output_type": "execute_result"
    }
   ],
   "source": [
    "# 전체 페이지\n",
    "tital_page = total_mail // 45 + 1\n",
    "tital_page"
   ]
  },
  {
   "cell_type": "code",
   "execution_count": 26,
   "metadata": {
    "collapsed": false,
    "deletable": true,
    "editable": true
   },
   "outputs": [
    {
     "name": "stdout",
     "output_type": "stream",
     "text": [
      "1 트위터 박주민과 더민주 님이 트윗함: 안경환 법무부장관 후보자의 혼인무효판결문 특히 실명이 기재되어 있던 판결문의 언론 유출에 관해서는 법원행정처 등에 대한 철저한 조사가 필요합니다(영상길이는 대략 2분 19초).\n",
      "2 한국과총 2017 대한민국과학기술연차대회 심포지엄 및 특별세션 초청 안내 7. 7(금)\n",
      "3 한국과총 [과총] 과학기술계 일자리 창출 방향 및 정책 과제 토론회\n",
      "4 트위터 니가내담요야 님이 트윗함: 음주운전 단속 걸렸다고 위로씩이나 해달라는 미친사람에게...\n",
      "5 트위터 김보통 / フツー 님이 공유함: NPC는 전기용의 꿈을 꾸는가? #48\n",
      "6 한국과총 2017 대한민국과학기술연차대회 개최안내 - 7. 7(금)\n",
      "7 한국과총 [과총] 과학기술계 일자리 창출 방향 및 정책 과제 토론회\n",
      "8 트위터 무허가 오두바이 상담소🌈 님이 트윗함: 여성분들이 피해야할 제주도 게스트 하우스 리스트가 잘 정리되어있다고 합니다.\n",
      "9 창업신문 (광고) 소자본으로 성공하기. 성공창업을 위한1인무점포창업과 다양한 창업아이템 무료시식 및 무료창업설명회\n",
      "10 트위터 주호민 님이 트윗함: 한국웹툰작가협회 페이스북 페이지입니다.\n",
      "11 트위터 트위터에서 이외수, 조국, MCOUNTDOWN님을 팔로우해보세요!\n",
      "12 한국과총 2017 대한민국과학기술연차대회 개최안내 - 7. 7(금)\n",
      "13 한국과총 [한국과총 Webzine]“과총, 정부에 ‘국가과학기술혁신(STI)위원회’ 신설 등 과학기술 거버넌스 개편안 제안”\n",
      "14 트위터 연합뉴스 님이 트윗함: 文대통령, 오후 2시 강경화 법무장관 후보자 임명(속보)\n",
      "15 국시원 (광고) [국비지원 무료교육] 신재생에너지 발전설비기사 자격시험 안내 및 무료자료 제공\n",
      "16 트위터 col 님이 트윗함: 탐라에서 유일하게 프듀 안보는 나 :\n",
      "17 LG전자 (광고) [LG전자] LG DIOS 공감 프로젝트 영상 공유하고 LG DIOS 얼음정수기냉장고 받으세요!\n",
      "18 트위터 M키 님이 트윗함: 우리집 버니들 좌랑해야지😆 그냥 누이구루미는 없고 전부 가방들\n",
      "19 현대Hmall [현대Hmall] 개인정보 유효기간제 시행 안내\n",
      "20 한국과총 2017 대한민국과학기술연차대회 개최안내 - 7. 7(금)\n",
      "21 한국엔지니어클럽 [한국엔지니어클럽(KEC)] 6월 『KEC 기술경영포럼』 개최 안내\n",
      "22 트위터 NewsPeppermint 님이 공유함: 동성애에 대한 중국 사회의 양가적 시각\n",
      "23 트위터 트위터에서 문재인, G-DRAGON, 박원순님을 팔로우해보세요!\n",
      "24 트위터 먼길 님이 공유함: The 'Escort Bars' That Uber Execs Reportedly Visited Are A Regular Affair In South Korea\n",
      "25 한국과총 대선공약을 중심으로 본 새 정부 에너지 정책 방향 설문조사\n",
      "26 트위터 만화그린지이주년된사람 님이 트윗함: 유어마나 신일숙 작가님 인터뷰 참 좋다. 가끔 읽어야지\n",
      "27 한국과총 광화문광장 서울시민 미세먼지 대토론회 후속 전문가 패널토론I\n",
      "28 창업신문 (광고) 성공창업 시작이 중요합니다. 성공창업을 위한1인무점포창업과 다양한 창업아이템 무료시식 및 무료창업설명회\n",
      "29 트위터 박작가 님이 공유함: 공연 중 무대 난입한 지적장애인..백건우 반응은\n",
      "30 한국과총 합리적 의사 결정을 위한 과학기술 거버넌스 개편 긴급 토론회 개최\n",
      "31 한국과총 대선공약을 중심으로 본 새 정부 에너지 정책 방향 설문조사\n",
      "32 (재)연구소재중앙센.. 연구소재은행 「제403회 학·연·산 연구성과 교류회」 개최\n",
      "33 트위터 앓음다움 님이 트윗함: 검술 시범 보이는 김옥빈 보고 가세요ㅠㅜㅠㅜㅠㅜㅠ\n",
      "34 트위터 경향신문 님이 공유함: 송민순 등 전직 외교부 장관들, 강경화 후보자 임명 지지 성명 발표\n",
      "35 한국과총 합리적 의사 결정을 위한 과학기술 거버넌스 개편 긴급 토론회 개최\n",
      "36 트위터 otonacool 🏳️ 🌈 📚 님이 트윗함: 으허!!!! 🙈🙈🙈?? 단 하루라도 좋아!!!!\n",
      "37 매일유업 6.15 매일아이가 새로운 모습으로 인사드립니다(서비스 일시 중지 안내)\n",
      "38 매일유업 6.15 매일아이가 새로운 모습으로 인사드립니다(서비스 일시 중지 안내)\n",
      "39 트위터 트위터에서 김미화, BTS_official, 딴지일보님을 팔로우해보세요!\n",
      "40 한국과총 광화문광장 서울시민 미세먼지 대토론회 후속 전문가 패널토론I\n",
      "41 과실연 [과실연] 2017 세계 원자력 및 방사선 엑스포 '국민공감 대토론회' 개최(6.9)\n",
      "42 LG전자 (광고) [LG전자] 인공지능 스스로 에어컨 LG휘센 뮤직비디오 대공개, 뮤비도 보고 선물도 받으세요!\n",
      "43 트위터 ~7/4❄❄シル🌟tteok(아님 님이 트윗함: 어ㅏ 미친 여러분 이거봐요 귀여워 쥬금\n",
      "44 과총 창의적 기초연구 진흥을 위한 국가 R&D 정책 제안 포럼 개최\n",
      "45 트위터 마쯔(금연성공중+2-2 님이 트윗함: 같은 사건인데 여성신문과 다른 언론사들 제목 비교 좀... 진짜 구리다.\n"
     ]
    }
   ],
   "source": [
    "# 메일 제목, 보낸사람 이름 가져오기\n",
    "titles = driver.find_elements_by_css_selector(\".mail_title\")\n",
    "names = driver.find_elements_by_css_selector(\".name\")\n",
    "for idx, title in enumerate(titles):\n",
    "    print(idx+1, names[idx].text, titles[idx].text)"
   ]
  },
  {
   "cell_type": "code",
   "execution_count": 13,
   "metadata": {
    "collapsed": false,
    "deletable": true,
    "editable": true
   },
   "outputs": [],
   "source": [
    "# 여러 페이지 메일 삭제\n",
    "for _ in range(3):\n",
    "    driver.find_element_by_css_selector(\"#mailCheckAll\").click()\n",
    "    driver.find_element_by_css_selector(\".do_delete\").click();\n",
    "    time.sleep(2)"
   ]
  },
  {
   "cell_type": "code",
   "execution_count": 14,
   "metadata": {
    "collapsed": false,
    "deletable": true,
    "editable": true
   },
   "outputs": [],
   "source": [
    "# 로그아웃\n",
    "logout_url = driver.find_element_by_css_selector(\".gnb_btn_login\").get_attribute(\"href\")\n",
    "driver.get(logout_url)"
   ]
  },
  {
   "cell_type": "code",
   "execution_count": 15,
   "metadata": {
    "collapsed": true,
    "deletable": true,
    "editable": true
   },
   "outputs": [],
   "source": [
    "# 브라우져 닫기\n",
    "driver.close()"
   ]
  },
  {
   "cell_type": "code",
   "execution_count": null,
   "metadata": {
    "collapsed": true,
    "deletable": true,
    "editable": true
   },
   "outputs": [],
   "source": []
  }
 ],
 "metadata": {
  "kernelspec": {
   "display_name": "Python 3",
   "language": "python",
   "name": "python3"
  },
  "language_info": {
   "codemirror_mode": {
    "name": "ipython",
    "version": 3
   },
   "file_extension": ".py",
   "mimetype": "text/x-python",
   "name": "python",
   "nbconvert_exporter": "python",
   "pygments_lexer": "ipython3",
   "version": "3.6.0"
  }
 },
 "nbformat": 4,
 "nbformat_minor": 2
}
