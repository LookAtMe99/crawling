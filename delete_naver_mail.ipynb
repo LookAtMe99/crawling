{
 "cells": [
  {
   "cell_type": "code",
   "execution_count": 1,
   "metadata": {
    "collapsed": true,
    "deletable": true,
    "editable": true
   },
   "outputs": [],
   "source": [
    "from selenium import webdriver\n",
    "import pickle\n",
    "import time"
   ]
  },
  {
   "cell_type": "code",
   "execution_count": 2,
   "metadata": {
    "collapsed": true,
    "deletable": true,
    "editable": true
   },
   "outputs": [],
   "source": [
    "main_url = \"http://naver.com\"\n",
    "mail_url = \"http://mail.naver.com\""
   ]
  },
  {
   "cell_type": "code",
   "execution_count": 3,
   "metadata": {
    "collapsed": true,
    "deletable": true,
    "editable": true
   },
   "outputs": [],
   "source": [
    "# 브라우져 오픈 및 메인 사이트 이동\n",
    "driver =  webdriver.Chrome()\n",
    "driver.get(main_url)"
   ]
  },
  {
   "cell_type": "code",
   "execution_count": 4,
   "metadata": {
    "collapsed": true,
    "deletable": true,
    "editable": true
   },
   "outputs": [],
   "source": [
    "# 로그인 버튼 클릭\n",
    "driver.find_element_by_css_selector(\".lg_global_btn\").click()"
   ]
  },
  {
   "cell_type": "code",
   "execution_count": 5,
   "metadata": {
    "collapsed": true,
    "deletable": true,
    "editable": true
   },
   "outputs": [],
   "source": [
    "# 아이디 패스워드 입력\n",
    "pw = pickle.load(open(\"../pw.plk\", \"rb\"))\n",
    "driver.find_element_by_css_selector( \"#id\" ).send_keys( \"1221pdj\" )\n",
    "driver.find_element_by_css_selector( \"#pw\" ).send_keys( pw )"
   ]
  },
  {
   "cell_type": "code",
   "execution_count": 6,
   "metadata": {
    "collapsed": true,
    "deletable": true,
    "editable": true
   },
   "outputs": [],
   "source": [
    "# 로그인 버튼 클릭\n",
    "driver.find_element_by_css_selector(\".btn_global\").click()"
   ]
  },
  {
   "cell_type": "code",
   "execution_count": 7,
   "metadata": {
    "collapsed": true,
    "deletable": true,
    "editable": true
   },
   "outputs": [],
   "source": [
    "# 메일 페이지로 이동\n",
    "driver.get(mail_url)"
   ]
  },
  {
   "cell_type": "code",
   "execution_count": 8,
   "metadata": {
    "collapsed": true,
    "deletable": true,
    "editable": true
   },
   "outputs": [],
   "source": [
    "# 전체 메일 체크\n",
    "driver.find_element_by_css_selector(\"#mailCheckAll\").click()"
   ]
  },
  {
   "cell_type": "code",
   "execution_count": 9,
   "metadata": {
    "collapsed": true,
    "deletable": true,
    "editable": true
   },
   "outputs": [],
   "source": [
    "# 삭제 버튼 입력\n",
    "driver.find_element_by_css_selector(\".do_delete\").click();"
   ]
  },
  {
   "cell_type": "code",
   "execution_count": 10,
   "metadata": {
    "collapsed": false,
    "deletable": true,
    "editable": true
   },
   "outputs": [
    {
     "data": {
      "text/plain": [
       "1504"
      ]
     },
     "execution_count": 10,
     "metadata": {},
     "output_type": "execute_result"
    }
   ],
   "source": [
    "# 전체 메일 갯수\n",
    "total_mail = driver.find_element_by_css_selector(\"#headUnreadNum\").text\n",
    "total_mail = int(total_mail)\n",
    "total_mail"
   ]
  },
  {
   "cell_type": "code",
   "execution_count": 11,
   "metadata": {
    "collapsed": false,
    "deletable": true,
    "editable": true
   },
   "outputs": [
    {
     "data": {
      "text/plain": [
       "34"
      ]
     },
     "execution_count": 11,
     "metadata": {},
     "output_type": "execute_result"
    }
   ],
   "source": [
    "# 전체 페이지\n",
    "tital_page = total_mail // 45 + 1\n",
    "tital_page"
   ]
  },
  {
   "cell_type": "code",
   "execution_count": 12,
   "metadata": {
    "collapsed": false,
    "deletable": true,
    "editable": true
   },
   "outputs": [
    {
     "name": "stdout",
     "output_type": "stream",
     "text": [
      "1 윈글리쉬 [W’s MONDAY] 꾸준히 보며 익히면 점수가 된다!! _ 시험에 나오는 영어\n",
      "2 산업경제리서치 [보고서] \"IoT/IoE로 주목받는 농수축산 시장의 실태와 사업전략\"\n",
      "3 Twitter ‘박 대통령 퇴진’ 선언한 교사 단독 인터뷰\n",
      "4 한국과총 [한국과총 Webzine] \"세월호 등 재난ㆍ재해 사고 대응 과학기술 역할 모색\"\n",
      "5 Twitter ::: 신나라 :::\n",
      "6 Facebook Eunhye Park, 김현철, 박주선님을 아세요?\n",
      "7 Twitter TAEYANG – NEW ALBUM “RISE” TEASER\n",
      "8 LG전자 [LG전자] B2B사이트 즐겨찾기 추가하고 커피 키프티콘 받으세요\n",
      "9 윈글리쉬 [W’s THURSDAY] 난 해외출장도 문제 없는 멋진 글로벌 인재!! _ 잘난척씨의 비즈영어\n",
      "10 Facebook Wanda Winda, Yesica Rocio Rodriguez, Pepe Mustache님을 아세요?\n",
      "11 한국과총 과총 글로벌 브리프(제132호)\n",
      "12 Twitter [Live] 다음-카카오 합병 기자간담회…‘마카오톡’ 나올까\n",
      "13 법안전융합연구소 [법안전융합연구소] 2014 재난안전 특별 심포지엄 개최 안내\n",
      "14 윈글리쉬 [W’s WEDNESDAY] 쉽고 재미있게 배워 오래 기억하자!! _ 놀면서 배우는 영어\n",
      "15 한림원ㆍ과실연 [한림원-과실연 공동주최] 제77회 한림원탁토론회 안내\n",
      "16 LG전자 [LG전자] LG 모니터의 새로운 발견, 허를 찌르는 이벤트! 놓치지 마세요.\n",
      "17 Twitter [단독] 살려달라 소리치던 아이들 생각에…“술 없인 잠을 못 이뤘제”\n",
      "18 윈글리쉬 [W’s TUESDAY] 이런 말은 영어로 어떻게 표현해요? _ 바로 써먹는 영어\n",
      "19 KISTEP [KISTEP-톰슨 로이터 공동포럼] 노벨과학상을 향한 기초연구의 나아갈 길\n",
      "20 Facebook 윤자영님과 홍동숙님 외 6명을 아세요?\n",
      "21 Twitter 경찰, 여성연행자 속옷 탈의 강요 ‘내부 감찰’\n",
      "22 윈글리쉬 [W’s MONDAY] 꾸준히 보며 익히면 점수가 된다!! _ 시험에 나오는 영어\n",
      "23 산업경제리서치 [보고서] \"ICT융복합기반 국방IT 관련 산업동향과 기술개발 전략\"\n",
      "24 Twitter Come Back, 제국의아이들[ZE:A] 미니 앨범 [FIRST HOMME] 포토 공개!\n",
      "25 Twitter 집 잃은 ‘카톡개’ 등장…“일마 이뿌다꼬 쓰다듬었드만…”\n",
      "26 Facebook Facebook에서 친구들을 더 찾아보세요\n",
      "27 한국과총 [한국과총 Webzine] \"창업 생태계, 민간-현장-지방으로 확산 할 것\"\n",
      "28 과학기술인협동조합.. [SETCOOP] 5/27(화) 과학기술인 협동조합 포럼에 초대합니다!\n",
      "29 Twitter 무한도전 선택 2014\n",
      "30 과학기술연합대학원.. 제6회 UST Academy 중소·중견기업의 R&D 전략\n",
      "31 Facebook Facebook에서 친구들을 더 찾아보세요\n",
      "32 LG전자 [LG전자] 지금 LG카페 가입하시면 시원한 선물을 통 크게 쏩니다!\n",
      "33 윈글리쉬 [W’s THURSDAY] 난 해외출장도 문제 없는 멋진 글로벌 인재!! _ 잘난척씨의 비즈영어\n",
      "34 한림원ㆍ과실연 [한림원-과실연 공동주최] 제77회 한림원탁토론회 안내\n",
      "35 한국과총 과총 글로벌 브리프(제131호)\n",
      "36 Twitter 길환영 “좌파 노조가 KBS 장악 시도” 적반하장\n",
      "37 미래창조과학부 미래부 주최-[STRONG KOREA 창조포럼 2014] 사물인터넷 창시자 케빈 애슈턴이 주요연사로 참석합니다(6월 19일)\n",
      "38 윈글리쉬 [W’s WEDNESDAY] 쉽고 재미있게 배워 오래 기억하자!! _ 놀면서 배우는 영어\n",
      "39 한국엔지니어클럽 [한국엔지니어클럽 Play Factory] 이달우 KC코트렐 회장, '외산(外産)최고'고정관념 깨다\n",
      "40 Facebook Nicolas Gimenez, Kozaw Kozaw, 심지옹님을 아세요?\n",
      "41 LG전자서비스 대기시간 없이 빠르게 서비스를 받으세요.\n",
      "42 iMBC [iMBC] 모바일 캐시비로 MBC 다시보기를 이용해보세요!\n",
      "43 Twitter 보훈처가 급조한 ‘님을 위한~’ 합창단, 알고보니…\n",
      "44 윈글리쉬 [W’s TUESDAY] 이런 말은 영어로 어떻게 표현해요? _ 바로 써먹는 영어\n",
      "45 Twitter WHO’S NEXT? – TAEYANG\n"
     ]
    }
   ],
   "source": [
    "# 메일 제목, 보낸사람 이름 가져오기\n",
    "titles = driver.find_elements_by_css_selector(\".mail_title\")\n",
    "names = driver.find_elements_by_css_selector(\".name\")\n",
    "for idx, title in enumerate(titles):\n",
    "    print(idx+1, names[idx].text, titles[idx].text)"
   ]
  },
  {
   "cell_type": "code",
   "execution_count": 13,
   "metadata": {
    "collapsed": false,
    "deletable": true,
    "editable": true
   },
   "outputs": [],
   "source": [
    "# 여러 페이지 메일 삭제\n",
    "for _ in range(3):\n",
    "    driver.find_element_by_css_selector(\"#mailCheckAll\").click()\n",
    "    driver.find_element_by_css_selector(\".do_delete\").click();\n",
    "    time.sleep(2)"
   ]
  },
  {
   "cell_type": "code",
   "execution_count": 34,
   "metadata": {
    "collapsed": false,
    "deletable": true,
    "editable": true
   },
   "outputs": [],
   "source": [
    "# 로그아웃\n",
    "logout_url = driver.find_element_by_css_selector(\".gnb_btn_login\").get_attribute(\"href\")\n",
    "driver.get(logout_url)"
   ]
  },
  {
   "cell_type": "code",
   "execution_count": 35,
   "metadata": {
    "collapsed": true,
    "deletable": true,
    "editable": true
   },
   "outputs": [],
   "source": [
    "# 브라우져 닫기\n",
    "driver.close()"
   ]
  },
  {
   "cell_type": "code",
   "execution_count": null,
   "metadata": {
    "collapsed": true,
    "deletable": true,
    "editable": true
   },
   "outputs": [],
   "source": []
  }
 ],
 "metadata": {
  "kernelspec": {
   "display_name": "Python 3",
   "language": "python",
   "name": "python3"
  },
  "language_info": {
   "codemirror_mode": {
    "name": "ipython",
    "version": 3
   },
   "file_extension": ".py",
   "mimetype": "text/x-python",
   "name": "python",
   "nbconvert_exporter": "python",
   "pygments_lexer": "ipython3",
   "version": "3.6.0"
  }
 },
 "nbformat": 4,
 "nbformat_minor": 2
}
