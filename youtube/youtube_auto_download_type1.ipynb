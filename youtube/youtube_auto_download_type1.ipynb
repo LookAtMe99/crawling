{
 "cells": [
  {
   "cell_type": "code",
   "execution_count": 5,
   "metadata": {
    "collapsed": true
   },
   "outputs": [],
   "source": [
    "import requests\n",
    "from selenium import webdriver\n",
    "import time"
   ]
  },
  {
   "cell_type": "code",
   "execution_count": 6,
   "metadata": {
    "collapsed": false
   },
   "outputs": [],
   "source": [
    "def get_download_site(youtube_url):    \n",
    "    driver.get(youtube_url)\n",
    "    elements = driver.find_elements_by_css_selector(\".pl-video-title-link\")\n",
    "    links = [element.get_attribute(\"class\").replace(\"www.\",\"ss\") for element in elements]\n",
    "    titles = [element.text for element in elements]\n",
    "    print(titles)\n",
    "    print(links)\n",
    "    return {\"links\":links, \"titles\":titles}"
   ]
  },
  {
   "cell_type": "code",
   "execution_count": 7,
   "metadata": {
    "collapsed": true
   },
   "outputs": [],
   "source": [
    "def get_download_vedio_links(links):    \n",
    "    download_links = []\n",
    "    for link in links:\n",
    "        driver.get(link)\n",
    "        time.sleep(20)\n",
    "        download_link = driver.find_element_by_css_selector(\".link.link-download\").get_attribute(\"href\")\n",
    "        download_links.append(download_link)\n",
    "        print(link)\n",
    "    return download_links"
   ]
  },
  {
   "cell_type": "code",
   "execution_count": 8,
   "metadata": {
    "collapsed": true
   },
   "outputs": [],
   "source": [
    "def download_vedio_files(titles, download_links):\n",
    "    for idx in range(len(download_links)):\n",
    "        response = requests.get(download_links[idx], stream=True)\n",
    "        download_path = \"./\" + titles[idx] + \".mp4\"\n",
    "        print(download_path)\n",
    "        with open(download_path, 'wb') as f:\n",
    "            for chunk in response.iter_content(chunk_size=1024): \n",
    "                if chunk: # filter out keep-alive new chunks\n",
    "                    f.write(chunk)  "
   ]
  },
  {
   "cell_type": "code",
   "execution_count": 9,
   "metadata": {
    "collapsed": false
   },
   "outputs": [],
   "source": [
    "driver =  webdriver.PhantomJS()"
   ]
  },
  {
   "cell_type": "code",
   "execution_count": 10,
   "metadata": {
    "collapsed": true
   },
   "outputs": [],
   "source": [
    "youtube_url = \"https://www.youtube.com/playlist?list=PLoYCgNOIyGABI011EYc-avPOsk1YsMUe_\""
   ]
  },
  {
   "cell_type": "code",
   "execution_count": 8,
   "metadata": {
    "collapsed": true
   },
   "outputs": [],
   "source": [
    "def youtube_auto_download(youtube_url):\n",
    "    links_n_titles = get_download_site(youtube_url)\n",
    "    download_links = get_download_vedio_links(links_n_titles[\"links\"])\n",
    "    download_vedio_files(links_n_titles[\"titles\"], download_links)"
   ]
  },
  {
   "cell_type": "code",
   "execution_count": 9,
   "metadata": {
    "collapsed": false
   },
   "outputs": [
    {
     "name": "stdout",
     "output_type": "stream",
     "text": [
      "['What Makes Javascript Weird...and AWESOME - Pt 1', 'Javascript is Event-Driven - What makes Javascript Weird...and Awesome Pt 2', 'Javascript Closures Tutorial - What makes Javascript Weird...and Awesome Pt 3', 'Javascript Scope Tutorial - What Makes Javascript Weird...and Awesome Pt 4', 'Javascript Context Tutorial - What makes Javascript Weird...and Awesome Pt5']\n",
      "['https://ssyoutube.com/watch?v=JEq7Ehw-qk8&index=1&list=PLoYCgNOIyGABI011EYc-avPOsk1YsMUe_', 'https://ssyoutube.com/watch?v=pNzN5WF7Uag&index=2&list=PLoYCgNOIyGABI011EYc-avPOsk1YsMUe_', 'https://ssyoutube.com/watch?v=ZqGFKcCcO-Y&index=3&list=PLoYCgNOIyGABI011EYc-avPOsk1YsMUe_', 'https://ssyoutube.com/watch?v=SBwoFkRjZvE&index=4&list=PLoYCgNOIyGABI011EYc-avPOsk1YsMUe_', 'https://ssyoutube.com/watch?v=fjJoX9F_F5g&index=5&list=PLoYCgNOIyGABI011EYc-avPOsk1YsMUe_']\n",
      "https://ssyoutube.com/watch?v=JEq7Ehw-qk8&index=1&list=PLoYCgNOIyGABI011EYc-avPOsk1YsMUe_\n",
      "https://ssyoutube.com/watch?v=pNzN5WF7Uag&index=2&list=PLoYCgNOIyGABI011EYc-avPOsk1YsMUe_\n",
      "https://ssyoutube.com/watch?v=ZqGFKcCcO-Y&index=3&list=PLoYCgNOIyGABI011EYc-avPOsk1YsMUe_\n",
      "https://ssyoutube.com/watch?v=SBwoFkRjZvE&index=4&list=PLoYCgNOIyGABI011EYc-avPOsk1YsMUe_\n",
      "https://ssyoutube.com/watch?v=fjJoX9F_F5g&index=5&list=PLoYCgNOIyGABI011EYc-avPOsk1YsMUe_\n",
      "./What Makes Javascript Weird...and AWESOME - Pt 1.mp4\n",
      "./Javascript is Event-Driven - What makes Javascript Weird...and Awesome Pt 2.mp4\n",
      "./Javascript Closures Tutorial - What makes Javascript Weird...and Awesome Pt 3.mp4\n",
      "./Javascript Scope Tutorial - What Makes Javascript Weird...and Awesome Pt 4.mp4\n",
      "./Javascript Context Tutorial - What makes Javascript Weird...and Awesome Pt5.mp4\n"
     ]
    }
   ],
   "source": [
    "youtube_auto_download(youtube_url)"
   ]
  },
  {
   "cell_type": "code",
   "execution_count": null,
   "metadata": {
    "collapsed": true
   },
   "outputs": [],
   "source": []
  }
 ],
 "metadata": {
  "kernelspec": {
   "display_name": "Python 3",
   "language": "python",
   "name": "python3"
  },
  "language_info": {
   "codemirror_mode": {
    "name": "ipython",
    "version": 3
   },
   "file_extension": ".py",
   "mimetype": "text/x-python",
   "name": "python",
   "nbconvert_exporter": "python",
   "pygments_lexer": "ipython3",
   "version": "3.5.1"
  }
 },
 "nbformat": 4,
 "nbformat_minor": 0
}
