{
 "cells": [
  {
   "cell_type": "markdown",
   "metadata": {},
   "source": [
    "# memebox comment crawling"
   ]
  },
  {
   "cell_type": "code",
   "execution_count": 1,
   "metadata": {
    "collapsed": true
   },
   "outputs": [],
   "source": [
    "import requests\n",
    "import pandas as pd\n",
    "from bs4 import BeautifulSoup"
   ]
  },
  {
   "cell_type": "markdown",
   "metadata": {},
   "source": [
    "### get page id from url"
   ]
  },
  {
   "cell_type": "code",
   "execution_count": 2,
   "metadata": {
    "collapsed": false
   },
   "outputs": [],
   "source": [
    "def page_id(url):\n",
    "    return url.split(\"page/\")[1].split(\"?\")[0]"
   ]
  },
  {
   "cell_type": "code",
   "execution_count": 3,
   "metadata": {
    "collapsed": false
   },
   "outputs": [
    {
     "data": {
      "text/plain": [
       "'2576'"
      ]
     },
     "execution_count": 3,
     "metadata": {},
     "output_type": "execute_result"
    }
   ],
   "source": [
    "url = \"http://www.memebox.com/page/2576?source=1152\"    \n",
    "page_id(url)"
   ]
  },
  {
   "cell_type": "markdown",
   "metadata": {},
   "source": [
    "### get last page from page id"
   ]
  },
  {
   "cell_type": "code",
   "execution_count": 4,
   "metadata": {
    "collapsed": false
   },
   "outputs": [],
   "source": [
    "def last_page(page_id):\n",
    "    url = \"http://www.memebox.com/page/review?pageId=\" + str(page_id) + \"&contentViewPickOption=2\"\n",
    "    response = requests.get(url)\n",
    "    dom = BeautifulSoup(response.content, \"html.parser\")\n",
    "    pages = dom.select(\".mypaging a\")\n",
    "    pages = len(pages)-4\n",
    "    return pages"
   ]
  },
  {
   "cell_type": "code",
   "execution_count": 5,
   "metadata": {
    "collapsed": false
   },
   "outputs": [
    {
     "data": {
      "text/plain": [
       "3"
      ]
     },
     "execution_count": 5,
     "metadata": {},
     "output_type": "execute_result"
    }
   ],
   "source": [
    "last_page(2576)"
   ]
  },
  {
   "cell_type": "markdown",
   "metadata": {},
   "source": [
    "### get one page comments"
   ]
  },
  {
   "cell_type": "code",
   "execution_count": 6,
   "metadata": {
    "collapsed": false
   },
   "outputs": [],
   "source": [
    "def one_page_comments(page_id, page=1):\n",
    "    \n",
    "    url = \"http://www.memebox.com/page/review?pageId=\" + str(page_id) + \"&contentViewPickOption=2&page=\" + str(page)\n",
    "    response = requests.get(url)\n",
    "    dom = BeautifulSoup(response.content, \"html.parser\")\n",
    "    comments = dom.select(\".view\")\n",
    "    \n",
    "    comments_list = []\n",
    "    \n",
    "    for comment in comments:\n",
    "        star = comment.select_one(\"em\").get(\"class\")[0]\n",
    "        content = comment.select_one(\".textArea\").text.strip()\n",
    "        comments_list.append((star, content))\n",
    "        \n",
    "    return comments_list"
   ]
  },
  {
   "cell_type": "code",
   "execution_count": 7,
   "metadata": {
    "collapsed": false
   },
   "outputs": [
    {
     "data": {
      "text/plain": [
       "10"
      ]
     },
     "execution_count": 7,
     "metadata": {},
     "output_type": "execute_result"
    }
   ],
   "source": [
    "comments = one_page_comments(2576)\n",
    "len(comments)"
   ]
  },
  {
   "cell_type": "markdown",
   "metadata": {},
   "source": [
    "### total comments from page url"
   ]
  },
  {
   "cell_type": "code",
   "execution_count": 8,
   "metadata": {
    "collapsed": false
   },
   "outputs": [],
   "source": [
    "def total_comments(url):\n",
    "    p_id = page_id(url)\n",
    "    pages = last_page(p_id)\n",
    "    \n",
    "    total_comments = []\n",
    "    \n",
    "    for page in range(1, pages+1):\n",
    "        total_comments += one_page_comments(p_id, page)\n",
    "            \n",
    "    return total_comments"
   ]
  },
  {
   "cell_type": "code",
   "execution_count": 9,
   "metadata": {
    "collapsed": false
   },
   "outputs": [],
   "source": [
    "url = \"http://www.memebox.com/page/2576?source=1152\"    \n",
    "result_comments = total_comments(url)"
   ]
  },
  {
   "cell_type": "markdown",
   "metadata": {},
   "source": [
    "### make dataframe"
   ]
  },
  {
   "cell_type": "code",
   "execution_count": 10,
   "metadata": {
    "collapsed": false
   },
   "outputs": [
    {
     "data": {
      "text/html": [
       "<div>\n",
       "<table border=\"1\" class=\"dataframe\">\n",
       "  <thead>\n",
       "    <tr style=\"text-align: right;\">\n",
       "      <th></th>\n",
       "      <th>star</th>\n",
       "      <th>comment</th>\n",
       "    </tr>\n",
       "  </thead>\n",
       "  <tbody>\n",
       "    <tr>\n",
       "      <th>0</th>\n",
       "      <td>five</td>\n",
       "      <td>국내21호쓰는데요 2호를 샀어요. 셰딩용으로 써야하나 고민중입니다. 아니면 밝은 베...</td>\n",
       "    </tr>\n",
       "    <tr>\n",
       "      <th>1</th>\n",
       "      <td>five</td>\n",
       "      <td>색상이 환해요원래쓰던 컬러와 믹스해서 쓰는데 화사해보이고 아주 좋습니다.</td>\n",
       "    </tr>\n",
       "    <tr>\n",
       "      <th>2</th>\n",
       "      <td>five</td>\n",
       "      <td>배송때문에 늦게받았지만 맘에듭니다 적당히 촉촉하고 밀착이 좋아요아쉬운건 자외선 차단...</td>\n",
       "    </tr>\n",
       "    <tr>\n",
       "      <th>3</th>\n",
       "      <td>five</td>\n",
       "      <td>파운데이션만보면환장하는스타일이라화사하게하나더구입해야겠어요내통장너덜너덜</td>\n",
       "    </tr>\n",
       "    <tr>\n",
       "      <th>4</th>\n",
       "      <td>threeHalf</td>\n",
       "      <td>UHD가 좀 건조한것 같아서 구매했어요~11호라 밝고 화사하네요^^</td>\n",
       "    </tr>\n",
       "    <tr>\n",
       "      <th>5</th>\n",
       "      <td>five</td>\n",
       "      <td>1호샀어요 ㅎㅎ 이게 그렇게 좋다길래 구매했는데 기대되네요</td>\n",
       "    </tr>\n",
       "    <tr>\n",
       "      <th>6</th>\n",
       "      <td>five</td>\n",
       "      <td>언니가 쓰던제품인데 촉촉하고 좋다고 해서 한번 쓰려고여</td>\n",
       "    </tr>\n",
       "    <tr>\n",
       "      <th>7</th>\n",
       "      <td>five</td>\n",
       "      <td>원래 쓰던 제품이에요 ㅋㅋㅋ 가볍고 촉촉해요 대신 커버력은 좀 떨어져요</td>\n",
       "    </tr>\n",
       "    <tr>\n",
       "      <th>8</th>\n",
       "      <td>threeHalf</td>\n",
       "      <td>배송은 오래걸렸지만, 제품은 만족스러웠어요!촉촉하다고해서 커버력은 기대하지않았는데,...</td>\n",
       "    </tr>\n",
       "    <tr>\n",
       "      <th>9</th>\n",
       "      <td>five</td>\n",
       "      <td>벌써 두개째 구매해서 사용하고 있습니다.이번엔 미미박스를 통해 조금이라도 저렴하게 ...</td>\n",
       "    </tr>\n",
       "    <tr>\n",
       "      <th>10</th>\n",
       "      <td>five</td>\n",
       "      <td>편하게 비비만써오다 제인생 첫 파운데이션이에요.아직 흔들어쓰고 하는건 익숙하지 않아...</td>\n",
       "    </tr>\n",
       "    <tr>\n",
       "      <th>11</th>\n",
       "      <td>five</td>\n",
       "      <td>쿠폰 먹여서 저렴하게 샀어요 아직 써보지는 않았지만 유명한 만큼 기대중입니다</td>\n",
       "    </tr>\n",
       "    <tr>\n",
       "      <th>12</th>\n",
       "      <td>five</td>\n",
       "      <td>배송은 느렷지만 촉촉하고 심한 잠티아니면 다 가려집니다 호</td>\n",
       "    </tr>\n",
       "    <tr>\n",
       "      <th>13</th>\n",
       "      <td>four</td>\n",
       "      <td>우선 엄청 촉촉하고 컬러가 피부색이랑 잘 어우러져서 들뜨지 않아요. 하지만 역시 촉...</td>\n",
       "    </tr>\n",
       "    <tr>\n",
       "      <th>14</th>\n",
       "      <td>five</td>\n",
       "      <td>유투브에 이사배라고 검색하면 메이크업 엄청 잘하시는분있는데\" 베이스특집 촉촉해~ 물...</td>\n",
       "    </tr>\n",
       "    <tr>\n",
       "      <th>15</th>\n",
       "      <td>five</td>\n",
       "      <td>좋아욤!! 다만 배송이 생각보다 늦어요ㅠㅠㅠ</td>\n",
       "    </tr>\n",
       "    <tr>\n",
       "      <th>16</th>\n",
       "      <td>twoHalf</td>\n",
       "      <td>페이스앤바디파데쓰다 이거한번써볼까해서 구입했는데 화장한 티 안나는건 좋아여 근데 지...</td>\n",
       "    </tr>\n",
       "    <tr>\n",
       "      <th>17</th>\n",
       "      <td>fourHalf</td>\n",
       "      <td>펌핑 조절이 조금 어려운거 빼곤 리퀴드타입이라 편해요~피부에 밀착 잘 되고 뜨지 않...</td>\n",
       "    </tr>\n",
       "    <tr>\n",
       "      <th>18</th>\n",
       "      <td>four</td>\n",
       "      <td>배송이 많이 늦어져서 실망 할뻔 했어요 그래도 제품은 촉촉하고 좋습니다</td>\n",
       "    </tr>\n",
       "    <tr>\n",
       "      <th>19</th>\n",
       "      <td>five</td>\n",
       "      <td>파운데이션을 새로사야하는데 매이크업포에버제품을 한번 사고싶었어요 ㅋㅋ  기대할게요</td>\n",
       "    </tr>\n",
       "    <tr>\n",
       "      <th>20</th>\n",
       "      <td>five</td>\n",
       "      <td>구입전에 백화점에서 직접 테스터도 받았는데 좋아요!!! 커버력은 낮지만 촉촉해서 좋...</td>\n",
       "    </tr>\n",
       "    <tr>\n",
       "      <th>21</th>\n",
       "      <td>five</td>\n",
       "      <td>정말좋아요 인생파데찾은기분♡♡파데는 메이크업포에버</td>\n",
       "    </tr>\n",
       "    <tr>\n",
       "      <th>22</th>\n",
       "      <td>five</td>\n",
       "      <td>구매햇는데 기대되네요촉촉하다고 하는데 궁금해요</td>\n",
       "    </tr>\n",
       "    <tr>\n",
       "      <th>23</th>\n",
       "      <td>half</td>\n",
       "      <td>메포 파운데이션을 시켰는데 틴트가 왔어요.장난치시나요ㅋㅋㅋㅋㅋㅋㅋㅋㅋㅋㅋ당장 바꿔주...</td>\n",
       "    </tr>\n",
       "    <tr>\n",
       "      <th>24</th>\n",
       "      <td>twoHalf</td>\n",
       "      <td>이제 겨울이니 촉촉한 파데가 필요해서 한번 써볼려구요! 다들 무난하게 쓸만하다고 하...</td>\n",
       "    </tr>\n",
       "    <tr>\n",
       "      <th>25</th>\n",
       "      <td>oneHalf</td>\n",
       "      <td>11호 샀는데 촉촉하진 않고 건조해요  그냥 CC크림 써야겠어요.  .건성에는 비추...</td>\n",
       "    </tr>\n",
       "    <tr>\n",
       "      <th>26</th>\n",
       "      <td>five</td>\n",
       "      <td>빠른배송 감사해요 ㅎㅎ저는 11호 구매했는데 핑크베이스라 색상이 너무 예뻐요♥</td>\n",
       "    </tr>\n",
       "    <tr>\n",
       "      <th>27</th>\n",
       "      <td>five</td>\n",
       "      <td>건성에게좋다고들어서 엄청기대되요!!!ㅎㅎ</td>\n",
       "    </tr>\n",
       "  </tbody>\n",
       "</table>\n",
       "</div>"
      ],
      "text/plain": [
       "         star                                            comment\n",
       "0        five  국내21호쓰는데요 2호를 샀어요. 셰딩용으로 써야하나 고민중입니다. 아니면 밝은 베...\n",
       "1        five           색상이 환해요원래쓰던 컬러와 믹스해서 쓰는데 화사해보이고 아주 좋습니다.\n",
       "2        five  배송때문에 늦게받았지만 맘에듭니다 적당히 촉촉하고 밀착이 좋아요아쉬운건 자외선 차단...\n",
       "3        five             파운데이션만보면환장하는스타일이라화사하게하나더구입해야겠어요내통장너덜너덜\n",
       "4   threeHalf              UHD가 좀 건조한것 같아서 구매했어요~11호라 밝고 화사하네요^^\n",
       "5        five                   1호샀어요 ㅎㅎ 이게 그렇게 좋다길래 구매했는데 기대되네요\n",
       "6        five                     언니가 쓰던제품인데 촉촉하고 좋다고 해서 한번 쓰려고여\n",
       "7        five            원래 쓰던 제품이에요 ㅋㅋㅋ 가볍고 촉촉해요 대신 커버력은 좀 떨어져요\n",
       "8   threeHalf  배송은 오래걸렸지만, 제품은 만족스러웠어요!촉촉하다고해서 커버력은 기대하지않았는데,...\n",
       "9        five  벌써 두개째 구매해서 사용하고 있습니다.이번엔 미미박스를 통해 조금이라도 저렴하게 ...\n",
       "10       five  편하게 비비만써오다 제인생 첫 파운데이션이에요.아직 흔들어쓰고 하는건 익숙하지 않아...\n",
       "11       five         쿠폰 먹여서 저렴하게 샀어요 아직 써보지는 않았지만 유명한 만큼 기대중입니다\n",
       "12       five                   배송은 느렷지만 촉촉하고 심한 잠티아니면 다 가려집니다 호\n",
       "13       four  우선 엄청 촉촉하고 컬러가 피부색이랑 잘 어우러져서 들뜨지 않아요. 하지만 역시 촉...\n",
       "14       five  유투브에 이사배라고 검색하면 메이크업 엄청 잘하시는분있는데\" 베이스특집 촉촉해~ 물...\n",
       "15       five                           좋아욤!! 다만 배송이 생각보다 늦어요ㅠㅠㅠ\n",
       "16    twoHalf  페이스앤바디파데쓰다 이거한번써볼까해서 구입했는데 화장한 티 안나는건 좋아여 근데 지...\n",
       "17   fourHalf  펌핑 조절이 조금 어려운거 빼곤 리퀴드타입이라 편해요~피부에 밀착 잘 되고 뜨지 않...\n",
       "18       four            배송이 많이 늦어져서 실망 할뻔 했어요 그래도 제품은 촉촉하고 좋습니다\n",
       "19       five      파운데이션을 새로사야하는데 매이크업포에버제품을 한번 사고싶었어요 ㅋㅋ  기대할게요\n",
       "20       five  구입전에 백화점에서 직접 테스터도 받았는데 좋아요!!! 커버력은 낮지만 촉촉해서 좋...\n",
       "21       five                        정말좋아요 인생파데찾은기분♡♡파데는 메이크업포에버\n",
       "22       five                          구매햇는데 기대되네요촉촉하다고 하는데 궁금해요\n",
       "23       half  메포 파운데이션을 시켰는데 틴트가 왔어요.장난치시나요ㅋㅋㅋㅋㅋㅋㅋㅋㅋㅋㅋ당장 바꿔주...\n",
       "24    twoHalf  이제 겨울이니 촉촉한 파데가 필요해서 한번 써볼려구요! 다들 무난하게 쓸만하다고 하...\n",
       "25    oneHalf  11호 샀는데 촉촉하진 않고 건조해요  그냥 CC크림 써야겠어요.  .건성에는 비추...\n",
       "26       five        빠른배송 감사해요 ㅎㅎ저는 11호 구매했는데 핑크베이스라 색상이 너무 예뻐요♥\n",
       "27       five                             건성에게좋다고들어서 엄청기대되요!!!ㅎㅎ"
      ]
     },
     "execution_count": 10,
     "metadata": {},
     "output_type": "execute_result"
    }
   ],
   "source": [
    "star_list, comment_list = zip(*result_comments)\n",
    "df = pd.DataFrame(columns=[\"star\",\"comment\"])\n",
    "df[\"star\"] = star_list\n",
    "df[\"comment\"] = comment_list\n",
    "df"
   ]
  },
  {
   "cell_type": "code",
   "execution_count": null,
   "metadata": {
    "collapsed": true
   },
   "outputs": [],
   "source": []
  }
 ],
 "metadata": {
  "kernelspec": {
   "display_name": "Python 3",
   "language": "python",
   "name": "python3"
  },
  "language_info": {
   "codemirror_mode": {
    "name": "ipython",
    "version": 3
   },
   "file_extension": ".py",
   "mimetype": "text/x-python",
   "name": "python",
   "nbconvert_exporter": "python",
   "pygments_lexer": "ipython3",
   "version": "3.5.1"
  }
 },
 "nbformat": 4,
 "nbformat_minor": 0
}
