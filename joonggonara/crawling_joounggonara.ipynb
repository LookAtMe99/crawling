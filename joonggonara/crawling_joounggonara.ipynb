{
 "cells": [
  {
   "cell_type": "code",
   "execution_count": 1,
   "metadata": {
    "collapsed": true,
    "deletable": true,
    "editable": true
   },
   "outputs": [],
   "source": [
    "import requests\n",
    "import pandas as pd \n",
    "from bs4 import BeautifulSoup\n",
    "import re"
   ]
  },
  {
   "cell_type": "code",
   "execution_count": 7,
   "metadata": {
    "collapsed": true,
    "deletable": true,
    "editable": true
   },
   "outputs": [],
   "source": [
    "def get_content(url):\n",
    "    headers = {\n",
    "        \"Accept\":\"text/html,application/xhtml+xml,application/xml;q=0.9,image/webp,*/*;q=0.8\",\n",
    "        \"Accept-Encoding\":\"gzip, deflate, sdch\",\n",
    "        \"Accept-Language\":\"ko-KR,ko;q=0.8,en-US;q=0.6,en;q=0.4\",\n",
    "        \"Cache-Control\":\"max-age=0\",\n",
    "        \"Connection\":\"keep-alive\",\n",
    "        \"Cookie\":\"npic=eFBEBBU/yzEme0B5l5OcagDCMtaa5/G90XoG9Rkq9EP/wNGQGt+jPKJaBOveBEaFCA==; NNB=NLTF6ONPDQTFO; nx_ssl=2; ncvid=#vid#_14.39.150.134yORl; nci4=1e2acde1f7bcd6663bd59285887a057cdd867892c69d6fa17cb6ad5dd448b513813ffc27a629b6bcec4005d665c64d9647474a6bb086e7e8fc09e14d839409f9b7afa285a495d9a9a88faa9bd3a0b093b789c4b5bc9bbe8f978f82a286b7f6f2f3f2efededed9a95b097a9e4e08ce29a9bf28697f88994e7; nid_iplevel=1; page_uid=xERzTlpyLPZss5rLUkNssssssSh-406270; ncvc2=b4d42c085c6a6bdced107b5d7f9de2853a6a933c5f16c954b5704d9e2200e62df804c21bd9e570582abfe699; JSESSIONID=DD056961ED5BA6436D706429CBF42060; BMR=s=1464245784249&r=http%3A%2F%2Fm.cafe.naver.com%2FArticleRead.nhn%3Fclubid%3D10050146%26menuid%3D334%26articleid%3D319943171%26query%3D%25EB%25A7%25A5%25EB%25B6%2581&r2=http%3A%2F%2Fm.cafe.naver.com%2FArticleSearchList.nhn%3Fsearch.query%3D%25EB%25A7%25A5%25EB%25B6%2581%26search.menuid%3D%26search.searchBy%3D0%26search.sortBy%3Dsim%26search.clubid%3D10050146\",\n",
    "        \"Host\":\"m.cafe.naver.com\",\n",
    "        \"Referer\":\"http://m.cafe.naver.com/ArticleSearchList.nhn?search.query=%EB%A7%A5%EB%B6%81&search.menuid=&search.searchBy=0&search.sortBy=sim&search.clubid=10050146\",\n",
    "        \"Upgrade-Insecure-Requests\":\"1\",\n",
    "        \"User-Agent\":\"Mozilla/5.0 (Macintosh; Intel Mac OS X 10_11_5) AppleWebKit/537.36 (KHTML, like Gecko) Chrome/50.0.2661.102 Safari/537.36\",\n",
    "    }\n",
    "    response = requests.get(url, headers=headers)\n",
    "    dom = BeautifulSoup(response.content, \"html.parser\")\n",
    "    return dom.select_one(\"#postContent\").text"
   ]
  },
  {
   "cell_type": "code",
   "execution_count": 8,
   "metadata": {
    "collapsed": true,
    "deletable": true,
    "editable": true
   },
   "outputs": [],
   "source": [
    "def crawl_content(url):\n",
    "    try:\n",
    "        response = requests.get(url)\n",
    "        dom = BeautifulSoup(response.content, \"html.parser\")\n",
    "        return dom.select_one(\"#postContent\").text\n",
    "    except:\n",
    "        return \"\""
   ]
  },
  {
   "cell_type": "code",
   "execution_count": 9,
   "metadata": {
    "collapsed": true,
    "deletable": true,
    "editable": true
   },
   "outputs": [],
   "source": [
    "def find_phonenumber(content):\n",
    "    pattern = re.compile(\"[0-9O공영일이둘삼셋사넷오육칠팔구]{3}[.-]?[0-9O공영일이둘삼셋사넷오육칠팔구]{3,4}[.-]?[0-9O공영일이둘삼셋사넷오육칠팔구]{4}\")\n",
    "    phonenumbers = pattern.findall(content)\n",
    "    if phonenumbers:\n",
    "        return phonenumbers[0]\n",
    "    return \"\"\n",
    "def preprocess_phonenumber(phonenumber):\n",
    "    return phonenumber.replace(\"삼\",\"3\").replace(\"O\",\"0\").replace(\"칠\",\"7\").replace(\"구\",\"9\")"
   ]
  },
  {
   "cell_type": "code",
   "execution_count": 10,
   "metadata": {
    "collapsed": false,
    "deletable": true,
    "editable": true
   },
   "outputs": [
    {
     "ename": "AttributeError",
     "evalue": "'NoneType' object has no attribute 'text'",
     "output_type": "error",
     "traceback": [
      "\u001b[0;31m---------------------------------------------------------------------------\u001b[0m",
      "\u001b[0;31mAttributeError\u001b[0m                            Traceback (most recent call last)",
      "\u001b[0;32m<ipython-input-10-1d9fa388a3f6>\u001b[0m in \u001b[0;36m<module>\u001b[0;34m()\u001b[0m\n\u001b[1;32m     15\u001b[0m     \u001b[0mdate\u001b[0m \u001b[0;34m=\u001b[0m \u001b[0mrow\u001b[0m\u001b[0;34m.\u001b[0m\u001b[0mselect_one\u001b[0m\u001b[0;34m(\u001b[0m\u001b[0;34m\".time\"\u001b[0m\u001b[0;34m)\u001b[0m\u001b[0;34m.\u001b[0m\u001b[0mtext\u001b[0m\u001b[0;34m\u001b[0m\u001b[0m\n\u001b[1;32m     16\u001b[0m     \u001b[0mno\u001b[0m \u001b[0;34m=\u001b[0m \u001b[0mrow\u001b[0m\u001b[0;34m.\u001b[0m\u001b[0mselect_one\u001b[0m\u001b[0;34m(\u001b[0m\u001b[0;34m\".no em\"\u001b[0m\u001b[0;34m)\u001b[0m\u001b[0;34m.\u001b[0m\u001b[0mtext\u001b[0m\u001b[0;34m\u001b[0m\u001b[0m\n\u001b[0;32m---> 17\u001b[0;31m     \u001b[0mcontent\u001b[0m \u001b[0;34m=\u001b[0m \u001b[0mget_content\u001b[0m\u001b[0;34m(\u001b[0m\u001b[0mlink\u001b[0m\u001b[0;34m)\u001b[0m\u001b[0;34m\u001b[0m\u001b[0m\n\u001b[0m\u001b[1;32m     18\u001b[0m     \u001b[0mphonenumber\u001b[0m \u001b[0;34m=\u001b[0m \u001b[0mpreprocess_phonenumber\u001b[0m\u001b[0;34m(\u001b[0m\u001b[0mfind_phonenumber\u001b[0m\u001b[0;34m(\u001b[0m\u001b[0mcontent\u001b[0m\u001b[0;34m)\u001b[0m\u001b[0;34m)\u001b[0m\u001b[0;34m\u001b[0m\u001b[0m\n\u001b[1;32m     19\u001b[0m \u001b[0;34m\u001b[0m\u001b[0m\n",
      "\u001b[0;32m<ipython-input-7-95eb96907288>\u001b[0m in \u001b[0;36mget_content\u001b[0;34m(url)\u001b[0m\n\u001b[1;32m     14\u001b[0m     \u001b[0mresponse\u001b[0m \u001b[0;34m=\u001b[0m \u001b[0mrequests\u001b[0m\u001b[0;34m.\u001b[0m\u001b[0mget\u001b[0m\u001b[0;34m(\u001b[0m\u001b[0murl\u001b[0m\u001b[0;34m)\u001b[0m\u001b[0;34m\u001b[0m\u001b[0m\n\u001b[1;32m     15\u001b[0m     \u001b[0mdom\u001b[0m \u001b[0;34m=\u001b[0m \u001b[0mBeautifulSoup\u001b[0m\u001b[0;34m(\u001b[0m\u001b[0mresponse\u001b[0m\u001b[0;34m.\u001b[0m\u001b[0mcontent\u001b[0m\u001b[0;34m,\u001b[0m \u001b[0;34m\"html.parser\"\u001b[0m\u001b[0;34m)\u001b[0m\u001b[0;34m\u001b[0m\u001b[0m\n\u001b[0;32m---> 16\u001b[0;31m     \u001b[0;32mreturn\u001b[0m \u001b[0mdom\u001b[0m\u001b[0;34m.\u001b[0m\u001b[0mselect_one\u001b[0m\u001b[0;34m(\u001b[0m\u001b[0;34m\"#postContent\"\u001b[0m\u001b[0;34m)\u001b[0m\u001b[0;34m.\u001b[0m\u001b[0mtext\u001b[0m\u001b[0;34m\u001b[0m\u001b[0m\n\u001b[0m",
      "\u001b[0;31mAttributeError\u001b[0m: 'NoneType' object has no attribute 'text'"
     ]
    }
   ],
   "source": [
    "url = \"http://m.cafe.naver.com/ArticleSearchList.nhn?search.query=맥북&search.menuid=&search.searchBy=0&search.sortBy=sim&search.clubid=10050146\"\n",
    "user_agent = \"Mozilla/5.0 (Macintosh; Intel Mac OS X 10_9_4) AppleWebKit/537.36 (KHTML, like Gecko) \" + \\\n",
    "            \"Chrome/37.0.2062.94 Safari/537.36\"\n",
    "headers = {\"User-Agent\": user_agent}\n",
    "\n",
    "response = requests.get(url, headers=headers)\n",
    "dom = BeautifulSoup(response.content, \"html.parser\")\n",
    "rows = dom.select(\"#articleList li\")\n",
    "\n",
    "df = pd.DataFrame(columns=[\"title\",\"writer\",\"no\",\"date\",\"link\",\"content\", \"phonenumber\"])\n",
    "\n",
    "for row in rows:\n",
    "    link = \"http://m.cafe.naver.com\" + row.select_one(\"a\").get(\"href\")\n",
    "    title = row.select_one(\"h3\").text.strip()\n",
    "    writer = row.select_one(\".name\").text\n",
    "    date = row.select_one(\".time\").text\n",
    "    no = row.select_one(\".no em\").text\n",
    "    content = get_content(link)\n",
    "    phonenumber = preprocess_phonenumber(find_phonenumber(content))\n",
    "    \n",
    "    data_dict = {\n",
    "        \"title\":title, \n",
    "        \"writer\":writer, \n",
    "        \"no\":no, \n",
    "        \"date\":date, \n",
    "        \"link\":link, \n",
    "        \"content\":content, \n",
    "        \"phonenumber\":phonenumber\n",
    "    }\n",
    "\n",
    "    df.loc[len(df)] = data_dict    \n",
    "    \n",
    "df"
   ]
  },
  {
   "cell_type": "code",
   "execution_count": null,
   "metadata": {
    "collapsed": true,
    "deletable": true,
    "editable": true
   },
   "outputs": [],
   "source": []
  }
 ],
 "metadata": {
  "kernelspec": {
   "display_name": "Python 3",
   "language": "python",
   "name": "python3"
  },
  "language_info": {
   "codemirror_mode": {
    "name": "ipython",
    "version": 3
   },
   "file_extension": ".py",
   "mimetype": "text/x-python",
   "name": "python",
   "nbconvert_exporter": "python",
   "pygments_lexer": "ipython3",
   "version": "3.6.0"
  }
 },
 "nbformat": 4,
 "nbformat_minor": 0
}
