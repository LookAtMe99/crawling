{
 "cells": [
  {
   "cell_type": "code",
   "execution_count": 1,
   "metadata": {
    "collapsed": true
   },
   "outputs": [],
   "source": [
    "import requests\n",
    "import pandas as pd \n",
    "from bs4 import BeautifulSoup\n",
    "import re"
   ]
  },
  {
   "cell_type": "code",
   "execution_count": 2,
   "metadata": {
    "collapsed": true
   },
   "outputs": [],
   "source": [
    "def get_content(url):\n",
    "    headers = {\n",
    "        \"Accept\":\"text/html,application/xhtml+xml,application/xml;q=0.9,image/webp,*/*;q=0.8\",\n",
    "        \"Accept-Encoding\":\"gzip, deflate, sdch\",\n",
    "        \"Accept-Language\":\"ko-KR,ko;q=0.8,en-US;q=0.6,en;q=0.4\",\n",
    "        \"Cache-Control\":\"max-age=0\",\n",
    "        \"Connection\":\"keep-alive\",\n",
    "        \"Cookie\":\"npic=eFBEBBU/yzEme0B5l5OcagDCMtaa5/G90XoG9Rkq9EP/wNGQGt+jPKJaBOveBEaFCA==; NNB=NLTF6ONPDQTFO; nx_ssl=2; ncvid=#vid#_14.39.150.134yORl; nci4=1e2acde1f7bcd6663bd59285887a057cdd867892c69d6fa17cb6ad5dd448b513813ffc27a629b6bcec4005d665c64d9647474a6bb086e7e8fc09e14d839409f9b7afa285a495d9a9a88faa9bd3a0b093b789c4b5bc9bbe8f978f82a286b7f6f2f3f2efededed9a95b097a9e4e08ce29a9bf28697f88994e7; nid_iplevel=1; page_uid=xERzTlpyLPZss5rLUkNssssssSh-406270; ncvc2=b4d42c085c6a6bdced107b5d7f9de2853a6a933c5f16c954b5704d9e2200e62df804c21bd9e570582abfe699; JSESSIONID=DD056961ED5BA6436D706429CBF42060; BMR=s=1464245784249&r=http%3A%2F%2Fm.cafe.naver.com%2FArticleRead.nhn%3Fclubid%3D10050146%26menuid%3D334%26articleid%3D319943171%26query%3D%25EB%25A7%25A5%25EB%25B6%2581&r2=http%3A%2F%2Fm.cafe.naver.com%2FArticleSearchList.nhn%3Fsearch.query%3D%25EB%25A7%25A5%25EB%25B6%2581%26search.menuid%3D%26search.searchBy%3D0%26search.sortBy%3Dsim%26search.clubid%3D10050146\",\n",
    "        \"Host\":\"m.cafe.naver.com\",\n",
    "        \"Referer\":\"http://m.cafe.naver.com/ArticleSearchList.nhn?search.query=%EB%A7%A5%EB%B6%81&search.menuid=&search.searchBy=0&search.sortBy=sim&search.clubid=10050146\",\n",
    "        \"Upgrade-Insecure-Requests\":\"1\",\n",
    "        \"User-Agent\":\"Mozilla/5.0 (Macintosh; Intel Mac OS X 10_11_5) AppleWebKit/537.36 (KHTML, like Gecko) Chrome/50.0.2661.102 Safari/537.36\",\n",
    "    }\n",
    "    response = requests.get(url, headers=headers)\n",
    "    dom = BeautifulSoup(response.content, \"html.parser\")\n",
    "    return dom.select_one(\"#postContent\").text"
   ]
  },
  {
   "cell_type": "code",
   "execution_count": 3,
   "metadata": {
    "collapsed": true
   },
   "outputs": [],
   "source": [
    "def crawl_content(url):\n",
    "    try:\n",
    "        response = requests.get(url)\n",
    "        dom = BeautifulSoup(response.content, \"html.parser\")\n",
    "        return dom.select_one(\"#postContent\").text\n",
    "    except:\n",
    "        return \"\""
   ]
  },
  {
   "cell_type": "code",
   "execution_count": 4,
   "metadata": {
    "collapsed": true
   },
   "outputs": [],
   "source": [
    "def find_phonenumber(content):\n",
    "    pattern = re.compile(\"[0-9O공영일이둘삼셋사넷오육칠팔구]{3}[.-]?[0-9O공영일이둘삼셋사넷오육칠팔구]{3,4}[.-]?[0-9O공영일이둘삼셋사넷오육칠팔구]{4}\")\n",
    "    phonenumbers = pattern.findall(content)\n",
    "    if phonenumbers:\n",
    "        return phonenumbers[0]\n",
    "    return \"\"\n",
    "def preprocess_phonenumber(phonenumber):\n",
    "    return phonenumber.replace(\"삼\",\"3\").replace(\"O\",\"0\").replace(\"칠\",\"7\").replace(\"구\",\"9\")"
   ]
  },
  {
   "cell_type": "code",
   "execution_count": 6,
   "metadata": {
    "collapsed": false
   },
   "outputs": [
    {
     "data": {
      "text/html": [
       "<div>\n",
       "<table border=\"1\" class=\"dataframe\">\n",
       "  <thead>\n",
       "    <tr style=\"text-align: right;\">\n",
       "      <th></th>\n",
       "      <th>title</th>\n",
       "      <th>writer</th>\n",
       "      <th>no</th>\n",
       "      <th>date</th>\n",
       "      <th>link</th>\n",
       "      <th>content</th>\n",
       "      <th>phonenumber</th>\n",
       "    </tr>\n",
       "  </thead>\n",
       "  <tbody>\n",
       "    <tr>\n",
       "      <th>0</th>\n",
       "      <td>맥북프로레티나 사기글 신고합니다.</td>\n",
       "      <td>유안</td>\n",
       "      <td>76</td>\n",
       "      <td>16.06.16.</td>\n",
       "      <td>http://m.cafe.naver.com/ArticleRead.nhn?clubid...</td>\n",
       "      <td>\\n\\n &lt; 신고글 작성 전 주의사항 \\r\\n&gt;\\n\\n\\n■ \\r\\n더치트에 피해사...</td>\n",
       "      <td></td>\n",
       "    </tr>\n",
       "    <tr>\n",
       "      <th>1</th>\n",
       "      <td>[판매완료] 2015년 맥북프로레티나 15인치</td>\n",
       "      <td>코코르마계정</td>\n",
       "      <td>146</td>\n",
       "      <td>16.06.04.</td>\n",
       "      <td>http://m.cafe.naver.com/ArticleRead.nhn?clubid...</td>\n",
       "      <td>\\n\\n   중고나라 공식 앱 다운받기      편한 택배 / 퀵 신청하기판 매 양...</td>\n",
       "      <td>010-2752-6121</td>\n",
       "    </tr>\n",
       "    <tr>\n",
       "      <th>2</th>\n",
       "      <td>맥북프로레티나 13인치 2015년</td>\n",
       "      <td>뻐킹썸머</td>\n",
       "      <td>123</td>\n",
       "      <td>16.05.31.</td>\n",
       "      <td>http://m.cafe.naver.com/ArticleRead.nhn?clubid...</td>\n",
       "      <td>\\n\\n        맥북프로레티나 13인치 2015년 기본형 128기가 8램 입니...</td>\n",
       "      <td></td>\n",
       "    </tr>\n",
       "    <tr>\n",
       "      <th>3</th>\n",
       "      <td>맥북에어 11인치 2010 LATE(4G/128G).아이패드 미니2 128G LTE...</td>\n",
       "      <td>raban10</td>\n",
       "      <td>140</td>\n",
       "      <td>16.05.28.</td>\n",
       "      <td>http://m.cafe.naver.com/ArticleRead.nhn?clubid...</td>\n",
       "      <td>\\n\\n      중고나라 공식 앱 다운받기      편한 택배 / 퀵 신청하기 판...</td>\n",
       "      <td></td>\n",
       "    </tr>\n",
       "    <tr>\n",
       "      <th>4</th>\n",
       "      <td>[판매완료] 2016년 맥북 신형 12인치 레티나 512GB / 1.2Ghz</td>\n",
       "      <td>논뚱</td>\n",
       "      <td>385</td>\n",
       "      <td>16.05.27.</td>\n",
       "      <td>http://m.cafe.naver.com/ArticleRead.nhn?clubid...</td>\n",
       "      <td>\\n\\n      중고나라 공식 앱 다운받기      편한 택배 / 퀵 신청하기 판...</td>\n",
       "      <td></td>\n",
       "    </tr>\n",
       "  </tbody>\n",
       "</table>\n",
       "</div>"
      ],
      "text/plain": [
       "                                               title   writer   no       date  \\\n",
       "0                                 맥북프로레티나 사기글 신고합니다.       유안   76  16.06.16.   \n",
       "1                          [판매완료] 2015년 맥북프로레티나 15인치   코코르마계정  146  16.06.04.   \n",
       "2                                 맥북프로레티나 13인치 2015년     뻐킹썸머  123  16.05.31.   \n",
       "3  맥북에어 11인치 2010 LATE(4G/128G).아이패드 미니2 128G LTE...  raban10  140  16.05.28.   \n",
       "4         [판매완료] 2016년 맥북 신형 12인치 레티나 512GB / 1.2Ghz       논뚱  385  16.05.27.   \n",
       "\n",
       "                                                link  \\\n",
       "0  http://m.cafe.naver.com/ArticleRead.nhn?clubid...   \n",
       "1  http://m.cafe.naver.com/ArticleRead.nhn?clubid...   \n",
       "2  http://m.cafe.naver.com/ArticleRead.nhn?clubid...   \n",
       "3  http://m.cafe.naver.com/ArticleRead.nhn?clubid...   \n",
       "4  http://m.cafe.naver.com/ArticleRead.nhn?clubid...   \n",
       "\n",
       "                                             content    phonenumber  \n",
       "0  \\n\\n < 신고글 작성 전 주의사항 \\r\\n>\\n\\n\\n■ \\r\\n더치트에 피해사...                 \n",
       "1  \\n\\n   중고나라 공식 앱 다운받기      편한 택배 / 퀵 신청하기판 매 양...  010-2752-6121  \n",
       "2  \\n\\n        맥북프로레티나 13인치 2015년 기본형 128기가 8램 입니...                 \n",
       "3  \\n\\n      중고나라 공식 앱 다운받기      편한 택배 / 퀵 신청하기 판...                 \n",
       "4  \\n\\n      중고나라 공식 앱 다운받기      편한 택배 / 퀵 신청하기 판...                 "
      ]
     },
     "execution_count": 6,
     "metadata": {},
     "output_type": "execute_result"
    }
   ],
   "source": [
    "url = \"http://m.cafe.naver.com/ArticleSearchList.nhn?search.query=맥북&search.menuid=&search.searchBy=0&search.sortBy=sim&search.clubid=10050146\"\n",
    "user_agent = \"Mozilla/5.0 (Macintosh; Intel Mac OS X 10_9_4) AppleWebKit/537.36 (KHTML, like Gecko) \" + \\\n",
    "            \"Chrome/37.0.2062.94 Safari/537.36\"\n",
    "headers = {\"User-Agent\": user_agent}\n",
    "\n",
    "response = requests.get(url, headers=headers)\n",
    "dom = BeautifulSoup(response.content, \"html.parser\")\n",
    "rows = dom.select(\"#articleList li\")\n",
    "\n",
    "df = pd.DataFrame(columns=[\"title\",\"writer\",\"no\",\"date\",\"link\",\"content\", \"phonenumber\"])\n",
    "\n",
    "for row in rows:\n",
    "    link = \"http://m.cafe.naver.com\" + row.select_one(\"a\").get(\"href\")\n",
    "    title = row.select_one(\"h3\").text.strip()\n",
    "    writer = row.select_one(\".name\").text\n",
    "    date = row.select_one(\".time\").text\n",
    "    no = row.select_one(\".no em\").text\n",
    "    content = get_content(link)\n",
    "    phonenumber = preprocess_phonenumber(find_phonenumber(content))\n",
    "    \n",
    "    data_dict = {\n",
    "        \"title\":title, \n",
    "        \"writer\":writer, \n",
    "        \"no\":no, \n",
    "        \"date\":date, \n",
    "        \"link\":link, \n",
    "        \"content\":content, \n",
    "        \"phonenumber\":phonenumber\n",
    "    }\n",
    "\n",
    "    df.loc[len(df)] = data_dict    \n",
    "    \n",
    "df.head()"
   ]
  },
  {
   "cell_type": "code",
   "execution_count": null,
   "metadata": {
    "collapsed": true
   },
   "outputs": [],
   "source": []
  }
 ],
 "metadata": {
  "kernelspec": {
   "display_name": "Python 3",
   "language": "python",
   "name": "python3"
  },
  "language_info": {
   "codemirror_mode": {
    "name": "ipython",
    "version": 3
   },
   "file_extension": ".py",
   "mimetype": "text/x-python",
   "name": "python",
   "nbconvert_exporter": "python",
   "pygments_lexer": "ipython3",
   "version": "3.5.1"
  }
 },
 "nbformat": 4,
 "nbformat_minor": 0
}
