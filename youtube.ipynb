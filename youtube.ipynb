{
 "cells": [
  {
   "cell_type": "code",
   "execution_count": null,
   "metadata": {
    "collapsed": true
   },
   "outputs": [],
   "source": [
    "유튜브 영상 자동 다운로드..."
   ]
  },
  {
   "cell_type": "code",
   "execution_count": 1,
   "metadata": {
    "collapsed": true,
    "deletable": true,
    "editable": true
   },
   "outputs": [],
   "source": [
    "from selenium import webdriver\n",
    "import requests\n",
    "import time"
   ]
  },
  {
   "cell_type": "code",
   "execution_count": 2,
   "metadata": {
    "collapsed": true,
    "deletable": true,
    "editable": true
   },
   "outputs": [],
   "source": [
    "def check_element(selector):\n",
    "    try:\n",
    "        driver.find_element_by_css_selector(selector)\n",
    "        return True\n",
    "    except:\n",
    "        return False\n",
    "\n",
    "def download(title, download_link):\n",
    "    response = requests.get(download_link, stream=True)\n",
    "    download_path = \"./data/\" + title + \".mp4\"\n",
    "    with open(download_path, 'wb') as f:\n",
    "        for chunk in response.iter_content(chunk_size=1024): \n",
    "            if chunk:\n",
    "                f.write(chunk)"
   ]
  },
  {
   "cell_type": "code",
   "execution_count": 3,
   "metadata": {
    "collapsed": true,
    "deletable": true,
    "editable": true
   },
   "outputs": [],
   "source": [
    "# youtube_url = \"https://www.youtube.com/watch?v=JEq7Ehw-qk8&list=PLoYCgNOIyGABI011EYc-avPOsk1YsMUe_\"\n",
    "youtube_url = \"https://www.youtube.com/watch?v=0xE73B2j64k&list=PLiN3p7jVmnkWVEYNWwyO3Ec2gLlicivaY\""
   ]
  },
  {
   "cell_type": "code",
   "execution_count": 4,
   "metadata": {
    "collapsed": true,
    "deletable": true,
    "editable": true
   },
   "outputs": [],
   "source": [
    "driver =  webdriver.Chrome()\n",
    "driver.get(youtube_url)"
   ]
  },
  {
   "cell_type": "code",
   "execution_count": 5,
   "metadata": {
    "collapsed": false,
    "deletable": true,
    "editable": true
   },
   "outputs": [
    {
     "data": {
      "text/plain": [
       "['어벤져스 vs 디펜더스',\n",
       " '우주판 왕좌의 게임',\n",
       " '갑자기 대통령이 바뀌면 일어나는 일들',\n",
       " 'TV판 어벤져스',\n",
       " '생활밀착형 슈퍼히어로',\n",
       " '마블의 새로운 슈퍼히어로']"
      ]
     },
     "execution_count": 5,
     "metadata": {},
     "output_type": "execute_result"
    }
   ],
   "source": [
    "# get title\n",
    "title_list = []\n",
    "titles = driver.find_elements_by_css_selector(\".yt-ui-ellipsis\")\n",
    "for title in titles:\n",
    "    title_list.append(title.text)\n",
    "title_list"
   ]
  },
  {
   "cell_type": "code",
   "execution_count": 6,
   "metadata": {
    "collapsed": false,
    "deletable": true,
    "editable": true
   },
   "outputs": [
    {
     "data": {
      "text/plain": [
       "['https://www.youtube.com/watch?v=0xE73B2j64k&list=PLiN3p7jVmnkWVEYNWwyO3Ec2gLlicivaY&index=1',\n",
       " 'https://www.youtube.com/watch?v=b52pgCtojw0&list=PLiN3p7jVmnkWVEYNWwyO3Ec2gLlicivaY&index=2',\n",
       " 'https://www.youtube.com/watch?v=90cdV4DE89U&list=PLiN3p7jVmnkWVEYNWwyO3Ec2gLlicivaY&index=3',\n",
       " 'https://www.youtube.com/watch?v=l9Exn8xCmII&list=PLiN3p7jVmnkWVEYNWwyO3Ec2gLlicivaY&index=4',\n",
       " 'https://www.youtube.com/watch?v=Hih4t3cFhGE&list=PLiN3p7jVmnkWVEYNWwyO3Ec2gLlicivaY&index=5',\n",
       " 'https://www.youtube.com/watch?v=R3gtyxFwBQQ&list=PLiN3p7jVmnkWVEYNWwyO3Ec2gLlicivaY&index=6']"
      ]
     },
     "execution_count": 6,
     "metadata": {},
     "output_type": "execute_result"
    }
   ],
   "source": [
    "# get links\n",
    "link_list = []\n",
    "links = driver.find_elements_by_css_selector(\".spf-link.playlist-video\")\n",
    "for link in links:\n",
    "    link_list.append(link.get_attribute('href'))\n",
    "link_list"
   ]
  },
  {
   "cell_type": "code",
   "execution_count": 7,
   "metadata": {
    "collapsed": false,
    "deletable": true,
    "editable": true
   },
   "outputs": [
    {
     "data": {
      "text/plain": [
       "['https://ssyoutube.com/watch?v=0xE73B2j64k&list=PLiN3p7jVmnkWVEYNWwyO3Ec2gLlicivaY&index=1',\n",
       " 'https://ssyoutube.com/watch?v=b52pgCtojw0&list=PLiN3p7jVmnkWVEYNWwyO3Ec2gLlicivaY&index=2',\n",
       " 'https://ssyoutube.com/watch?v=90cdV4DE89U&list=PLiN3p7jVmnkWVEYNWwyO3Ec2gLlicivaY&index=3',\n",
       " 'https://ssyoutube.com/watch?v=l9Exn8xCmII&list=PLiN3p7jVmnkWVEYNWwyO3Ec2gLlicivaY&index=4',\n",
       " 'https://ssyoutube.com/watch?v=Hih4t3cFhGE&list=PLiN3p7jVmnkWVEYNWwyO3Ec2gLlicivaY&index=5',\n",
       " 'https://ssyoutube.com/watch?v=R3gtyxFwBQQ&list=PLiN3p7jVmnkWVEYNWwyO3Ec2gLlicivaY&index=6']"
      ]
     },
     "execution_count": 7,
     "metadata": {},
     "output_type": "execute_result"
    }
   ],
   "source": [
    "# change links to ssyoutube\n",
    "change_links = [link.replace(\"www.\",\"ss\") for link in link_list ]\n",
    "change_links"
   ]
  },
  {
   "cell_type": "code",
   "execution_count": 8,
   "metadata": {
    "collapsed": false,
    "deletable": true,
    "editable": true
   },
   "outputs": [
    {
     "data": {
      "text/plain": [
       "6"
      ]
     },
     "execution_count": 8,
     "metadata": {},
     "output_type": "execute_result"
    }
   ],
   "source": [
    "# get download links\n",
    "download_links = []\n",
    "for idx, change_link in enumerate(change_links):\n",
    "    driver.get(change_link)\n",
    "    driver.find_element_by_css_selector(\"a.action.ga_track_events\").click()\n",
    "    selector = \".link-download\"\n",
    "    for _ in range(30):\n",
    "        result = check_element(selector)\n",
    "        time.sleep(1)\n",
    "        if result:\n",
    "            break\n",
    "    try:\n",
    "        download_links.append(driver.find_element_by_css_selector(\".link-download\").get_attribute('href'))\n",
    "    except:\n",
    "        print(\"Fail get download link.\")\n",
    "        \n",
    "# close browser\n",
    "driver.close()\n",
    "\n",
    "len(download_links)"
   ]
  },
  {
   "cell_type": "code",
   "execution_count": 9,
   "metadata": {
    "collapsed": false,
    "deletable": true,
    "editable": true
   },
   "outputs": [
    {
     "name": "stdout",
     "output_type": "stream",
     "text": [
      "Downloading... - 어벤져스 vs 디펜더스\n",
      "Downloading... - 우주판 왕좌의 게임\n",
      "Downloading... - 갑자기 대통령이 바뀌면 일어나는 일들\n",
      "Downloading... - TV판 어벤져스\n",
      "Downloading... - 생활밀착형 슈퍼히어로\n",
      "Downloading... - 마블의 새로운 슈퍼히어로\n"
     ]
    }
   ],
   "source": [
    "for idx, download_link in enumerate(download_links):\n",
    "    print(\"Downloading... - \" + title_list[idx])\n",
    "    download(title_list[idx], download_link)"
   ]
  },
  {
   "cell_type": "code",
   "execution_count": null,
   "metadata": {
    "collapsed": true,
    "deletable": true,
    "editable": true
   },
   "outputs": [],
   "source": [
    "다운로드 시작!! 재생 ... 잘나옴...끄읏!"
   ]
  }
 ],
 "metadata": {
  "kernelspec": {
   "display_name": "Python 3",
   "language": "python",
   "name": "python3"
  },
  "language_info": {
   "codemirror_mode": {
    "name": "ipython",
    "version": 3
   },
   "file_extension": ".py",
   "mimetype": "text/x-python",
   "name": "python",
   "nbconvert_exporter": "python",
   "pygments_lexer": "ipython3",
   "version": "3.6.0"
  }
 },
 "nbformat": 4,
 "nbformat_minor": 2
}
