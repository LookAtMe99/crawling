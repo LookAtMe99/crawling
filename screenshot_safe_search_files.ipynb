{
 "cells": [
  {
   "cell_type": "code",
   "execution_count": null,
   "metadata": {
    "collapsed": true
   },
   "outputs": [],
   "source": [
    "from selenium import webdriver\n",
    "import base64, pickle, time, os\n",
    "from IPython.display import Image\n",
    "from IPython.display import display\n",
    "from PIL import Image as pil\n",
    "from selenium.webdriver.chrome.options import Options"
   ]
  },
  {
   "cell_type": "markdown",
   "metadata": {},
   "source": [
    "### 1. Get Youtube Images"
   ]
  },
  {
   "cell_type": "markdown",
   "metadata": {},
   "source": [
    "##### (1) Get Youtube Driver & Save Element Screen"
   ]
  },
  {
   "cell_type": "code",
   "execution_count": null,
   "metadata": {
    "collapsed": true
   },
   "outputs": [],
   "source": [
    "def getDriver(youtube_url):\n",
    "    chrome_options = Options()\n",
    "    chrome_options.add_argument(\"--window-size=1920,1080\")\n",
    "    driver = webdriver.Chrome(chrome_options=chrome_options)\n",
    "#    driver =  webdriver.Chrome()\n",
    "    driver.get(youtube_url)\n",
    "    return driver\n",
    "\n",
    "def saveScreen(driver, filename):\n",
    "    element = driver.find_element_by_css_selector('#movie_player')\n",
    "    location = element.location\n",
    "    size = element.size\n",
    "    driver.save_screenshot('screenshot.png')\n",
    "    im = pil.open('screenshot.png')\n",
    "    \n",
    "    left = location['x']\n",
    "    top = location['y']\n",
    "    right = left + size['width']\n",
    "    bottom = top + size['height']\n",
    "\n",
    "    # left, top, right, bottom\n",
    "    im = im.crop((left, top, right, bottom)) \n",
    "    im.save(filename) "
   ]
  },
  {
   "cell_type": "markdown",
   "metadata": {},
   "source": [
    "##### (2) Check Element"
   ]
  },
  {
   "cell_type": "code",
   "execution_count": null,
   "metadata": {
    "collapsed": true
   },
   "outputs": [],
   "source": [
    "def checkElement(driver, selector):\n",
    "    result = True\n",
    "    try:\n",
    "        driver.find_element_by_css_selector(selector)\n",
    "    except:\n",
    "        result = False\n",
    "    return result"
   ]
  },
  {
   "cell_type": "markdown",
   "metadata": {},
   "source": [
    "##### (3) Skip Ad"
   ]
  },
  {
   "cell_type": "code",
   "execution_count": null,
   "metadata": {
    "collapsed": true
   },
   "outputs": [],
   "source": [
    "skipAd_selector = \".videoAdUiSkipButton.videoAdUiAction.videoAdUiFixedPaddingSkipButton\"\n",
    "closeAd_selector = \".adDisplay.extra-padding .close-button\"\n",
    "\n",
    "def skipAd(driver):\n",
    "    if checkElement(driver, skipAd_selector):\n",
    "        driver.find_element_by_css_selector(skipAd_selector).click()\n",
    "    \n",
    "def closeAd(driver):\n",
    "    if checkElement(driver, closeAd_selector):\n",
    "        driver.find_element_by_css_selector(closeAd_selector).click()"
   ]
  },
  {
   "cell_type": "markdown",
   "metadata": {},
   "source": [
    "##### (4) Make Directory"
   ]
  },
  {
   "cell_type": "code",
   "execution_count": null,
   "metadata": {
    "collapsed": true
   },
   "outputs": [],
   "source": [
    "def makeDir(youtube_url):\n",
    "    dirList = os.listdir(\"data/images/\")\n",
    "    dirName = youtube_url.split(\"v=\")[1]\n",
    "    isDir = True\n",
    "    if dirName not in dirList:\n",
    "        os.makedirs(\"data/images/\" + dirName)\n",
    "        isDir = False\n",
    "    return isDir, dirName"
   ]
  },
  {
   "cell_type": "markdown",
   "metadata": {},
   "source": [
    "##### (5) screenshot youtube"
   ]
  },
  {
   "cell_type": "code",
   "execution_count": null,
   "metadata": {
    "collapsed": true
   },
   "outputs": [],
   "source": [
    "def saveImages(youtube_url, start_term, image_count, save_term, dirName):\n",
    "    \n",
    "    # open driver\n",
    "    driver = getDriver(youtube_url)\n",
    "\n",
    "    # skip ad\n",
    "    time.sleep(6)\n",
    "    skipAd(driver)\n",
    "    \n",
    "    time.sleep(6)\n",
    "    closeAd(driver)\n",
    "\n",
    "    # save images\n",
    "    time.sleep(start_term)\n",
    "    for idx in range(1, image_count+1):\n",
    "        saveScreen(driver, 'data/images/' + dirName + '/screenshot' + str(idx) + '.png')\n",
    "        time.sleep(save_term)\n",
    "        print('saved : screenshot' + str(idx) + '.png')\n",
    "    # close driver\n",
    "    driver.close()"
   ]
  },
  {
   "cell_type": "markdown",
   "metadata": {},
   "source": [
    "##### (6) resizing image (512, 512)"
   ]
  },
  {
   "cell_type": "code",
   "execution_count": null,
   "metadata": {
    "collapsed": true
   },
   "outputs": [],
   "source": [
    "def makeTunmnail(image_count, dirName):\n",
    "# make image list\n",
    "    filenames = []\n",
    "    for idx in range(1, image_count + 1):\n",
    "        filename = 'C:/Users/hjnam/study/crawling/data/images/' + dirName  + '/screenshot' + str(idx) + '.png'\n",
    "        filenames.append(filename)\n",
    "\n",
    "    # make thumnail\n",
    "    size = (512, 512)\n",
    "    thumnails = []\n",
    "    for filename in filenames:\n",
    "        im = pil.open(filename)\n",
    "        im.thumbnail(size)\n",
    "        savename = filename.split(\"/\")\n",
    "        savename[len(savename)-1] = savename[len(savename)-1].replace(\".png\",\"_thumbnail.png\")\n",
    "        savename = \"/\".join(savename)\n",
    "        im.save(savename, \"png\")\n",
    "        thumnails.append(savename)\n",
    "        \n",
    "    return thumnails"
   ]
  },
  {
   "cell_type": "code",
   "execution_count": null,
   "metadata": {
    "collapsed": true
   },
   "outputs": [],
   "source": [
    "#youtube_url = \"https://www.youtube.com/watch?v=xyq2T_K6DHg\" # 이미지 생성 youtube URL \n",
    "\n",
    "# 영국남자\n",
    "#youtube_url = \"https://www.youtube.com/watch?v=wUfqAuUPFYE&start=30\"\n",
    "\n",
    "# 태양의후예\n",
    "youtube_url = \"https://www.youtube.com/watch?v=RVVAclDe9cU&start=50\"\n",
    "\n",
    "# 도깨비 \n",
    "#youtube_url = \"https://www.youtube.com/watch?v=2kZg7byEYGA\""
   ]
  },
  {
   "cell_type": "markdown",
   "metadata": {},
   "source": [
    "### 2. Google Vision API"
   ]
  },
  {
   "cell_type": "code",
   "execution_count": null,
   "metadata": {
    "collapsed": true
   },
   "outputs": [],
   "source": [
    "# single thread\n",
    "def vision(filenames):\n",
    "    url = 'https://cloud.google.com/vision/'\n",
    "\n",
    "    # open site\n",
    "    driver =  webdriver.Chrome()\n",
    "    driver.get(url)\n",
    "\n",
    "    # enter iframe\n",
    "    iframe = driver.find_element_by_css_selector(\"#vision_demo_section iframe\")\n",
    "    driver.switch_to_frame(iframe)\n",
    "    \n",
    "    for filename in filenames:\n",
    "    \n",
    "        # file upload\n",
    "        driver.find_element_by_id(\"input\").send_keys(filename)\n",
    "        resultData = {}\n",
    "\n",
    "        # check done analytics\n",
    "        delay = 0\n",
    "        for _ in range(60):\n",
    "            if driver.find_element_by_css_selector(\"#results\").text != '':\n",
    "                break\n",
    "            time.sleep(1)\n",
    "            delay += 1\n",
    "        print(\"Analytics Delay Time : {} sec\".format(delay))\n",
    "        \n",
    "        if delay >= 60:\n",
    "            continue\n",
    "        \n",
    "        # tab change (to Safe Search)\n",
    "        driver.find_element_by_css_selector('[data-type=\"safeSearchAnnotation\"]').click()\n",
    "        rows = driver.find_elements_by_css_selector('.row.style-scope.vs-safe')\n",
    "        \n",
    "        for row in rows:\n",
    "            for idx in range(len(rows)):\n",
    "                name = driver.find_elements_by_css_selector('.row.style-scope.vs-safe #label')[idx].text\n",
    "                state = driver.find_elements_by_css_selector('.row.style-scope.vs-safe #text')[idx].text\n",
    "                if \"Likely\" in state or \"Possible\" in state :\n",
    "                    state = 2\n",
    "                elif \"Very Unlikely\" in state:\n",
    "                    state = 0\n",
    "                elif \"Unlikely\" in state:\n",
    "                    state = 1\n",
    "                else:\n",
    "                    state = 10\n",
    "                resultData[name] = state\n",
    "      \n",
    "        print(resultData) \n",
    "        # close image\n",
    "        driver.find_element_by_css_selector(\"#exit\").click()\n",
    "    driver.close()\n",
    "    return resultData"
   ]
  },
  {
   "cell_type": "code",
   "execution_count": null,
   "metadata": {},
   "outputs": [],
   "source": [
    "%%time\n",
    "isDir, dirName = makeDir(youtube_url)\n",
    "start_term = 10 # 20초 후 부터 이미지 생성\n",
    "image_count = 20 # 10개의 이미지 생성\n",
    "save_term = 0.2 # 저장 텀\n",
    "saveImages(youtube_url, start_term, image_count, save_term, dirName)\n",
    "\n",
    "# make thumnail\n",
    "thumnails = makeTunmnail(image_count, dirName)"
   ]
  },
  {
   "cell_type": "code",
   "execution_count": null,
   "metadata": {
    "scrolled": false
   },
   "outputs": [],
   "source": [
    "%%time\n",
    "resultData = vision(thumnails)\n",
    "#result = vision2(thumnails)"
   ]
  },
  {
   "cell_type": "code",
   "execution_count": null,
   "metadata": {
    "collapsed": true
   },
   "outputs": [],
   "source": []
  }
 ],
 "metadata": {
  "kernelspec": {
   "display_name": "Python 3",
   "language": "python",
   "name": "python3"
  },
  "language_info": {
   "codemirror_mode": {
    "name": "ipython",
    "version": 3
   },
   "file_extension": ".py",
   "mimetype": "text/x-python",
   "name": "python",
   "nbconvert_exporter": "python",
   "pygments_lexer": "ipython3",
   "version": "3.6.1"
  }
 },
 "nbformat": 4,
 "nbformat_minor": 2
}
