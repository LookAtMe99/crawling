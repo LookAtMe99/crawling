{
 "cells": [
  {
   "cell_type": "markdown",
   "metadata": {},
   "source": [
    "# Crawling Whoscored Web Site\n",
    "- https://www.whoscored.com/"
   ]
  },
  {
   "cell_type": "code",
   "execution_count": 2,
   "metadata": {
    "collapsed": true
   },
   "outputs": [],
   "source": [
    "# import package\n",
    "import pandas as pd\n",
    "import time\n",
    "from selenium import webdriver"
   ]
  },
  {
   "cell_type": "code",
   "execution_count": 3,
   "metadata": {
    "collapsed": true
   },
   "outputs": [],
   "source": [
    "api_delay_term = 5"
   ]
  },
  {
   "cell_type": "code",
   "execution_count": 4,
   "metadata": {
    "collapsed": true
   },
   "outputs": [],
   "source": [
    "def str_to_zero(point):\n",
    "    return 0 if point == \"-\" else point"
   ]
  },
  {
   "cell_type": "code",
   "execution_count": 5,
   "metadata": {
    "collapsed": false
   },
   "outputs": [],
   "source": [
    "# cawling league & team id\n",
    "# parameter : team id\n",
    "# return : league teams & team id\n",
    "def crawling_league_teams(team_id):\n",
    "    url = \"https://www.whoscored.com/Teams/\" + str(team_id)\n",
    "    driver =  webdriver.PhantomJS()\n",
    "    driver.get(url)\n",
    "    time.sleep(api_delay_term)\n",
    "    team_names = driver.find_elements_by_css_selector(\"#teams option\")\n",
    "    \n",
    "    df = pd.DataFrame(columns=[\"team_id\",\"team_name\"])\n",
    "    \n",
    "    for team_name in team_names:\n",
    "        name = team_name.text \n",
    "        team_id = team_name.get_attribute(\"value\").split(\"/\")[2]\n",
    "        tmp_dict = {\"team_id\":team_id, \"team_name\":name }\n",
    "        df.loc[len(df)] = tmp_dict\n",
    "    driver.close()\n",
    "    return df"
   ]
  },
  {
   "cell_type": "code",
   "execution_count": 6,
   "metadata": {
    "collapsed": false
   },
   "outputs": [],
   "source": [
    "# team players summary list crawling\n",
    "# parameter : team id\n",
    "# return : pandas DataFrame : player summary features\n",
    "def crawling_player_summary(team_id):\n",
    "    url = \"https://www.whoscored.com/Teams/\" + str(team_id)\n",
    "    driver =  webdriver.PhantomJS()\n",
    "    driver.get(url)\n",
    "    time.sleep(api_delay_term)\n",
    "    elements = driver.find_elements_by_css_selector(\"#player-table-statistics-body tr\")\n",
    "    \n",
    "    df = pd.DataFrame(columns=[\n",
    "            'player_number', 'flag', 'name', 'age', 'position', 'tall', 'weight', 'full_time', 'half_time', 'mins', \n",
    "            'goals', 'asists', 'yel', 'red', 'spg', 'ps', 'motm', 'aw', 'rating',\n",
    "        ])\n",
    "    \n",
    "    for element in elements:\n",
    "\n",
    "        games = element.find_elements_by_css_selector(\"td\")[5].text\n",
    "        games = games.split(\"(\")\n",
    "        full_time, half_time = games[0], 0\n",
    "        if len(games) > 1 :\n",
    "            half_time = games[1].replace(\")\",\"\")\n",
    "        else :\n",
    "            half_time = 0\n",
    "\n",
    "        tmp_dict = { \n",
    "            \"player_number\": element.find_elements_by_css_selector(\"td\")[2].find_elements_by_css_selector(\"a\")[0].get_attribute(\"href\").split(\"/\")[4], \n",
    "            \"flag\": element.find_elements_by_css_selector(\"td\")[1].find_elements_by_css_selector(\"span\")[0].get_attribute(\"class\").split(\"-\")[2],\n",
    "            \"name\": element.find_elements_by_css_selector(\"td\")[2].find_elements_by_css_selector(\"a\")[0].text, \n",
    "            \"age\": element.find_elements_by_css_selector(\"td\")[2].find_elements_by_css_selector(\"span\")[0].text, \n",
    "            \"position\": element.find_elements_by_css_selector(\"td\")[2].find_elements_by_css_selector(\"span\")[1].text[1:], \n",
    "            \"tall\": element.find_elements_by_css_selector(\"td\")[3].text,\n",
    "            \"weight\": element.find_elements_by_css_selector(\"td\")[4].text, \n",
    "            \"full_time\": full_time,\n",
    "            \"half_time\": half_time,\n",
    "            \"mins\": str_to_zero(element.find_elements_by_css_selector(\"td\")[6].text),\n",
    "            \"goals\": str_to_zero(element.find_elements_by_css_selector(\"td\")[7].text),\n",
    "            \"asists\": str_to_zero(element.find_elements_by_css_selector(\"td\")[8].text),\n",
    "            \"yel\": str_to_zero(element.find_elements_by_css_selector(\"td\")[9].text),\n",
    "            \"red\": str_to_zero(element.find_elements_by_css_selector(\"td\")[10].text),\n",
    "            \"spg\": str_to_zero(element.find_elements_by_css_selector(\"td\")[11].text),\n",
    "            \"ps\": str_to_zero(element.find_elements_by_css_selector(\"td\")[12].text),\n",
    "            \"aw\": str_to_zero(element.find_elements_by_css_selector(\"td\")[13].text),\n",
    "            \"motm\": str_to_zero(element.find_elements_by_css_selector(\"td\")[14].text),\n",
    "            \"rating\": str_to_zero(element.find_elements_by_css_selector(\"td\")[15].text),\n",
    "        }\n",
    "        df.loc[len(df)] = tmp_dict\n",
    "    driver.close()\n",
    "    return df"
   ]
  },
  {
   "cell_type": "code",
   "execution_count": 7,
   "metadata": {
    "collapsed": false
   },
   "outputs": [],
   "source": [
    "# team players defensive list crawling\n",
    "# parameter : team id\n",
    "# return : pandas DataFrame : player defensive features\n",
    "def crawling_player_defensive(team_id):\n",
    "    url = \"https://www.whoscored.com/Teams/\" + str(team_id)\n",
    "    driver = webdriver.PhantomJS()\n",
    "    driver.get(url)\n",
    "    time.sleep(api_delay_term)\n",
    "    driver.find_elements_by_css_selector(\"#team-squad-stats-options .in-squad-detailed-view\")[0].find_element_by_css_selector(\"a\").click()\n",
    "    time.sleep(api_delay_term)\n",
    "    elements = driver.find_elements_by_css_selector(\"#team-squad-stats-defensive #player-table-statistics-body tr\")\n",
    "\n",
    "    df = pd.DataFrame(columns=[\n",
    "            \"player_number\", \"tackles\", \"inter\", \"fouls\", \"offsides\", \"clear\", \"drb\", \"blocks\", \"owng\"\n",
    "        ])\n",
    "\n",
    "    for element in elements:\n",
    "       \n",
    "        tmp_dict = {\n",
    "            \"player_number\": element.find_elements_by_css_selector(\"td\")[2].find_elements_by_css_selector(\"a\")[0].get_attribute(\"href\").split(\"/\")[4], \n",
    "            \"tackles\": str_to_zero(element.find_elements_by_css_selector(\"td\")[7].text), \n",
    "            \"inter\": str_to_zero(element.find_elements_by_css_selector(\"td\")[8].text), \n",
    "            \"fouls\": str_to_zero(element.find_elements_by_css_selector(\"td\")[9].text),\n",
    "            \"offsides\": str_to_zero(element.find_elements_by_css_selector(\"td\")[10].text),\n",
    "            \"clear\": str_to_zero(element.find_elements_by_css_selector(\"td\")[11].text),\n",
    "            \"drb\": str_to_zero(element.find_elements_by_css_selector(\"td\")[12].text),\n",
    "            \"blocks\": str_to_zero(element.find_elements_by_css_selector(\"td\")[13].text),\n",
    "            \"owng\": str_to_zero(element.find_elements_by_css_selector(\"td\")[14].text),\n",
    "        }\n",
    "        \n",
    "        df.loc[len(df)] = tmp_dict\n",
    "    driver.close()\n",
    "    return df"
   ]
  },
  {
   "cell_type": "code",
   "execution_count": 8,
   "metadata": {
    "collapsed": false
   },
   "outputs": [],
   "source": [
    "# team players offensive list crawling\n",
    "# parameter : team id\n",
    "# return : pandas DataFrame : player offensive features\n",
    "def crawling_player_offensive(team_id):\n",
    "    url = \"https://www.whoscored.com/Teams/\" + str(team_id)\n",
    "    driver = webdriver.PhantomJS()\n",
    "    driver.get(url)\n",
    "    time.sleep(api_delay_term)\n",
    "    driver.find_elements_by_css_selector(\"#team-squad-stats-options .in-squad-detailed-view\")[1].find_element_by_css_selector(\"a\").click()\n",
    "    time.sleep(api_delay_term)\n",
    "    elements = driver.find_elements_by_css_selector(\"#statistics-table-offensive #player-table-statistics-body tr\")\n",
    "\n",
    "    df = pd.DataFrame(columns=[\n",
    "            \"player_number\", \"keyp\", \"fouled\", \"off\", \"disp\", \"unstch\"\n",
    "        ])\n",
    "\n",
    "    for element in elements:\n",
    "       \n",
    "        tmp_dict = {\n",
    "            \"player_number\": element.find_elements_by_css_selector(\"td\")[2].find_elements_by_css_selector(\"a\")[0].get_attribute(\"href\").split(\"/\")[4], \n",
    "            \"keyp\": str_to_zero(element.find_elements_by_css_selector(\"td\")[10].text), \n",
    "            \"fouled\": str_to_zero(element.find_elements_by_css_selector(\"td\")[12].text), \n",
    "            \"off\": str_to_zero(element.find_elements_by_css_selector(\"td\")[13].text),\n",
    "            \"disp\": str_to_zero(element.find_elements_by_css_selector(\"td\")[14].text),\n",
    "            \"unstch\": str_to_zero(element.find_elements_by_css_selector(\"td\")[15].text),\n",
    "        }\n",
    "        \n",
    "        df.loc[len(df)] = tmp_dict\n",
    "    driver.close()\n",
    "    return df"
   ]
  },
  {
   "cell_type": "code",
   "execution_count": 9,
   "metadata": {
    "collapsed": false
   },
   "outputs": [],
   "source": [
    "# team players passing list crawling\n",
    "# parameter : team id\n",
    "# return : pandas DataFrame : player passing features\n",
    "def crawling_player_passing(team_id):\n",
    "    url = \"https://www.whoscored.com/Teams/\" + str(team_id)\n",
    "    driver = webdriver.PhantomJS()\n",
    "    driver.get(url)\n",
    "    time.sleep(api_delay_term)\n",
    "    driver.find_elements_by_css_selector(\"#team-squad-stats-options .in-squad-detailed-view\")[2].find_element_by_css_selector(\"a\").click()\n",
    "    time.sleep(api_delay_term)\n",
    "    elements = driver.find_elements_by_css_selector(\"#statistics-table-passing #player-table-statistics-body tr\")\n",
    "\n",
    "    df = pd.DataFrame(columns=[\n",
    "            \"player_number\", \"avgp\", \"ps\", \"crosses\", \"longb\", \"thrb\"\n",
    "        ])\n",
    "\n",
    "    for element in elements:\n",
    "       \n",
    "        tmp_dict = {\n",
    "            \"player_number\": element.find_elements_by_css_selector(\"td\")[2].find_elements_by_css_selector(\"a\")[0].get_attribute(\"href\").split(\"/\")[4], \n",
    "            \"avgp\": str_to_zero(element.find_elements_by_css_selector(\"td\")[8].text), \n",
    "            \"ps\": str_to_zero(element.find_elements_by_css_selector(\"td\")[9].text), \n",
    "            \"crosses\": str_to_zero(element.find_elements_by_css_selector(\"td\")[10].text),\n",
    "            \"longb\": str_to_zero(element.find_elements_by_css_selector(\"td\")[11].text),\n",
    "            \"thrb\": str_to_zero(element.find_elements_by_css_selector(\"td\")[12].text),\n",
    "        }\n",
    "        \n",
    "        df.loc[len(df)] = tmp_dict\n",
    "    driver.close()\n",
    "    return df"
   ]
  },
  {
   "cell_type": "code",
   "execution_count": 10,
   "metadata": {
    "collapsed": false
   },
   "outputs": [],
   "source": [
    "# 13 : Arsenal : Premier League\n",
    "# 87 : Juventus : Serie A\n",
    "# 52 : Real Madrid : La Liga\n",
    "# 37 : Bayern Munich : Bundesliga\n",
    "# 248 : Ligue 1 : Monaco\n",
    "# 129 : PSV Eindhoven : Eredivisie\n",
    "# 847 : CSKA Moscow : RussiaLeague\n",
    "\n",
    "# crawling league team data\n",
    "\n",
    "# LaLiga = crawling_league_teams(52)\n",
    "# LaLiga.to_csv(\"./league/LaLiga.csv\", index=False)\n",
    "\n",
    "# SerieA = crawling_league_teams(87)\n",
    "# SerieA.to_csv(\"./league/SerieA.csv\", index=False)\n",
    "\n",
    "# PremierLeague = crawling_league_teams(13)\n",
    "# PremierLeague.to_csv(\"./league/PremierLeague.csv\", index=False)\n",
    "\n",
    "# Bundesliga = crawling_league_teams(37)\n",
    "# Bundesliga.to_csv(\"./league/Bundesliga.csv\", index=False)\n",
    "\n",
    "# Ligue1 = crawling_league_teams(248)\n",
    "# Ligue1.to_csv(\"./league/Ligue1.csv\", index=False)\n",
    "\n",
    "# Eredivisie = crawling_league_teams(129)\n",
    "# Eredivisie.to_csv(\"./league/Eredivisie.csv\", index=False)\n",
    "\n",
    "# RussiaLeague = crawling_league_teams(847)\n",
    "# RussiaLeague.to_csv(\"./league/RussiaLeague.csv\", index=False)\n"
   ]
  },
  {
   "cell_type": "code",
   "execution_count": 11,
   "metadata": {
    "collapsed": false
   },
   "outputs": [],
   "source": [
    "# crawling & merge player datas\n",
    "def make_players_info(team_id, team_name):\n",
    "    print(team_id, team_name)\n",
    "    player_summary_df = crawling_player_summary(team_id)\n",
    "    player_defensive_df = crawling_player_defensive(team_id)\n",
    "    player_offensive_df = crawling_player_offensive(team_id)\n",
    "    player_passing_df = crawling_player_passing(team_id)\n",
    "    print(\"player crawling DONE\")\n",
    "    \n",
    "    sd = player_summary_df.merge(player_defensive_df, on=\"player_number\")\n",
    "    sdo = sd.merge(player_offensive_df, on=\"player_number\")\n",
    "    sdop = sdo.merge(player_passing_df, on=\"player_number\")\n",
    "    \n",
    "    sdop[\"team_name\"] = team_name\n",
    "    \n",
    "    print(len(sdop))\n",
    "    \n",
    "    return sdop"
   ]
  },
  {
   "cell_type": "code",
   "execution_count": 12,
   "metadata": {
    "collapsed": false
   },
   "outputs": [],
   "source": [
    "def save_player_info(league):\n",
    "    df = pd.read_csv(\"./league/\" + league + \".csv\")\n",
    "    for idx, row in df.iterrows():\n",
    "        players_df = make_players_info(row.team_id, row.team_name)\n",
    "        players_df.to_csv(\"./player/\" + league + \"/\" + row.team_name + \".csv\")\n",
    "        print(row.team_name) \n",
    "    print(league + \"Done\")"
   ]
  },
  {
   "cell_type": "code",
   "execution_count": 18,
   "metadata": {
    "collapsed": false
   },
   "outputs": [
    {
     "data": {
      "text/html": [
       "<div>\n",
       "<table border=\"1\" class=\"dataframe\">\n",
       "  <thead>\n",
       "    <tr style=\"text-align: right;\">\n",
       "      <th></th>\n",
       "      <th>team_id</th>\n",
       "      <th>team_name</th>\n",
       "    </tr>\n",
       "  </thead>\n",
       "  <tbody>\n",
       "    <tr>\n",
       "      <th>0</th>\n",
       "      <td>80</td>\n",
       "      <td>AC Milan</td>\n",
       "    </tr>\n",
       "    <tr>\n",
       "      <th>1</th>\n",
       "      <td>300</td>\n",
       "      <td>Atalanta</td>\n",
       "    </tr>\n",
       "    <tr>\n",
       "      <th>2</th>\n",
       "      <td>71</td>\n",
       "      <td>Bologna</td>\n",
       "    </tr>\n",
       "    <tr>\n",
       "      <th>3</th>\n",
       "      <td>9363</td>\n",
       "      <td>Carpi</td>\n",
       "    </tr>\n",
       "    <tr>\n",
       "      <th>4</th>\n",
       "      <td>267</td>\n",
       "      <td>Chievo</td>\n",
       "    </tr>\n",
       "    <tr>\n",
       "      <th>5</th>\n",
       "      <td>272</td>\n",
       "      <td>Empoli</td>\n",
       "    </tr>\n",
       "    <tr>\n",
       "      <th>6</th>\n",
       "      <td>73</td>\n",
       "      <td>Fiorentina</td>\n",
       "    </tr>\n",
       "    <tr>\n",
       "      <th>7</th>\n",
       "      <td>2732</td>\n",
       "      <td>Frosinone</td>\n",
       "    </tr>\n",
       "    <tr>\n",
       "      <th>8</th>\n",
       "      <td>278</td>\n",
       "      <td>Genoa</td>\n",
       "    </tr>\n",
       "    <tr>\n",
       "      <th>9</th>\n",
       "      <td>75</td>\n",
       "      <td>Inter</td>\n",
       "    </tr>\n",
       "    <tr>\n",
       "      <th>10</th>\n",
       "      <td>87</td>\n",
       "      <td>Juventus</td>\n",
       "    </tr>\n",
       "    <tr>\n",
       "      <th>11</th>\n",
       "      <td>77</td>\n",
       "      <td>Lazio</td>\n",
       "    </tr>\n",
       "    <tr>\n",
       "      <th>12</th>\n",
       "      <td>276</td>\n",
       "      <td>Napoli</td>\n",
       "    </tr>\n",
       "    <tr>\n",
       "      <th>13</th>\n",
       "      <td>1285</td>\n",
       "      <td>Palermo</td>\n",
       "    </tr>\n",
       "    <tr>\n",
       "      <th>14</th>\n",
       "      <td>84</td>\n",
       "      <td>Roma</td>\n",
       "    </tr>\n",
       "    <tr>\n",
       "      <th>15</th>\n",
       "      <td>271</td>\n",
       "      <td>Sampdoria</td>\n",
       "    </tr>\n",
       "    <tr>\n",
       "      <th>16</th>\n",
       "      <td>2889</td>\n",
       "      <td>Sassuolo</td>\n",
       "    </tr>\n",
       "    <tr>\n",
       "      <th>17</th>\n",
       "      <td>72</td>\n",
       "      <td>Torino</td>\n",
       "    </tr>\n",
       "    <tr>\n",
       "      <th>18</th>\n",
       "      <td>86</td>\n",
       "      <td>Udinese</td>\n",
       "    </tr>\n",
       "    <tr>\n",
       "      <th>19</th>\n",
       "      <td>76</td>\n",
       "      <td>Verona</td>\n",
       "    </tr>\n",
       "  </tbody>\n",
       "</table>\n",
       "</div>"
      ],
      "text/plain": [
       "    team_id   team_name\n",
       "0        80    AC Milan\n",
       "1       300    Atalanta\n",
       "2        71     Bologna\n",
       "3      9363       Carpi\n",
       "4       267      Chievo\n",
       "5       272      Empoli\n",
       "6        73  Fiorentina\n",
       "7      2732   Frosinone\n",
       "8       278       Genoa\n",
       "9        75       Inter\n",
       "10       87    Juventus\n",
       "11       77       Lazio\n",
       "12      276      Napoli\n",
       "13     1285     Palermo\n",
       "14       84        Roma\n",
       "15      271   Sampdoria\n",
       "16     2889    Sassuolo\n",
       "17       72      Torino\n",
       "18       86     Udinese\n",
       "19       76      Verona"
      ]
     },
     "execution_count": 18,
     "metadata": {},
     "output_type": "execute_result"
    }
   ],
   "source": [
    "# 팀별로 저장\n",
    "\n",
    "# PremierLeague, SerieA, LaLiga, Bundesliga, Ligue1, Eredivisie, RussiaLeague\n",
    "league = \"SerieA\"\n",
    "df = pd.read_csv(\"./league/\" + league + \".csv\")\n",
    "df"
   ]
  },
  {
   "cell_type": "code",
   "execution_count": null,
   "metadata": {
    "collapsed": false
   },
   "outputs": [
    {
     "name": "stdout",
     "output_type": "stream",
     "text": [
      "SerieA 71 Bologna\n",
      "71 Bologna\n"
     ]
    }
   ],
   "source": [
    "for idx, row in df[2:3].iterrows():\n",
    "    print(league, row.team_id, row.team_name)\n",
    "    tmp_def(league, row.team_id, row.team_name)\n",
    "    "
   ]
  },
  {
   "cell_type": "code",
   "execution_count": 14,
   "metadata": {
    "collapsed": true
   },
   "outputs": [],
   "source": [
    "def tmp_def(league, team_id, team_name):\n",
    "    start_time = time.time()\n",
    "    player_df = make_players_info(team_id, team_name)\n",
    "    print(\"excute_time : {time}\".format(time=(time.time() - start_time)))\n",
    "    player_df[\"league\"] = league\n",
    "    \n",
    "    path = \"./player/\" + league + \"/\" + team_name + \".csv\"\n",
    "    player_df.to_csv(path, index=False)\n",
    "    \n",
    "    tmp_df = pd.read_csv(path)"
   ]
  },
  {
   "cell_type": "code",
   "execution_count": null,
   "metadata": {
    "collapsed": false
   },
   "outputs": [],
   "source": [
    "# PremierLeague, SerieA, LaLiga, Bundesliga\n",
    "league = \"PremierLeague\"\n",
    "team_id = 14\n",
    "team_name = \"Leicester\"\n",
    "\n",
    "start_time = time.time()\n",
    "player_df = make_players_info(team_id, team_name)\n",
    "print(\"excute_time : {time}\".format(time=(time.time() - start_time)))\n",
    "player_df[\"league\"] = league"
   ]
  },
  {
   "cell_type": "code",
   "execution_count": null,
   "metadata": {
    "collapsed": true
   },
   "outputs": [],
   "source": [
    "path = \"./player/\" + league + \"/\" + team_name + \".csv\"\n",
    "player_df.to_csv(path, index=False)"
   ]
  },
  {
   "cell_type": "code",
   "execution_count": null,
   "metadata": {
    "collapsed": false
   },
   "outputs": [],
   "source": [
    "tmp_df = pd.read_csv(path)\n",
    "tmp_df.head()"
   ]
  },
  {
   "cell_type": "code",
   "execution_count": null,
   "metadata": {
    "collapsed": true
   },
   "outputs": [],
   "source": []
  },
  {
   "cell_type": "code",
   "execution_count": null,
   "metadata": {
    "collapsed": true
   },
   "outputs": [],
   "source": []
  },
  {
   "cell_type": "code",
   "execution_count": null,
   "metadata": {
    "collapsed": true
   },
   "outputs": [],
   "source": []
  },
  {
   "cell_type": "code",
   "execution_count": null,
   "metadata": {
    "collapsed": true
   },
   "outputs": [],
   "source": []
  },
  {
   "cell_type": "code",
   "execution_count": null,
   "metadata": {
    "collapsed": true
   },
   "outputs": [],
   "source": []
  },
  {
   "cell_type": "code",
   "execution_count": null,
   "metadata": {
    "collapsed": true
   },
   "outputs": [],
   "source": []
  },
  {
   "cell_type": "code",
   "execution_count": null,
   "metadata": {
    "collapsed": true
   },
   "outputs": [],
   "source": []
  },
  {
   "cell_type": "code",
   "execution_count": null,
   "metadata": {
    "collapsed": true
   },
   "outputs": [],
   "source": []
  }
 ],
 "metadata": {
  "kernelspec": {
   "display_name": "Python 3",
   "language": "python",
   "name": "python3"
  },
  "language_info": {
   "codemirror_mode": {
    "name": "ipython",
    "version": 3
   },
   "file_extension": ".py",
   "mimetype": "text/x-python",
   "name": "python",
   "nbconvert_exporter": "python",
   "pygments_lexer": "ipython3",
   "version": "3.5.1"
  }
 },
 "nbformat": 4,
 "nbformat_minor": 0
}
