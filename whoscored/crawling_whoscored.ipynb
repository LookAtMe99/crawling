{
 "cells": [
  {
   "cell_type": "markdown",
   "metadata": {},
   "source": [
    "# Crawling Whoscored Web Site\n",
    "- https://www.whoscored.com/"
   ]
  },
  {
   "cell_type": "code",
   "execution_count": 1,
   "metadata": {
    "collapsed": true
   },
   "outputs": [],
   "source": [
    "# import package\n",
    "import pandas as pd\n",
    "import time\n",
    "from selenium import webdriver"
   ]
  },
  {
   "cell_type": "code",
   "execution_count": 2,
   "metadata": {
    "collapsed": true
   },
   "outputs": [],
   "source": [
    "api_delay_term = 5"
   ]
  },
  {
   "cell_type": "code",
   "execution_count": 3,
   "metadata": {
    "collapsed": true
   },
   "outputs": [],
   "source": [
    "def str_to_zero(point):\n",
    "    return 0 if point == \"-\" else point"
   ]
  },
  {
   "cell_type": "code",
   "execution_count": 4,
   "metadata": {
    "collapsed": false
   },
   "outputs": [],
   "source": [
    "# cawling league & team id\n",
    "# parameter : team id\n",
    "# return : league teams & team id\n",
    "def crawling_league_teams(team_id):\n",
    "    url = \"https://www.whoscored.com/Teams/\" + str(team_id)\n",
    "    driver =  webdriver.PhantomJS()\n",
    "    driver.get(url)\n",
    "    time.sleep(api_delay_term)\n",
    "    team_names = driver.find_elements_by_css_selector(\"#teams option\")\n",
    "    \n",
    "    df = pd.DataFrame(columns=[\"team_id\",\"team_name\"])\n",
    "    \n",
    "    for team_name in team_names:\n",
    "        name = team_name.text \n",
    "        team_id = team_name.get_attribute(\"value\").split(\"/\")[2]\n",
    "        tmp_dict = {\"team_id\":team_id, \"team_name\":name }\n",
    "        df.loc[len(df)] = tmp_dict\n",
    "    return df"
   ]
  },
  {
   "cell_type": "code",
   "execution_count": 5,
   "metadata": {
    "collapsed": false
   },
   "outputs": [],
   "source": [
    "# team players summary list crawling\n",
    "# parameter : team id\n",
    "# return : pandas DataFrame : player summary features\n",
    "def crawling_player_summary(team_id):\n",
    "    url = \"https://www.whoscored.com/Teams/\" + str(team_id)\n",
    "    driver =  webdriver.PhantomJS()\n",
    "    driver.get(url)\n",
    "    time.sleep(api_delay_term)\n",
    "    elements = driver.find_elements_by_css_selector(\"#player-table-statistics-body tr\")\n",
    "    \n",
    "    df = pd.DataFrame(columns=[\n",
    "            'player_number', 'flag', 'name', 'age', 'position', 'tall', 'weight', 'full_time', 'half_time', 'mins', \n",
    "            'goals', 'asists', 'yel', 'red', 'spg', 'ps', 'motm', 'aw', 'rating',\n",
    "        ])\n",
    "    \n",
    "    for element in elements:\n",
    "\n",
    "        games = element.find_elements_by_css_selector(\"td\")[5].text\n",
    "        games = games.split(\"(\")\n",
    "        full_time, half_time = games[0], 0\n",
    "        if len(games) > 1 :\n",
    "            half_time = games[1].replace(\")\",\"\")\n",
    "        else :\n",
    "            half_time = 0\n",
    "\n",
    "        tmp_dict = { \n",
    "            \"player_number\": element.find_elements_by_css_selector(\"td\")[2].find_elements_by_css_selector(\"a\")[0].get_attribute(\"href\").split(\"/\")[4], \n",
    "            \"flag\": element.find_elements_by_css_selector(\"td\")[1].find_elements_by_css_selector(\"span\")[0].get_attribute(\"class\").split(\"-\")[2],\n",
    "            \"name\": element.find_elements_by_css_selector(\"td\")[2].find_elements_by_css_selector(\"a\")[0].text, \n",
    "            \"age\": element.find_elements_by_css_selector(\"td\")[2].find_elements_by_css_selector(\"span\")[0].text, \n",
    "            \"position\": element.find_elements_by_css_selector(\"td\")[2].find_elements_by_css_selector(\"span\")[1].text[1:], \n",
    "            \"tall\": element.find_elements_by_css_selector(\"td\")[3].text,\n",
    "            \"weight\": element.find_elements_by_css_selector(\"td\")[4].text, \n",
    "            \"full_time\": full_time,\n",
    "            \"half_time\": half_time,\n",
    "            \"mins\": str_to_zero(element.find_elements_by_css_selector(\"td\")[6].text),\n",
    "            \"goals\": str_to_zero(element.find_elements_by_css_selector(\"td\")[7].text),\n",
    "            \"asists\": str_to_zero(element.find_elements_by_css_selector(\"td\")[8].text),\n",
    "            \"yel\": str_to_zero(element.find_elements_by_css_selector(\"td\")[9].text),\n",
    "            \"red\": str_to_zero(element.find_elements_by_css_selector(\"td\")[10].text),\n",
    "            \"spg\": str_to_zero(element.find_elements_by_css_selector(\"td\")[11].text),\n",
    "            \"ps\": str_to_zero(element.find_elements_by_css_selector(\"td\")[12].text),\n",
    "            \"aw\": str_to_zero(element.find_elements_by_css_selector(\"td\")[13].text),\n",
    "            \"motm\": str_to_zero(element.find_elements_by_css_selector(\"td\")[14].text),\n",
    "            \"rating\": str_to_zero(element.find_elements_by_css_selector(\"td\")[15].text),\n",
    "        }\n",
    "        df.loc[len(df)] = tmp_dict\n",
    "    return df"
   ]
  },
  {
   "cell_type": "code",
   "execution_count": 6,
   "metadata": {
    "collapsed": false
   },
   "outputs": [],
   "source": [
    "# team players defensive list crawling\n",
    "# parameter : team id\n",
    "# return : pandas DataFrame : player defensive features\n",
    "def crawling_player_defensive(team_id):\n",
    "    url = \"https://www.whoscored.com/Teams/\" + str(team_id)\n",
    "    driver = webdriver.PhantomJS()\n",
    "    driver.get(url)\n",
    "    time.sleep(api_delay_term)\n",
    "    driver.find_elements_by_css_selector(\"#team-squad-stats-options .in-squad-detailed-view\")[0].find_element_by_css_selector(\"a\").click()\n",
    "    time.sleep(api_delay_term)\n",
    "    elements = driver.find_elements_by_css_selector(\"#team-squad-stats-defensive #player-table-statistics-body tr\")\n",
    "\n",
    "    df = pd.DataFrame(columns=[\n",
    "            \"player_number\", \"tackles\", \"inter\", \"fouls\", \"offsides\", \"clear\", \"drb\", \"blocks\", \"owng\"\n",
    "        ])\n",
    "\n",
    "    for element in elements:\n",
    "       \n",
    "        tmp_dict = {\n",
    "            \"player_number\": element.find_elements_by_css_selector(\"td\")[2].find_elements_by_css_selector(\"a\")[0].get_attribute(\"href\").split(\"/\")[4], \n",
    "            \"tackles\": str_to_zero(element.find_elements_by_css_selector(\"td\")[7].text), \n",
    "            \"inter\": str_to_zero(element.find_elements_by_css_selector(\"td\")[8].text), \n",
    "            \"fouls\": str_to_zero(element.find_elements_by_css_selector(\"td\")[9].text),\n",
    "            \"offsides\": str_to_zero(element.find_elements_by_css_selector(\"td\")[10].text),\n",
    "            \"clear\": str_to_zero(element.find_elements_by_css_selector(\"td\")[11].text),\n",
    "            \"drb\": str_to_zero(element.find_elements_by_css_selector(\"td\")[12].text),\n",
    "            \"blocks\": str_to_zero(element.find_elements_by_css_selector(\"td\")[13].text),\n",
    "            \"owng\": str_to_zero(element.find_elements_by_css_selector(\"td\")[14].text),\n",
    "        }\n",
    "        \n",
    "        df.loc[len(df)] = tmp_dict\n",
    "    return df"
   ]
  },
  {
   "cell_type": "code",
   "execution_count": 7,
   "metadata": {
    "collapsed": false
   },
   "outputs": [],
   "source": [
    "# team players offensive list crawling\n",
    "# parameter : team id\n",
    "# return : pandas DataFrame : player offensive features\n",
    "def crawling_player_offensive(team_id):\n",
    "    url = \"https://www.whoscored.com/Teams/\" + str(team_id)\n",
    "    driver = webdriver.PhantomJS()\n",
    "    driver.get(url)\n",
    "    time.sleep(api_delay_term)\n",
    "    driver.find_elements_by_css_selector(\"#team-squad-stats-options .in-squad-detailed-view\")[1].find_element_by_css_selector(\"a\").click()\n",
    "    time.sleep(api_delay_term)\n",
    "    elements = driver.find_elements_by_css_selector(\"#statistics-table-offensive #player-table-statistics-body tr\")\n",
    "\n",
    "    df = pd.DataFrame(columns=[\n",
    "            \"player_number\", \"keyp\", \"fouled\", \"off\", \"disp\", \"unstch\"\n",
    "        ])\n",
    "\n",
    "    for element in elements:\n",
    "       \n",
    "        tmp_dict = {\n",
    "            \"player_number\": element.find_elements_by_css_selector(\"td\")[2].find_elements_by_css_selector(\"a\")[0].get_attribute(\"href\").split(\"/\")[4], \n",
    "            \"keyp\": str_to_zero(element.find_elements_by_css_selector(\"td\")[10].text), \n",
    "            \"fouled\": str_to_zero(element.find_elements_by_css_selector(\"td\")[12].text), \n",
    "            \"off\": str_to_zero(element.find_elements_by_css_selector(\"td\")[13].text),\n",
    "            \"disp\": str_to_zero(element.find_elements_by_css_selector(\"td\")[14].text),\n",
    "            \"unstch\": str_to_zero(element.find_elements_by_css_selector(\"td\")[15].text),\n",
    "        }\n",
    "        \n",
    "        df.loc[len(df)] = tmp_dict\n",
    "    return df"
   ]
  },
  {
   "cell_type": "code",
   "execution_count": 8,
   "metadata": {
    "collapsed": false
   },
   "outputs": [],
   "source": [
    "# team players passing list crawling\n",
    "# parameter : team id\n",
    "# return : pandas DataFrame : player passing features\n",
    "def crawling_player_passing(team_id):\n",
    "    url = \"https://www.whoscored.com/Teams/\" + str(team_id)\n",
    "    driver = webdriver.PhantomJS()\n",
    "    driver.get(url)\n",
    "    time.sleep(api_delay_term)\n",
    "    driver.find_elements_by_css_selector(\"#team-squad-stats-options .in-squad-detailed-view\")[2].find_element_by_css_selector(\"a\").click()\n",
    "    time.sleep(api_delay_term)\n",
    "    elements = driver.find_elements_by_css_selector(\"#statistics-table-passing #player-table-statistics-body tr\")\n",
    "\n",
    "    df = pd.DataFrame(columns=[\n",
    "            \"player_number\", \"avgp\", \"ps\", \"crosses\", \"longb\", \"thrb\"\n",
    "        ])\n",
    "\n",
    "    for element in elements:\n",
    "       \n",
    "        tmp_dict = {\n",
    "            \"player_number\": element.find_elements_by_css_selector(\"td\")[2].find_elements_by_css_selector(\"a\")[0].get_attribute(\"href\").split(\"/\")[4], \n",
    "            \"avgp\": str_to_zero(element.find_elements_by_css_selector(\"td\")[8].text), \n",
    "            \"ps\": str_to_zero(element.find_elements_by_css_selector(\"td\")[9].text), \n",
    "            \"crosses\": str_to_zero(element.find_elements_by_css_selector(\"td\")[10].text),\n",
    "            \"longb\": str_to_zero(element.find_elements_by_css_selector(\"td\")[11].text),\n",
    "            \"thrb\": str_to_zero(element.find_elements_by_css_selector(\"td\")[12].text),\n",
    "        }\n",
    "        \n",
    "        df.loc[len(df)] = tmp_dict\n",
    "    return df"
   ]
  },
  {
   "cell_type": "code",
   "execution_count": 9,
   "metadata": {
    "collapsed": false
   },
   "outputs": [],
   "source": [
    "# 13 : Arsenal : Premier League\n",
    "# 87 : Juventus : Serie A\n",
    "# 52 : Real Madrid : La Liga\n",
    "# 37 : Bayern Munich : Bundesliga\n",
    "\n",
    "# crawling league team data\n",
    "\n",
    "# LaLiga = crawling_league_teams(52)\n",
    "# SerieA = crawling_league_teams(87)\n",
    "# PremierLeague = crawling_league_teams(13)\n",
    "# Bundesliga = crawling_league_teams(37)\n",
    "\n",
    "# LaLiga.to_csv(\"./league/LaLiga.csv\", index=False)\n",
    "# SerieA.to_csv(\"./league/SerieA.csv\", index=False)\n",
    "# PremierLeague.to_csv(\"./league/PremierLeague.csv\", index=False)\n",
    "# Bundesliga.to_csv(\"./league/Bundesliga.csv\", index=False)"
   ]
  },
  {
   "cell_type": "code",
   "execution_count": 15,
   "metadata": {
    "collapsed": false
   },
   "outputs": [],
   "source": [
    "# crawling & merge player datas\n",
    "def make_players_info(team_id, team_name):\n",
    "    print(team_id, team_name)\n",
    "    player_summary_df = crawling_player_summary(team_id)\n",
    "    print(\"player_summary\")\n",
    "    player_defensive_df = crawling_player_defensive(team_id)\n",
    "    print(\"player_defensive\")\n",
    "    player_offensive_df = crawling_player_offensive(team_id)\n",
    "    print(\"player_offensive\")\n",
    "    player_passing_df = crawling_player_passing(team_id)\n",
    "    print(\"player_passing\")\n",
    "    \n",
    "    print(\"player crawling DONE\")\n",
    "    \n",
    "    sd = player_summary_df.merge(player_defensive_df, on=\"player_number\")\n",
    "    sdo = sd.merge(player_offensive_df, on=\"player_number\")\n",
    "    sdop = sdo.merge(player_passing_df, on=\"player_number\")\n",
    "    \n",
    "    sdop[\"team_name\"] = team_name\n",
    "    \n",
    "    print(len(sdop))\n",
    "    \n",
    "    return sdop"
   ]
  },
  {
   "cell_type": "code",
   "execution_count": 11,
   "metadata": {
    "collapsed": false
   },
   "outputs": [],
   "source": [
    "def save_player_info(league):\n",
    "    df = pd.read_csv(\"./league/\" + league + \".csv\")\n",
    "    for idx, row in df.iterrows():\n",
    "        players_df = make_players_info(row.team_id, row.team_name)\n",
    "        players_df.to_csv(\"./player/\" + league + \"/\" + row.team_name + \".csv\")\n",
    "        print(row.team_name) \n",
    "    print(league + \"Done\")"
   ]
  },
  {
   "cell_type": "code",
   "execution_count": 13,
   "metadata": {
    "collapsed": false
   },
   "outputs": [
    {
     "data": {
      "text/html": [
       "<div>\n",
       "<table border=\"1\" class=\"dataframe\">\n",
       "  <thead>\n",
       "    <tr style=\"text-align: right;\">\n",
       "      <th></th>\n",
       "      <th>team_id</th>\n",
       "      <th>team_name</th>\n",
       "    </tr>\n",
       "  </thead>\n",
       "  <tbody>\n",
       "    <tr>\n",
       "      <th>0</th>\n",
       "      <td>13</td>\n",
       "      <td>Arsenal</td>\n",
       "    </tr>\n",
       "    <tr>\n",
       "      <th>1</th>\n",
       "      <td>24</td>\n",
       "      <td>Aston Villa</td>\n",
       "    </tr>\n",
       "    <tr>\n",
       "      <th>2</th>\n",
       "      <td>183</td>\n",
       "      <td>Bournemouth</td>\n",
       "    </tr>\n",
       "    <tr>\n",
       "      <th>3</th>\n",
       "      <td>15</td>\n",
       "      <td>Chelsea</td>\n",
       "    </tr>\n",
       "    <tr>\n",
       "      <th>4</th>\n",
       "      <td>162</td>\n",
       "      <td>Crystal Palace</td>\n",
       "    </tr>\n",
       "    <tr>\n",
       "      <th>5</th>\n",
       "      <td>31</td>\n",
       "      <td>Everton</td>\n",
       "    </tr>\n",
       "    <tr>\n",
       "      <th>6</th>\n",
       "      <td>14</td>\n",
       "      <td>Leicester</td>\n",
       "    </tr>\n",
       "    <tr>\n",
       "      <th>7</th>\n",
       "      <td>26</td>\n",
       "      <td>Liverpool</td>\n",
       "    </tr>\n",
       "    <tr>\n",
       "      <th>8</th>\n",
       "      <td>167</td>\n",
       "      <td>Manchester City</td>\n",
       "    </tr>\n",
       "    <tr>\n",
       "      <th>9</th>\n",
       "      <td>32</td>\n",
       "      <td>Manchester United</td>\n",
       "    </tr>\n",
       "    <tr>\n",
       "      <th>10</th>\n",
       "      <td>23</td>\n",
       "      <td>Newcastle United</td>\n",
       "    </tr>\n",
       "    <tr>\n",
       "      <th>11</th>\n",
       "      <td>168</td>\n",
       "      <td>Norwich</td>\n",
       "    </tr>\n",
       "    <tr>\n",
       "      <th>12</th>\n",
       "      <td>18</td>\n",
       "      <td>Southampton</td>\n",
       "    </tr>\n",
       "    <tr>\n",
       "      <th>13</th>\n",
       "      <td>96</td>\n",
       "      <td>Stoke</td>\n",
       "    </tr>\n",
       "    <tr>\n",
       "      <th>14</th>\n",
       "      <td>16</td>\n",
       "      <td>Sunderland</td>\n",
       "    </tr>\n",
       "    <tr>\n",
       "      <th>15</th>\n",
       "      <td>259</td>\n",
       "      <td>Swansea</td>\n",
       "    </tr>\n",
       "    <tr>\n",
       "      <th>16</th>\n",
       "      <td>30</td>\n",
       "      <td>Tottenham</td>\n",
       "    </tr>\n",
       "    <tr>\n",
       "      <th>17</th>\n",
       "      <td>27</td>\n",
       "      <td>Watford</td>\n",
       "    </tr>\n",
       "    <tr>\n",
       "      <th>18</th>\n",
       "      <td>175</td>\n",
       "      <td>West Bromwich Albion</td>\n",
       "    </tr>\n",
       "    <tr>\n",
       "      <th>19</th>\n",
       "      <td>29</td>\n",
       "      <td>West Ham</td>\n",
       "    </tr>\n",
       "  </tbody>\n",
       "</table>\n",
       "</div>"
      ],
      "text/plain": [
       "    team_id             team_name\n",
       "0        13               Arsenal\n",
       "1        24           Aston Villa\n",
       "2       183           Bournemouth\n",
       "3        15               Chelsea\n",
       "4       162        Crystal Palace\n",
       "5        31               Everton\n",
       "6        14             Leicester\n",
       "7        26             Liverpool\n",
       "8       167       Manchester City\n",
       "9        32     Manchester United\n",
       "10       23      Newcastle United\n",
       "11      168               Norwich\n",
       "12       18           Southampton\n",
       "13       96                 Stoke\n",
       "14       16            Sunderland\n",
       "15      259               Swansea\n",
       "16       30             Tottenham\n",
       "17       27               Watford\n",
       "18      175  West Bromwich Albion\n",
       "19       29              West Ham"
      ]
     },
     "execution_count": 13,
     "metadata": {},
     "output_type": "execute_result"
    }
   ],
   "source": [
    "# 팀별로 저장\n",
    "\n",
    "# PremierLeague, SerieA, LaLiga, Bundesliga\n",
    "df = pd.read_csv(\"./league/PremierLeague.csv\")\n",
    "\n",
    "df"
   ]
  },
  {
   "cell_type": "code",
   "execution_count": null,
   "metadata": {
    "collapsed": false
   },
   "outputs": [
    {
     "name": "stdout",
     "output_type": "stream",
     "text": [
      "30 Tottenham\n",
      "player_summary\n",
      "player_defensive\n",
      "player_offensive\n"
     ]
    }
   ],
   "source": [
    "# PremierLeague, SerieA, LaLiga, Bundesliga\n",
    "\n",
    "league = \"PremierLeague\"\n",
    "team_id = 30\n",
    "team_name = \"Tottenham\"\n",
    "\n",
    "start_time = time.time()\n",
    "player_df = make_players_info(team_id, team_name)\n",
    "print(\"excute_time : {time}\".format(time=(time.time() - start_time)))"
   ]
  },
  {
   "cell_type": "code",
   "execution_count": 31,
   "metadata": {
    "collapsed": true
   },
   "outputs": [],
   "source": [
    "player_df[\"league\"] = league"
   ]
  },
  {
   "cell_type": "code",
   "execution_count": 32,
   "metadata": {
    "collapsed": true
   },
   "outputs": [],
   "source": [
    "path = \"./player/\" + league + \"/\" + team_name + \".csv\"\n",
    "player_df.to_csv(path, index=False)"
   ]
  },
  {
   "cell_type": "code",
   "execution_count": 33,
   "metadata": {
    "collapsed": false
   },
   "outputs": [
    {
     "data": {
      "text/html": [
       "<div>\n",
       "<table border=\"1\" class=\"dataframe\">\n",
       "  <thead>\n",
       "    <tr style=\"text-align: right;\">\n",
       "      <th></th>\n",
       "      <th>player_number</th>\n",
       "      <th>flag</th>\n",
       "      <th>name</th>\n",
       "      <th>age</th>\n",
       "      <th>position</th>\n",
       "      <th>tall</th>\n",
       "      <th>weight</th>\n",
       "      <th>full_time</th>\n",
       "      <th>half_time</th>\n",
       "      <th>mins</th>\n",
       "      <th>...</th>\n",
       "      <th>off</th>\n",
       "      <th>disp</th>\n",
       "      <th>unstch</th>\n",
       "      <th>avgp</th>\n",
       "      <th>ps_y</th>\n",
       "      <th>crosses</th>\n",
       "      <th>longb</th>\n",
       "      <th>thrb</th>\n",
       "      <th>team_name</th>\n",
       "      <th>league</th>\n",
       "    </tr>\n",
       "  </thead>\n",
       "  <tbody>\n",
       "    <tr>\n",
       "      <th>0</th>\n",
       "      <td>25832</td>\n",
       "      <td>gb</td>\n",
       "      <td>Troy Deeney</td>\n",
       "      <td>27</td>\n",
       "      <td>FW</td>\n",
       "      <td>180</td>\n",
       "      <td>76</td>\n",
       "      <td>36</td>\n",
       "      <td>2</td>\n",
       "      <td>3293</td>\n",
       "      <td>...</td>\n",
       "      <td>0.5</td>\n",
       "      <td>1.6</td>\n",
       "      <td>1.8</td>\n",
       "      <td>1.5</td>\n",
       "      <td>34.0</td>\n",
       "      <td>60.9</td>\n",
       "      <td>0.0</td>\n",
       "      <td>0.9</td>\n",
       "      <td>Watford</td>\n",
       "      <td>PremierLeague</td>\n",
       "    </tr>\n",
       "    <tr>\n",
       "      <th>1</th>\n",
       "      <td>122945</td>\n",
       "      <td>nl</td>\n",
       "      <td>Nathan Aké</td>\n",
       "      <td>21</td>\n",
       "      <td>D(L),DMC</td>\n",
       "      <td>180</td>\n",
       "      <td>75</td>\n",
       "      <td>20</td>\n",
       "      <td>4</td>\n",
       "      <td>1875</td>\n",
       "      <td>...</td>\n",
       "      <td>0.0</td>\n",
       "      <td>0.1</td>\n",
       "      <td>0.8</td>\n",
       "      <td>0.4</td>\n",
       "      <td>25.4</td>\n",
       "      <td>72.7</td>\n",
       "      <td>0.2</td>\n",
       "      <td>1.3</td>\n",
       "      <td>Watford</td>\n",
       "      <td>PremierLeague</td>\n",
       "    </tr>\n",
       "    <tr>\n",
       "      <th>2</th>\n",
       "      <td>10133</td>\n",
       "      <td>br</td>\n",
       "      <td>Heurelho Gomes</td>\n",
       "      <td>35</td>\n",
       "      <td>GK</td>\n",
       "      <td>191</td>\n",
       "      <td>91</td>\n",
       "      <td>38</td>\n",
       "      <td>0</td>\n",
       "      <td>3397</td>\n",
       "      <td>...</td>\n",
       "      <td>0.0</td>\n",
       "      <td>0.0</td>\n",
       "      <td>0.0</td>\n",
       "      <td>0.0</td>\n",
       "      <td>25.2</td>\n",
       "      <td>46.4</td>\n",
       "      <td>0.0</td>\n",
       "      <td>9.1</td>\n",
       "      <td>Watford</td>\n",
       "      <td>PremierLeague</td>\n",
       "    </tr>\n",
       "    <tr>\n",
       "      <th>3</th>\n",
       "      <td>33590</td>\n",
       "      <td>fr</td>\n",
       "      <td>Etienne Capoue</td>\n",
       "      <td>27</td>\n",
       "      <td>D(C),M(C)</td>\n",
       "      <td>189</td>\n",
       "      <td>80</td>\n",
       "      <td>33</td>\n",
       "      <td>0</td>\n",
       "      <td>2822</td>\n",
       "      <td>...</td>\n",
       "      <td>0.1</td>\n",
       "      <td>1.4</td>\n",
       "      <td>1.3</td>\n",
       "      <td>0.7</td>\n",
       "      <td>46.8</td>\n",
       "      <td>79.2</td>\n",
       "      <td>0.2</td>\n",
       "      <td>3.4</td>\n",
       "      <td>Watford</td>\n",
       "      <td>PremierLeague</td>\n",
       "    </tr>\n",
       "    <tr>\n",
       "      <th>4</th>\n",
       "      <td>31376</td>\n",
       "      <td>ng</td>\n",
       "      <td>Odion Ighalo</td>\n",
       "      <td>27</td>\n",
       "      <td>AM(C),FW</td>\n",
       "      <td>188</td>\n",
       "      <td>70</td>\n",
       "      <td>36</td>\n",
       "      <td>1</td>\n",
       "      <td>3153</td>\n",
       "      <td>...</td>\n",
       "      <td>0.7</td>\n",
       "      <td>2.2</td>\n",
       "      <td>2.8</td>\n",
       "      <td>1.0</td>\n",
       "      <td>19.5</td>\n",
       "      <td>75.9</td>\n",
       "      <td>0.1</td>\n",
       "      <td>0.2</td>\n",
       "      <td>Watford</td>\n",
       "      <td>PremierLeague</td>\n",
       "    </tr>\n",
       "  </tbody>\n",
       "</table>\n",
       "<p>5 rows × 39 columns</p>\n",
       "</div>"
      ],
      "text/plain": [
       "   player_number flag            name  age    position  tall  weight  \\\n",
       "0          25832   gb     Troy Deeney   27          FW   180      76   \n",
       "1         122945   nl      Nathan Aké   21    D(L),DMC   180      75   \n",
       "2          10133   br  Heurelho Gomes   35          GK   191      91   \n",
       "3          33590   fr  Etienne Capoue   27   D(C),M(C)   189      80   \n",
       "4          31376   ng    Odion Ighalo   27    AM(C),FW   188      70   \n",
       "\n",
       "   full_time  half_time  mins      ...        off  disp  unstch  avgp  ps_y  \\\n",
       "0         36          2  3293      ...        0.5   1.6     1.8   1.5  34.0   \n",
       "1         20          4  1875      ...        0.0   0.1     0.8   0.4  25.4   \n",
       "2         38          0  3397      ...        0.0   0.0     0.0   0.0  25.2   \n",
       "3         33          0  2822      ...        0.1   1.4     1.3   0.7  46.8   \n",
       "4         36          1  3153      ...        0.7   2.2     2.8   1.0  19.5   \n",
       "\n",
       "   crosses  longb  thrb  team_name         league  \n",
       "0     60.9    0.0   0.9    Watford  PremierLeague  \n",
       "1     72.7    0.2   1.3    Watford  PremierLeague  \n",
       "2     46.4    0.0   9.1    Watford  PremierLeague  \n",
       "3     79.2    0.2   3.4    Watford  PremierLeague  \n",
       "4     75.9    0.1   0.2    Watford  PremierLeague  \n",
       "\n",
       "[5 rows x 39 columns]"
      ]
     },
     "execution_count": 33,
     "metadata": {},
     "output_type": "execute_result"
    }
   ],
   "source": [
    "tmp_df = pd.read_csv(path)\n",
    "tmp_df.head()"
   ]
  },
  {
   "cell_type": "code",
   "execution_count": null,
   "metadata": {
    "collapsed": true
   },
   "outputs": [],
   "source": []
  },
  {
   "cell_type": "code",
   "execution_count": null,
   "metadata": {
    "collapsed": true
   },
   "outputs": [],
   "source": []
  },
  {
   "cell_type": "code",
   "execution_count": null,
   "metadata": {
    "collapsed": true
   },
   "outputs": [],
   "source": []
  },
  {
   "cell_type": "code",
   "execution_count": null,
   "metadata": {
    "collapsed": true
   },
   "outputs": [],
   "source": []
  },
  {
   "cell_type": "code",
   "execution_count": null,
   "metadata": {
    "collapsed": true
   },
   "outputs": [],
   "source": []
  },
  {
   "cell_type": "code",
   "execution_count": null,
   "metadata": {
    "collapsed": true
   },
   "outputs": [],
   "source": []
  },
  {
   "cell_type": "code",
   "execution_count": null,
   "metadata": {
    "collapsed": true
   },
   "outputs": [],
   "source": []
  },
  {
   "cell_type": "code",
   "execution_count": null,
   "metadata": {
    "collapsed": true
   },
   "outputs": [],
   "source": []
  }
 ],
 "metadata": {
  "kernelspec": {
   "display_name": "Python 3",
   "language": "python",
   "name": "python3"
  },
  "language_info": {
   "codemirror_mode": {
    "name": "ipython",
    "version": 3
   },
   "file_extension": ".py",
   "mimetype": "text/x-python",
   "name": "python",
   "nbconvert_exporter": "python",
   "pygments_lexer": "ipython3",
   "version": "3.5.1"
  }
 },
 "nbformat": 4,
 "nbformat_minor": 0
}
