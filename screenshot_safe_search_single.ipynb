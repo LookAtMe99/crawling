{
 "cells": [
  {
   "cell_type": "code",
   "execution_count": 1,
   "metadata": {
    "collapsed": true
   },
   "outputs": [],
   "source": [
    "from selenium import webdriver\n",
    "import base64, pickle, time, os\n",
    "from IPython.display import Image\n",
    "from IPython.display import display\n",
    "from PIL import Image as pil\n",
    "from selenium.webdriver.chrome.options import Options"
   ]
  },
  {
   "cell_type": "code",
   "execution_count": 2,
   "metadata": {
    "collapsed": true
   },
   "outputs": [],
   "source": [
    "def checkElement(driver, selector):\n",
    "    result = True\n",
    "    try:\n",
    "        driver.find_element_by_css_selector(selector)\n",
    "    except:\n",
    "        result = False\n",
    "    return result"
   ]
  },
  {
   "cell_type": "code",
   "execution_count": 3,
   "metadata": {
    "collapsed": true
   },
   "outputs": [],
   "source": [
    "def run():\n",
    "    \n",
    "    resultData = {}\n",
    " \n",
    "    rows = driver.find_elements_by_css_selector('.row.style-scope.vs-safe')\n",
    "    for row in rows:\n",
    "        for idx in range(len(rows)):\n",
    "            name = driver.find_elements_by_css_selector('.row.style-scope.vs-safe #label')[idx].text\n",
    "            state = driver.find_elements_by_css_selector('.row.style-scope.vs-safe #text')[idx].text\n",
    "            if \"Likely\" in state or \"Possible\" in state :\n",
    "                state = 2\n",
    "            elif \"Unlikely\" in state:\n",
    "                state = 1\n",
    "            else:\n",
    "                state = 0\n",
    "            resultData[name] = state\n",
    "    \n",
    "    return resultData"
   ]
  },
  {
   "cell_type": "code",
   "execution_count": 6,
   "metadata": {},
   "outputs": [
    {
     "data": {
      "text/plain": [
       "{'Adult': 1, 'Medical': 1, 'Spoof': 1, 'Violence': 1}"
      ]
     },
     "execution_count": 6,
     "metadata": {},
     "output_type": "execute_result"
    }
   ],
   "source": [
    "# single thread\n",
    "#def vision(filenames):\n",
    "url = 'https://cloud.google.com/vision/'\n",
    "\n",
    "# open site\n",
    "driver =  webdriver.Chrome()\n",
    "driver.get(url)\n",
    "\n",
    "# enter iframe\n",
    "iframe = driver.find_element_by_css_selector(\"#vision_demo_section iframe\")\n",
    "driver.switch_to_frame(iframe)\n",
    "\n",
    "#for filename in filenames:\n",
    "filename = 'C:/Users/hjnam/study/crawling/data/images3/screenshot9.png'\n",
    "    # file upload\n",
    "driver.find_element_by_id(\"input\").send_keys(filename)\n",
    "\n",
    "delay = 0\n",
    "for _ in range(60):\n",
    "    if driver.find_element_by_css_selector(\"#results\").text != '':\n",
    "        break\n",
    "    time.sleep(1)\n",
    "    delay += 1\n",
    "     \n",
    "\n",
    "driver.find_element_by_css_selector('[data-type=\"safeSearchAnnotation\"]').click()\n",
    "resultData = run()\n",
    "\n",
    "# close image\n",
    "driver.find_element_by_css_selector(\"#exit\").click()\n",
    "driver.close()\n",
    "resultData\n",
    "#return result"
   ]
  },
  {
   "cell_type": "code",
   "execution_count": null,
   "metadata": {
    "collapsed": true
   },
   "outputs": [],
   "source": []
  }
 ],
 "metadata": {
  "kernelspec": {
   "display_name": "Python 3",
   "language": "python",
   "name": "python3"
  },
  "language_info": {
   "codemirror_mode": {
    "name": "ipython",
    "version": 3
   },
   "file_extension": ".py",
   "mimetype": "text/x-python",
   "name": "python",
   "nbconvert_exporter": "python",
   "pygments_lexer": "ipython3",
   "version": "3.6.1"
  }
 },
 "nbformat": 4,
 "nbformat_minor": 2
}
