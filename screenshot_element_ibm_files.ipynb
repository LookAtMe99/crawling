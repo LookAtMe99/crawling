{
 "cells": [
  {
   "cell_type": "code",
   "execution_count": null,
   "metadata": {
    "collapsed": true
   },
   "outputs": [],
   "source": [
    "from selenium import webdriver\n",
    "import base64, pickle, time, os\n",
    "from IPython.display import Image\n",
    "from IPython.display import display\n",
    "from PIL import Image as pil\n",
    "from selenium.webdriver.chrome.options import Options"
   ]
  },
  {
   "cell_type": "markdown",
   "metadata": {},
   "source": [
    "### 1. Get Youtube Images"
   ]
  },
  {
   "cell_type": "markdown",
   "metadata": {},
   "source": [
    "##### (1) Get Youtube Driver & Save Element Screen"
   ]
  },
  {
   "cell_type": "code",
   "execution_count": null,
   "metadata": {
    "collapsed": true
   },
   "outputs": [],
   "source": [
    "def getDriver(youtube_url):\n",
    "    chrome_options = Options()\n",
    "    chrome_options.add_argument(\"--window-size=1920,1080\")\n",
    "    driver = webdriver.Chrome(chrome_options=chrome_options)\n",
    "#    driver =  webdriver.Chrome()\n",
    "    driver.get(youtube_url)\n",
    "    return driver\n",
    "\n",
    "def saveScreen(driver, filename):\n",
    "    element = driver.find_element_by_css_selector('#movie_player')\n",
    "    location = element.location\n",
    "    size = element.size\n",
    "    driver.save_screenshot('screenshot.png')\n",
    "    im = pil.open('screenshot.png')\n",
    "    \n",
    "    left = location['x']\n",
    "    top = location['y']\n",
    "    right = left + size['width']\n",
    "    bottom = top + size['height']\n",
    "\n",
    "    # left, top, right, bottom\n",
    "    im = im.crop((left, top, right, bottom)) \n",
    "    im.save(filename) "
   ]
  },
  {
   "cell_type": "markdown",
   "metadata": {},
   "source": [
    "##### (2) Check Element"
   ]
  },
  {
   "cell_type": "code",
   "execution_count": null,
   "metadata": {
    "collapsed": true
   },
   "outputs": [],
   "source": [
    "def checkElement(driver, selector):\n",
    "    result = True\n",
    "    try:\n",
    "        driver.find_element_by_css_selector(selector)\n",
    "    except:\n",
    "        result = False\n",
    "    return result"
   ]
  },
  {
   "cell_type": "markdown",
   "metadata": {},
   "source": [
    "##### (3) Skip Ad"
   ]
  },
  {
   "cell_type": "code",
   "execution_count": null,
   "metadata": {
    "collapsed": true
   },
   "outputs": [],
   "source": [
    "skipAd_selector = \".videoAdUiSkipButton.videoAdUiAction.videoAdUiFixedPaddingSkipButton\"\n",
    "closeAd_selector = \".adDisplay.extra-padding .close-button\"\n",
    "\n",
    "def skipAd(driver):\n",
    "    if checkElement(driver, skipAd_selector):\n",
    "        driver.find_element_by_css_selector(skipAd_selector).click()\n",
    "    \n",
    "def closeAd(driver):\n",
    "    if checkElement(driver, closeAd_selector):\n",
    "        driver.find_element_by_css_selector(closeAd_selector).click()"
   ]
  },
  {
   "cell_type": "markdown",
   "metadata": {},
   "source": [
    "##### (4) Make Directory"
   ]
  },
  {
   "cell_type": "code",
   "execution_count": null,
   "metadata": {
    "collapsed": true
   },
   "outputs": [],
   "source": [
    "def makeDir(youtube_url):\n",
    "    dirList = os.listdir(\"data/images/\")\n",
    "    dirName = youtube_url.split(\"v=\")[1]\n",
    "    isDir = True\n",
    "    if dirName not in dirList:\n",
    "        os.makedirs(\"data/images/\" + dirName)\n",
    "        isDir = False\n",
    "    return isDir, dirName"
   ]
  },
  {
   "cell_type": "markdown",
   "metadata": {},
   "source": [
    "##### (5) Save Images"
   ]
  },
  {
   "cell_type": "code",
   "execution_count": null,
   "metadata": {
    "collapsed": true
   },
   "outputs": [],
   "source": [
    "def saveImages(youtube_url, start_term, image_count, save_term):\n",
    "    \n",
    "    # open driver\n",
    "    driver = getDriver(youtube_url)\n",
    "\n",
    "    # skip ad\n",
    "    time.sleep(6)\n",
    "    skipAd(driver)\n",
    "\n",
    "    # save images\n",
    "    time.sleep(start_term)\n",
    "    for idx in range(1, image_count+1):\n",
    "        saveScreen(driver, 'data/images/' + dirName + '/screenshot' + str(idx) + '.png')\n",
    "        time.sleep(save_term)\n",
    "        print('saved : screenshot' + str(idx) + '.png')\n",
    "    # close driver\n",
    "    driver.close()"
   ]
  },
  {
   "cell_type": "markdown",
   "metadata": {},
   "source": [
    "##### (6) resize images"
   ]
  },
  {
   "cell_type": "code",
   "execution_count": null,
   "metadata": {
    "collapsed": true
   },
   "outputs": [],
   "source": [
    "def makeTunmnail(image_count, dirName):\n",
    "# make image list\n",
    "    filenames = []\n",
    "    for idx in range(1, image_count + 1):\n",
    "        filename = 'C:/Users/hjnam/study/crawling/data/images/' + dirName  + '/screenshot' + str(idx) + '.png'\n",
    "        filenames.append(filename)\n",
    "\n",
    "    # make thumnail\n",
    "    size = (512, 512)\n",
    "    thumnails = []\n",
    "    for filename in filenames:\n",
    "        im = pil.open(filename)\n",
    "        im.thumbnail(size)\n",
    "        savename = filename.split(\"/\")\n",
    "        savename[len(savename)-1] = savename[len(savename)-1].replace(\".png\",\"_thumbnail.png\")\n",
    "        savename = \"/\".join(savename)\n",
    "        im.save(savename, \"png\")\n",
    "        thumnails.append(savename)\n",
    "        \n",
    "    return thumnails"
   ]
  },
  {
   "cell_type": "code",
   "execution_count": null,
   "metadata": {
    "collapsed": true
   },
   "outputs": [],
   "source": [
    "youtube_url = \"https://www.youtube.com/watch?v=xyq2T_K6DHg\" # 이미지 생성 youtube URL \n",
    "\n",
    "# 도깨비 \n",
    "# youtube_url = \"https://www.youtube.com/watch?v=2kZg7byEYGA\""
   ]
  },
  {
   "cell_type": "code",
   "execution_count": null,
   "metadata": {},
   "outputs": [],
   "source": [
    "%%time\n",
    "isDir, dirName = makeDir(youtube_url)\n",
    "start_term = 5 # 20초 후 부터 이미지 생성\n",
    "image_count = 15 # 10개의 이미지 생성\n",
    "save_term = 0.1 # 저장 텀\n",
    "saveImages(youtube_url, start_term, image_count, save_term)\n",
    "\n",
    "thumnails = makeTunmnail(image_count, dirName)"
   ]
  },
  {
   "cell_type": "markdown",
   "metadata": {},
   "source": [
    "### 2. IBM Wasson API"
   ]
  },
  {
   "cell_type": "code",
   "execution_count": null,
   "metadata": {
    "collapsed": true
   },
   "outputs": [],
   "source": [
    "url = 'https://visual-recognition-demo.mybluemix.net/'"
   ]
  },
  {
   "cell_type": "code",
   "execution_count": null,
   "metadata": {
    "collapsed": true
   },
   "outputs": [],
   "source": [
    "def wasson(filenames):\n",
    "\n",
    "    # open site\n",
    "    driver =  webdriver.Chrome()\n",
    "    driver.get(url)\n",
    "\n",
    "    # input file\n",
    "    driver.find_element_by_css_selector(\".use--file-input-button-text\")\n",
    "      \n",
    "    for filename in filenames:\n",
    "    \n",
    "        # file upload\n",
    "        driver.find_element_by_id(\"use--file\").send_keys(filename)\n",
    "\n",
    "        resultData = {}\n",
    "\n",
    "        # check done analytics\n",
    "        for _ in range(30):\n",
    "            if checkElement(driver, \".results-table--container\"):\n",
    "#                resultData = run()\n",
    "                def makeData(element):\n",
    "                    # make datas\n",
    "                    results = element.find_elements_by_css_selector(\".base--tr\")        \n",
    "                    data = {}\n",
    "                    for result in results:\n",
    "                        if checkElement(result, \".result--class\"):\n",
    "                            key = result.find_element_by_css_selector(\".result--class\").text\n",
    "                            value = result.find_element_by_css_selector(\".result--score .results-table--score-value\").text\n",
    "                            data[key] = value\n",
    "                        else:\n",
    "                            break\n",
    "#                    print(data)\n",
    "                    return data\n",
    "\n",
    "\n",
    "                containers = driver.find_elements_by_css_selector(\".results-table--container\")\n",
    "\n",
    "                for container in containers:\n",
    "\n",
    "                    label = container.find_elements_by_css_selector(\".base--thead .base--th.results-table--header\")[0]    \n",
    "                    elements = container.find_elements_by_css_selector(\"table tbody\")\n",
    "\n",
    "                    if label.text == \"Faces\":\n",
    "                        data = []\n",
    "                        for idx in range(len(elements) - 1):\n",
    "                            data.append(makeData(elements[idx]))\n",
    "                        resultData[label.text] = data\n",
    "                    else: #label.text == \"Classes\" or label.text == \"Food\":\n",
    "                        data = makeData(elements[0])\n",
    "                        resultData[label.text] = data\n",
    "                print(resultData)\n",
    "                break\n",
    "            else:\n",
    "                time.sleep(1)\n",
    "\n",
    "    driver.close()\n",
    "    return resultData"
   ]
  },
  {
   "cell_type": "code",
   "execution_count": null,
   "metadata": {
    "scrolled": false
   },
   "outputs": [],
   "source": [
    "%%time\n",
    "result = wasson(thumnails)"
   ]
  },
  {
   "cell_type": "code",
   "execution_count": null,
   "metadata": {
    "collapsed": true
   },
   "outputs": [],
   "source": []
  }
 ],
 "metadata": {
  "kernelspec": {
   "display_name": "Python 3",
   "language": "python",
   "name": "python3"
  },
  "language_info": {
   "codemirror_mode": {
    "name": "ipython",
    "version": 3
   },
   "file_extension": ".py",
   "mimetype": "text/x-python",
   "name": "python",
   "nbconvert_exporter": "python",
   "pygments_lexer": "ipython3",
   "version": "3.6.1"
  }
 },
 "nbformat": 4,
 "nbformat_minor": 2
}
